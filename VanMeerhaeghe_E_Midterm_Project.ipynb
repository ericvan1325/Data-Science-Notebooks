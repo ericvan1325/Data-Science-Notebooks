{
 "cells": [
  {
   "cell_type": "markdown",
   "metadata": {},
   "source": [
    "# Midterm Project"
   ]
  },
  {
   "cell_type": "markdown",
   "metadata": {},
   "source": [
    "## Section 1: Business Understanding"
   ]
  },
  {
   "cell_type": "markdown",
   "metadata": {},
   "source": [
    "##### Article 1: http://iopscience.iop.org/article/10.1088/1742-6596/1000/1/012100/pdf\n",
    "\n",
    "1. This article talks about the methods of analysis that this group of researchers used to analyze data from IMDB so that they could try to predict the success of movies that come out in the future. Some of the questions they tried to answer were if a certain actor or actress appearing in the film was likely to help or hurt the film, if budget played a role in determining the success of a movie, or if the director of the film made a difference.\n",
    "\n",
    "2. The text mining methods used in this analysis were SVMs and Bayesian Belief Networks.\n"
   ]
  },
  {
   "cell_type": "markdown",
   "metadata": {},
   "source": [
    "##### Article 2: http://usir.salford.ac.uk/18838/1/Wessex_movie.pdf:public\n",
    "\n",
    "1. This article discusses much of the same topics covered in article 1, namely what factors are or are not predictors of a movie's success. They came to the same conclusions, that films have decreased in quality over time, and that the actors and directors involved in the movie matter, and that the budget is no indication of the success of the movie.\n",
    "\n",
    "2. They used decision tree clasifiers to predict if a movie was successful or not based on their own predefined criteria."
   ]
  },
  {
   "cell_type": "markdown",
   "metadata": {},
   "source": [
    "##### Article 3: https://rstudio-pubs-static.s3.amazonaws.com/312312_84d8c79cbf59427a865aa5185593360a.html\n",
    "\n",
    "1. This person performed their analysis in R, and they also came to the same conclusions as the other two articles and they tried to answer the same questions as well.\n",
    "\n",
    "2. The techniques that this person used were some that we have used in class, including wordcloud analysis and word frequency analysis."
   ]
  },
  {
   "cell_type": "markdown",
   "metadata": {},
   "source": [
    "## Section 2: Data Understanding\n"
   ]
  },
  {
   "cell_type": "code",
   "execution_count": 3,
   "metadata": {},
   "outputs": [],
   "source": [
    "#Importing the necessary libraries\n",
    "import requests\n",
    "from lxml import html\n",
    "import csv\n",
    "import pandas as pd\n",
    "import re\n",
    "from PIL import Image\n",
    "import numpy as np\n",
    "from wordcloud import WordCloud, STOPWORDS, ImageColorGenerator\n",
    "from pattern.en import sentiment\n",
    "import nltk\n",
    "from nltk.corpus import stopwords\n",
    "import matplotlib.pyplot as plt\n",
    "%matplotlib inline"
   ]
  },
  {
   "cell_type": "code",
   "execution_count": 4,
   "metadata": {},
   "outputs": [
    {
     "data": {
      "text/html": [
       "<div>\n",
       "<style scoped>\n",
       "    .dataframe tbody tr th:only-of-type {\n",
       "        vertical-align: middle;\n",
       "    }\n",
       "\n",
       "    .dataframe tbody tr th {\n",
       "        vertical-align: top;\n",
       "    }\n",
       "\n",
       "    .dataframe thead th {\n",
       "        text-align: right;\n",
       "    }\n",
       "</style>\n",
       "<table border=\"1\" class=\"dataframe\">\n",
       "  <thead>\n",
       "    <tr style=\"text-align: right;\">\n",
       "      <th></th>\n",
       "      <th>color</th>\n",
       "      <th>director_name</th>\n",
       "      <th>num_critic_for_reviews</th>\n",
       "      <th>duration</th>\n",
       "      <th>director_facebook_likes</th>\n",
       "      <th>actor_3_facebook_likes</th>\n",
       "      <th>actor_2_name</th>\n",
       "      <th>actor_1_facebook_likes</th>\n",
       "      <th>gross</th>\n",
       "      <th>genres</th>\n",
       "      <th>...</th>\n",
       "      <th>num_user_for_reviews</th>\n",
       "      <th>language</th>\n",
       "      <th>country</th>\n",
       "      <th>content_rating</th>\n",
       "      <th>budget</th>\n",
       "      <th>title_year</th>\n",
       "      <th>actor_2_facebook_likes</th>\n",
       "      <th>imdb_score</th>\n",
       "      <th>aspect_ratio</th>\n",
       "      <th>movie_facebook_likes</th>\n",
       "    </tr>\n",
       "  </thead>\n",
       "  <tbody>\n",
       "    <tr>\n",
       "      <th>0</th>\n",
       "      <td>Color</td>\n",
       "      <td>James Cameron</td>\n",
       "      <td>723.0</td>\n",
       "      <td>178.0</td>\n",
       "      <td>0.0</td>\n",
       "      <td>855.0</td>\n",
       "      <td>Joel David Moore</td>\n",
       "      <td>1000.0</td>\n",
       "      <td>760505847.0</td>\n",
       "      <td>Action|Adventure|Fantasy|Sci-Fi</td>\n",
       "      <td>...</td>\n",
       "      <td>3054.0</td>\n",
       "      <td>English</td>\n",
       "      <td>USA</td>\n",
       "      <td>PG-13</td>\n",
       "      <td>237000000.0</td>\n",
       "      <td>2009.0</td>\n",
       "      <td>936.0</td>\n",
       "      <td>7.9</td>\n",
       "      <td>1.78</td>\n",
       "      <td>33000</td>\n",
       "    </tr>\n",
       "    <tr>\n",
       "      <th>1</th>\n",
       "      <td>Color</td>\n",
       "      <td>Gore Verbinski</td>\n",
       "      <td>302.0</td>\n",
       "      <td>169.0</td>\n",
       "      <td>563.0</td>\n",
       "      <td>1000.0</td>\n",
       "      <td>Orlando Bloom</td>\n",
       "      <td>40000.0</td>\n",
       "      <td>309404152.0</td>\n",
       "      <td>Action|Adventure|Fantasy</td>\n",
       "      <td>...</td>\n",
       "      <td>1238.0</td>\n",
       "      <td>English</td>\n",
       "      <td>USA</td>\n",
       "      <td>PG-13</td>\n",
       "      <td>300000000.0</td>\n",
       "      <td>2007.0</td>\n",
       "      <td>5000.0</td>\n",
       "      <td>7.1</td>\n",
       "      <td>2.35</td>\n",
       "      <td>0</td>\n",
       "    </tr>\n",
       "    <tr>\n",
       "      <th>2</th>\n",
       "      <td>Color</td>\n",
       "      <td>Sam Mendes</td>\n",
       "      <td>602.0</td>\n",
       "      <td>148.0</td>\n",
       "      <td>0.0</td>\n",
       "      <td>161.0</td>\n",
       "      <td>Rory Kinnear</td>\n",
       "      <td>11000.0</td>\n",
       "      <td>200074175.0</td>\n",
       "      <td>Action|Adventure|Thriller</td>\n",
       "      <td>...</td>\n",
       "      <td>994.0</td>\n",
       "      <td>English</td>\n",
       "      <td>UK</td>\n",
       "      <td>PG-13</td>\n",
       "      <td>245000000.0</td>\n",
       "      <td>2015.0</td>\n",
       "      <td>393.0</td>\n",
       "      <td>6.8</td>\n",
       "      <td>2.35</td>\n",
       "      <td>85000</td>\n",
       "    </tr>\n",
       "    <tr>\n",
       "      <th>3</th>\n",
       "      <td>Color</td>\n",
       "      <td>Christopher Nolan</td>\n",
       "      <td>813.0</td>\n",
       "      <td>164.0</td>\n",
       "      <td>22000.0</td>\n",
       "      <td>23000.0</td>\n",
       "      <td>Christian Bale</td>\n",
       "      <td>27000.0</td>\n",
       "      <td>448130642.0</td>\n",
       "      <td>Action|Thriller</td>\n",
       "      <td>...</td>\n",
       "      <td>2701.0</td>\n",
       "      <td>English</td>\n",
       "      <td>USA</td>\n",
       "      <td>PG-13</td>\n",
       "      <td>250000000.0</td>\n",
       "      <td>2012.0</td>\n",
       "      <td>23000.0</td>\n",
       "      <td>8.5</td>\n",
       "      <td>2.35</td>\n",
       "      <td>164000</td>\n",
       "    </tr>\n",
       "    <tr>\n",
       "      <th>4</th>\n",
       "      <td>NaN</td>\n",
       "      <td>Doug Walker</td>\n",
       "      <td>NaN</td>\n",
       "      <td>NaN</td>\n",
       "      <td>131.0</td>\n",
       "      <td>NaN</td>\n",
       "      <td>Rob Walker</td>\n",
       "      <td>131.0</td>\n",
       "      <td>NaN</td>\n",
       "      <td>Documentary</td>\n",
       "      <td>...</td>\n",
       "      <td>NaN</td>\n",
       "      <td>NaN</td>\n",
       "      <td>NaN</td>\n",
       "      <td>NaN</td>\n",
       "      <td>NaN</td>\n",
       "      <td>NaN</td>\n",
       "      <td>12.0</td>\n",
       "      <td>7.1</td>\n",
       "      <td>NaN</td>\n",
       "      <td>0</td>\n",
       "    </tr>\n",
       "  </tbody>\n",
       "</table>\n",
       "<p>5 rows × 28 columns</p>\n",
       "</div>"
      ],
      "text/plain": [
       "   color      director_name  num_critic_for_reviews  duration  \\\n",
       "0  Color      James Cameron                   723.0     178.0   \n",
       "1  Color     Gore Verbinski                   302.0     169.0   \n",
       "2  Color         Sam Mendes                   602.0     148.0   \n",
       "3  Color  Christopher Nolan                   813.0     164.0   \n",
       "4    NaN        Doug Walker                     NaN       NaN   \n",
       "\n",
       "   director_facebook_likes  actor_3_facebook_likes      actor_2_name  \\\n",
       "0                      0.0                   855.0  Joel David Moore   \n",
       "1                    563.0                  1000.0     Orlando Bloom   \n",
       "2                      0.0                   161.0      Rory Kinnear   \n",
       "3                  22000.0                 23000.0    Christian Bale   \n",
       "4                    131.0                     NaN        Rob Walker   \n",
       "\n",
       "   actor_1_facebook_likes        gross                           genres  \\\n",
       "0                  1000.0  760505847.0  Action|Adventure|Fantasy|Sci-Fi   \n",
       "1                 40000.0  309404152.0         Action|Adventure|Fantasy   \n",
       "2                 11000.0  200074175.0        Action|Adventure|Thriller   \n",
       "3                 27000.0  448130642.0                  Action|Thriller   \n",
       "4                   131.0          NaN                      Documentary   \n",
       "\n",
       "          ...          num_user_for_reviews language  country  content_rating  \\\n",
       "0         ...                        3054.0  English      USA           PG-13   \n",
       "1         ...                        1238.0  English      USA           PG-13   \n",
       "2         ...                         994.0  English       UK           PG-13   \n",
       "3         ...                        2701.0  English      USA           PG-13   \n",
       "4         ...                           NaN      NaN      NaN             NaN   \n",
       "\n",
       "        budget  title_year actor_2_facebook_likes imdb_score  aspect_ratio  \\\n",
       "0  237000000.0      2009.0                  936.0        7.9          1.78   \n",
       "1  300000000.0      2007.0                 5000.0        7.1          2.35   \n",
       "2  245000000.0      2015.0                  393.0        6.8          2.35   \n",
       "3  250000000.0      2012.0                23000.0        8.5          2.35   \n",
       "4          NaN         NaN                   12.0        7.1           NaN   \n",
       "\n",
       "  movie_facebook_likes  \n",
       "0                33000  \n",
       "1                    0  \n",
       "2                85000  \n",
       "3               164000  \n",
       "4                    0  \n",
       "\n",
       "[5 rows x 28 columns]"
      ]
     },
     "execution_count": 4,
     "metadata": {},
     "output_type": "execute_result"
    }
   ],
   "source": [
    "#Reading in the data\n",
    "df = pd.read_csv('data/movie_metadata.csv')\n",
    "df.head()"
   ]
  },
  {
   "cell_type": "code",
   "execution_count": 5,
   "metadata": {},
   "outputs": [],
   "source": [
    "df.rename(columns={'movie_title':'movie'},inplace=True)"
   ]
  },
  {
   "cell_type": "code",
   "execution_count": 6,
   "metadata": {},
   "outputs": [],
   "source": [
    "df = df[['movie','imdb_score']]"
   ]
  },
  {
   "cell_type": "code",
   "execution_count": 7,
   "metadata": {},
   "outputs": [],
   "source": [
    "df['movie'] = df['movie'].str.lower()"
   ]
  },
  {
   "cell_type": "code",
   "execution_count": 8,
   "metadata": {},
   "outputs": [
    {
     "data": {
      "text/html": [
       "<div>\n",
       "<style scoped>\n",
       "    .dataframe tbody tr th:only-of-type {\n",
       "        vertical-align: middle;\n",
       "    }\n",
       "\n",
       "    .dataframe tbody tr th {\n",
       "        vertical-align: top;\n",
       "    }\n",
       "\n",
       "    .dataframe thead th {\n",
       "        text-align: right;\n",
       "    }\n",
       "</style>\n",
       "<table border=\"1\" class=\"dataframe\">\n",
       "  <thead>\n",
       "    <tr style=\"text-align: right;\">\n",
       "      <th></th>\n",
       "      <th>movie</th>\n",
       "      <th>imdb_score</th>\n",
       "    </tr>\n",
       "  </thead>\n",
       "  <tbody>\n",
       "    <tr>\n",
       "      <th>2765</th>\n",
       "      <td>towering inferno</td>\n",
       "      <td>9.5</td>\n",
       "    </tr>\n",
       "    <tr>\n",
       "      <th>1937</th>\n",
       "      <td>the shawshank redemption</td>\n",
       "      <td>9.3</td>\n",
       "    </tr>\n",
       "    <tr>\n",
       "      <th>3466</th>\n",
       "      <td>the godfather</td>\n",
       "      <td>9.2</td>\n",
       "    </tr>\n",
       "    <tr>\n",
       "      <th>4409</th>\n",
       "      <td>kickboxer: vengeance</td>\n",
       "      <td>9.1</td>\n",
       "    </tr>\n",
       "    <tr>\n",
       "      <th>2824</th>\n",
       "      <td>dekalog</td>\n",
       "      <td>9.1</td>\n",
       "    </tr>\n",
       "    <tr>\n",
       "      <th>3207</th>\n",
       "      <td>dekalog</td>\n",
       "      <td>9.1</td>\n",
       "    </tr>\n",
       "    <tr>\n",
       "      <th>66</th>\n",
       "      <td>the dark knight</td>\n",
       "      <td>9.0</td>\n",
       "    </tr>\n",
       "    <tr>\n",
       "      <th>2837</th>\n",
       "      <td>the godfather: part ii</td>\n",
       "      <td>9.0</td>\n",
       "    </tr>\n",
       "    <tr>\n",
       "      <th>3481</th>\n",
       "      <td>fargo</td>\n",
       "      <td>9.0</td>\n",
       "    </tr>\n",
       "    <tr>\n",
       "      <th>339</th>\n",
       "      <td>the lord of the rings: the return of the king</td>\n",
       "      <td>8.9</td>\n",
       "    </tr>\n",
       "    <tr>\n",
       "      <th>4822</th>\n",
       "      <td>12 angry men</td>\n",
       "      <td>8.9</td>\n",
       "    </tr>\n",
       "    <tr>\n",
       "      <th>4498</th>\n",
       "      <td>the good, the bad and the ugly</td>\n",
       "      <td>8.9</td>\n",
       "    </tr>\n",
       "    <tr>\n",
       "      <th>3355</th>\n",
       "      <td>pulp fiction</td>\n",
       "      <td>8.9</td>\n",
       "    </tr>\n",
       "    <tr>\n",
       "      <th>1874</th>\n",
       "      <td>schindler's list</td>\n",
       "      <td>8.9</td>\n",
       "    </tr>\n",
       "    <tr>\n",
       "      <th>683</th>\n",
       "      <td>fight club</td>\n",
       "      <td>8.8</td>\n",
       "    </tr>\n",
       "    <tr>\n",
       "      <th>836</th>\n",
       "      <td>forrest gump</td>\n",
       "      <td>8.8</td>\n",
       "    </tr>\n",
       "    <tr>\n",
       "      <th>270</th>\n",
       "      <td>the lord of the rings: the fellowship of the r...</td>\n",
       "      <td>8.8</td>\n",
       "    </tr>\n",
       "    <tr>\n",
       "      <th>2051</th>\n",
       "      <td>star wars: episode v - the empire strikes back</td>\n",
       "      <td>8.8</td>\n",
       "    </tr>\n",
       "    <tr>\n",
       "      <th>97</th>\n",
       "      <td>inception</td>\n",
       "      <td>8.8</td>\n",
       "    </tr>\n",
       "    <tr>\n",
       "      <th>1842</th>\n",
       "      <td>it's always sunny in philadelphia</td>\n",
       "      <td>8.8</td>\n",
       "    </tr>\n",
       "    <tr>\n",
       "      <th>459</th>\n",
       "      <td>daredevil</td>\n",
       "      <td>8.8</td>\n",
       "    </tr>\n",
       "    <tr>\n",
       "      <th>1620</th>\n",
       "      <td>friday night lights</td>\n",
       "      <td>8.7</td>\n",
       "    </tr>\n",
       "    <tr>\n",
       "      <th>1818</th>\n",
       "      <td>the honeymooners</td>\n",
       "      <td>8.7</td>\n",
       "    </tr>\n",
       "    <tr>\n",
       "      <th>654</th>\n",
       "      <td>the matrix</td>\n",
       "      <td>8.7</td>\n",
       "    </tr>\n",
       "    <tr>\n",
       "      <th>4468</th>\n",
       "      <td>queen of the mountains</td>\n",
       "      <td>8.7</td>\n",
       "    </tr>\n",
       "  </tbody>\n",
       "</table>\n",
       "</div>"
      ],
      "text/plain": [
       "                                                  movie  imdb_score\n",
       "2765                      towering inferno                      9.5\n",
       "1937                          the shawshank redemption          9.3\n",
       "3466                                     the godfather          9.2\n",
       "4409                              kickboxer: vengeance          9.1\n",
       "2824                               dekalog                      9.1\n",
       "3207                               dekalog                      9.1\n",
       "66                                     the dark knight          9.0\n",
       "2837                            the godfather: part ii          9.0\n",
       "3481                                 fargo                      9.0\n",
       "339      the lord of the rings: the return of the king          8.9\n",
       "4822                                      12 angry men          8.9\n",
       "4498                    the good, the bad and the ugly          8.9\n",
       "3355                                      pulp fiction          8.9\n",
       "1874                                  schindler's list          8.9\n",
       "683                                         fight club          8.8\n",
       "836                                       forrest gump          8.8\n",
       "270   the lord of the rings: the fellowship of the r...         8.8\n",
       "2051    star wars: episode v - the empire strikes back          8.8\n",
       "97                                           inception          8.8\n",
       "1842     it's always sunny in philadelphia                      8.8\n",
       "459                              daredevil                      8.8\n",
       "1620                   friday night lights                      8.7\n",
       "1818                      the honeymooners                      8.7\n",
       "654                                         the matrix          8.7\n",
       "4468                            queen of the mountains          8.7"
      ]
     },
     "execution_count": 8,
     "metadata": {},
     "output_type": "execute_result"
    }
   ],
   "source": [
    "#Checking the 25 best movie titles so I can get the urls\n",
    "\n",
    "df[['movie', 'imdb_score']].sort_values(by=['imdb_score'], ascending=False).head(25)"
   ]
  },
  {
   "cell_type": "code",
   "execution_count": 9,
   "metadata": {},
   "outputs": [
    {
     "data": {
      "text/html": [
       "<div>\n",
       "<style scoped>\n",
       "    .dataframe tbody tr th:only-of-type {\n",
       "        vertical-align: middle;\n",
       "    }\n",
       "\n",
       "    .dataframe tbody tr th {\n",
       "        vertical-align: top;\n",
       "    }\n",
       "\n",
       "    .dataframe thead th {\n",
       "        text-align: right;\n",
       "    }\n",
       "</style>\n",
       "<table border=\"1\" class=\"dataframe\">\n",
       "  <thead>\n",
       "    <tr style=\"text-align: right;\">\n",
       "      <th></th>\n",
       "      <th>movie</th>\n",
       "      <th>imdb_score</th>\n",
       "    </tr>\n",
       "  </thead>\n",
       "  <tbody>\n",
       "    <tr>\n",
       "      <th>1702</th>\n",
       "      <td>dragonball: evolution</td>\n",
       "      <td>2.7</td>\n",
       "    </tr>\n",
       "    <tr>\n",
       "      <th>1654</th>\n",
       "      <td>meet the spartans</td>\n",
       "      <td>2.7</td>\n",
       "    </tr>\n",
       "    <tr>\n",
       "      <th>2182</th>\n",
       "      <td>date movie</td>\n",
       "      <td>2.7</td>\n",
       "    </tr>\n",
       "    <tr>\n",
       "      <th>4133</th>\n",
       "      <td>30 nights of paranormal activity with the devi...</td>\n",
       "      <td>2.6</td>\n",
       "    </tr>\n",
       "    <tr>\n",
       "      <th>4525</th>\n",
       "      <td>the vatican exorcisms</td>\n",
       "      <td>2.6</td>\n",
       "    </tr>\n",
       "    <tr>\n",
       "      <th>2852</th>\n",
       "      <td>baby geniuses</td>\n",
       "      <td>2.5</td>\n",
       "    </tr>\n",
       "    <tr>\n",
       "      <th>4874</th>\n",
       "      <td>sunday school musical</td>\n",
       "      <td>2.5</td>\n",
       "    </tr>\n",
       "    <tr>\n",
       "      <th>495</th>\n",
       "      <td>battlefield earth</td>\n",
       "      <td>2.4</td>\n",
       "    </tr>\n",
       "    <tr>\n",
       "      <th>899</th>\n",
       "      <td>gigli</td>\n",
       "      <td>2.4</td>\n",
       "    </tr>\n",
       "    <tr>\n",
       "      <th>3525</th>\n",
       "      <td>chairman of the board</td>\n",
       "      <td>2.3</td>\n",
       "    </tr>\n",
       "    <tr>\n",
       "      <th>2313</th>\n",
       "      <td>alone in the dark</td>\n",
       "      <td>2.3</td>\n",
       "    </tr>\n",
       "    <tr>\n",
       "      <th>2192</th>\n",
       "      <td>epic movie</td>\n",
       "      <td>2.3</td>\n",
       "    </tr>\n",
       "    <tr>\n",
       "      <th>4768</th>\n",
       "      <td>subconscious</td>\n",
       "      <td>2.2</td>\n",
       "    </tr>\n",
       "    <tr>\n",
       "      <th>4619</th>\n",
       "      <td>snow white: a deadly summer</td>\n",
       "      <td>2.2</td>\n",
       "    </tr>\n",
       "    <tr>\n",
       "      <th>319</th>\n",
       "      <td>son of the mask</td>\n",
       "      <td>2.2</td>\n",
       "    </tr>\n",
       "    <tr>\n",
       "      <th>2983</th>\n",
       "      <td>from justin to kelly</td>\n",
       "      <td>2.1</td>\n",
       "    </tr>\n",
       "    <tr>\n",
       "      <th>3340</th>\n",
       "      <td>glitter</td>\n",
       "      <td>2.1</td>\n",
       "    </tr>\n",
       "    <tr>\n",
       "      <th>3664</th>\n",
       "      <td>crossover</td>\n",
       "      <td>2.1</td>\n",
       "    </tr>\n",
       "    <tr>\n",
       "      <th>1729</th>\n",
       "      <td>united passions</td>\n",
       "      <td>2.0</td>\n",
       "    </tr>\n",
       "    <tr>\n",
       "      <th>3505</th>\n",
       "      <td>who's your caddy?</td>\n",
       "      <td>2.0</td>\n",
       "    </tr>\n",
       "    <tr>\n",
       "      <th>2268</th>\n",
       "      <td>disaster movie</td>\n",
       "      <td>1.9</td>\n",
       "    </tr>\n",
       "    <tr>\n",
       "      <th>2295</th>\n",
       "      <td>superbabies: baby geniuses 2</td>\n",
       "      <td>1.9</td>\n",
       "    </tr>\n",
       "    <tr>\n",
       "      <th>4605</th>\n",
       "      <td>the helix... loaded</td>\n",
       "      <td>1.9</td>\n",
       "    </tr>\n",
       "    <tr>\n",
       "      <th>1136</th>\n",
       "      <td>foodfight!</td>\n",
       "      <td>1.7</td>\n",
       "    </tr>\n",
       "    <tr>\n",
       "      <th>2834</th>\n",
       "      <td>justin bieber: never say never</td>\n",
       "      <td>1.6</td>\n",
       "    </tr>\n",
       "  </tbody>\n",
       "</table>\n",
       "</div>"
      ],
      "text/plain": [
       "                                                  movie  imdb_score\n",
       "1702                             dragonball: evolution          2.7\n",
       "1654                                 meet the spartans          2.7\n",
       "2182                                        date movie          2.7\n",
       "4133  30 nights of paranormal activity with the devi...         2.6\n",
       "4525                             the vatican exorcisms          2.6\n",
       "2852                                     baby geniuses          2.5\n",
       "4874                             sunday school musical          2.5\n",
       "495                                  battlefield earth          2.4\n",
       "899                                              gigli          2.4\n",
       "3525                             chairman of the board          2.3\n",
       "2313                                 alone in the dark          2.3\n",
       "2192                                        epic movie          2.3\n",
       "4768                                      subconscious          2.2\n",
       "4619                       snow white: a deadly summer          2.2\n",
       "319                                    son of the mask          2.2\n",
       "2983                              from justin to kelly          2.1\n",
       "3340                                           glitter          2.1\n",
       "3664                                         crossover          2.1\n",
       "1729                                   united passions          2.0\n",
       "3505                                 who's your caddy?          2.0\n",
       "2268                                    disaster movie          1.9\n",
       "2295                      superbabies: baby geniuses 2          1.9\n",
       "4605                               the helix... loaded          1.9\n",
       "1136                                        foodfight!          1.7\n",
       "2834                    justin bieber: never say never          1.6"
      ]
     },
     "execution_count": 9,
     "metadata": {},
     "output_type": "execute_result"
    }
   ],
   "source": [
    "#Checking the 25 worst movie titles so I can get the urls\n",
    "\n",
    "df[['movie', 'imdb_score']].sort_values(by=['imdb_score'], ascending=False).tail(25)"
   ]
  },
  {
   "cell_type": "markdown",
   "metadata": {},
   "source": [
    "### Section 2.1: Collecting the Reviews from the 25 best movies"
   ]
  },
  {
   "cell_type": "code",
   "execution_count": 8,
   "metadata": {},
   "outputs": [],
   "source": [
    "from selenium import webdriver\n",
    "import time\n",
    "driver = webdriver.Firefox()\n",
    "\n",
    "# multiple urls --> you can read multiple urls from csv file as well\n",
    "posurls = ['tt0111161', 'tt0068646', 'tt0071562', 'tt0468569', 'tt0167260', 'tt0060196', 'tt0108052', 'tt0110912',\n",
    "       'tt0120737', 'tt0080684', 'tt1375666', 'tt0109830', 'tt0137523', 'tt0133093', 'tt0167261', 'tt0076759',\n",
    "          'tt0047478', 'tt0073486', 'tt0099685', 'tt0317248', 'tt0114814', 'tt0102926', 'tt0245429', 'tt0114369',\n",
    "          'tt0120815']\n",
    "\n",
    "pos_data = []\n",
    "\n",
    "### The movie line below works, as does all of the xpath code in quotations, now I just need to run this on windows\n",
    "### with firefox and then the positive movie data will be collected\n",
    "\n",
    "\n",
    "for url in posurls:\n",
    "\n",
    "    driver.get(\"https://www.imdb.com/title/\" + url + \"/reviews?ref_=tt_urv\")\n",
    "    spoilers = driver.find_element_by_class_name(\"faceter-facets-text\")\n",
    "    spoilers.click()\n",
    "    next_button = driver.find_element_by_class_name(\"ipl-load-more__button\")\n",
    "    next_button.click()\n",
    "    movie = driver.find_element_by_xpath(\"//h3[@itemprop='name']/a\").text.encode('utf-8')\n",
    "\n",
    "\n",
    "    for review in driver.find_elements_by_xpath(\"//div[@class='lister-item-content']\"):\n",
    "        summary = review.find_element_by_xpath(\"div[@class='content']/div[1]\").text.encode('utf-8')\n",
    "        reviewtitle = review.find_element_by_xpath(\"a\").text.encode('utf-8')\n",
    "        pos_data.append([movie, reviewtitle, summary])\n",
    "        \n",
    "    time.sleep(3)\n",
    "        \n",
    "   \n"
   ]
  },
  {
   "cell_type": "code",
   "execution_count": 9,
   "metadata": {},
   "outputs": [
    {
     "data": {
      "text/plain": [
       "671"
      ]
     },
     "execution_count": 9,
     "metadata": {},
     "output_type": "execute_result"
    }
   ],
   "source": [
    "len(pos_data)"
   ]
  },
  {
   "cell_type": "code",
   "execution_count": 10,
   "metadata": {},
   "outputs": [
    {
     "data": {
      "text/plain": [
       "['The Shawshank Redemption',\n",
       " 'Prepare to be moved',\n",
       " \"I have never seen such an amazing film since I saw The Shawshank Redemption. Shawshank encompasses friendships, hardships, hopes, and dreams. And what is so great about the movie is that it moves you, it gives you hope. Even though the circumstances between the characters and the viewers are quite different, you don't feel that far removed from what the characters are going through.\\n\\nIt is a simple film, yet it has an everlasting message. Frank Darabont didn't need to put any kind of outlandish special effects to get us to love this film, the narration and the acting does that for him. Why this movie didn't win all seven Oscars is beyond me, but don't let that sway you to not see this film, let its ranking on the IMDb's top 250 list sway you, let your friends recommendation about the movie sway you.\\n\\nSet aside a little over two hours tonight and rent this movie. You will finally understand what everyone is talking about and you will understand why this is my all time favorite movie.\"]"
      ]
     },
     "execution_count": 10,
     "metadata": {},
     "output_type": "execute_result"
    }
   ],
   "source": [
    "pos_data[1]"
   ]
  },
  {
   "cell_type": "code",
   "execution_count": 11,
   "metadata": {},
   "outputs": [
    {
     "data": {
      "text/html": [
       "<div>\n",
       "<style scoped>\n",
       "    .dataframe tbody tr th:only-of-type {\n",
       "        vertical-align: middle;\n",
       "    }\n",
       "\n",
       "    .dataframe tbody tr th {\n",
       "        vertical-align: top;\n",
       "    }\n",
       "\n",
       "    .dataframe thead th {\n",
       "        text-align: right;\n",
       "    }\n",
       "</style>\n",
       "<table border=\"1\" class=\"dataframe\">\n",
       "  <thead>\n",
       "    <tr style=\"text-align: right;\">\n",
       "      <th></th>\n",
       "      <th>0</th>\n",
       "      <th>1</th>\n",
       "      <th>2</th>\n",
       "    </tr>\n",
       "  </thead>\n",
       "  <tbody>\n",
       "    <tr>\n",
       "      <th>0</th>\n",
       "      <td>The Shawshank Redemption</td>\n",
       "      <td>Tied for the best movie I have ever seen</td>\n",
       "      <td>Why do I want to write the 234th comment on Th...</td>\n",
       "    </tr>\n",
       "    <tr>\n",
       "      <th>1</th>\n",
       "      <td>The Shawshank Redemption</td>\n",
       "      <td>Prepare to be moved</td>\n",
       "      <td>I have never seen such an amazing film since I...</td>\n",
       "    </tr>\n",
       "    <tr>\n",
       "      <th>2</th>\n",
       "      <td>The Shawshank Redemption</td>\n",
       "      <td>This is How Movies Should Be Made</td>\n",
       "      <td>This movie is not your ordinary Hollywood flic...</td>\n",
       "    </tr>\n",
       "    <tr>\n",
       "      <th>3</th>\n",
       "      <td>The Shawshank Redemption</td>\n",
       "      <td>Shawshank Redeems Hollywood</td>\n",
       "      <td>Can Hollywood, usually creating things for ent...</td>\n",
       "    </tr>\n",
       "    <tr>\n",
       "      <th>4</th>\n",
       "      <td>The Shawshank Redemption</td>\n",
       "      <td>Don't Rent Shawshank.</td>\n",
       "      <td>I'm trying to save you money; this is the last...</td>\n",
       "    </tr>\n",
       "  </tbody>\n",
       "</table>\n",
       "</div>"
      ],
      "text/plain": [
       "                          0                                         1  \\\n",
       "0  The Shawshank Redemption  Tied for the best movie I have ever seen   \n",
       "1  The Shawshank Redemption                       Prepare to be moved   \n",
       "2  The Shawshank Redemption         This is How Movies Should Be Made   \n",
       "3  The Shawshank Redemption               Shawshank Redeems Hollywood   \n",
       "4  The Shawshank Redemption                     Don't Rent Shawshank.   \n",
       "\n",
       "                                                   2  \n",
       "0  Why do I want to write the 234th comment on Th...  \n",
       "1  I have never seen such an amazing film since I...  \n",
       "2  This movie is not your ordinary Hollywood flic...  \n",
       "3  Can Hollywood, usually creating things for ent...  \n",
       "4  I'm trying to save you money; this is the last...  "
      ]
     },
     "execution_count": 11,
     "metadata": {},
     "output_type": "execute_result"
    }
   ],
   "source": [
    "posdf = pd.DataFrame(pos_data)\n",
    "\n",
    "posdf.head()"
   ]
  },
  {
   "cell_type": "markdown",
   "metadata": {},
   "source": [
    "### Section 2.2: Collecting reviews from the 25 worst movies"
   ]
  },
  {
   "cell_type": "code",
   "execution_count": 16,
   "metadata": {},
   "outputs": [],
   "source": [
    "from selenium import webdriver\n",
    "import time\n",
    "driver = webdriver.Firefox()\n",
    "\n",
    "# multiple urls --> you can read multiple urls from csv file as well\n",
    "negurls = ['tt0462244', 'tt0383222', 'tt0120207', 'tt0266747', 'tt0093300', 'tt0763304', 'tt0120598', 'tt0360916',\n",
    "          'tt1073498', 'tt1098327', 'tt0466342', 'tt0118665', 'tt0299930', 'tt0185183', 'tt0799949', 'tt0118836',\n",
    "          'tt0083542', 'tt0362165', 'tt0118589', 'tt0339034', 'tt0473024', 'tt0785077','tt0270846', 'tt1213644',\n",
    "          'tt1702443']\n",
    "\n",
    "neg_data = []\n",
    "\n",
    "### The movie line below works, as does all of the xpath code in quotations, now I just need to run this on windows\n",
    "### with firefox and then the positive movie data will be collected\n",
    "\n",
    "\n",
    "for url in negurls:\n",
    "\n",
    "    driver.get(\"https://www.imdb.com/title/\" + url + \"/reviews?ref_=tt_urv\")\n",
    "    spoilers = driver.find_element_by_class_name(\"faceter-facets-text\")\n",
    "    spoilers.click()\n",
    "    next_button = driver.find_element_by_class_name(\"ipl-load-more__button\")\n",
    "    next_button.click()\n",
    "    movie = driver.find_element_by_xpath(\"//h3[@itemprop='name']/a\").text.encode('utf-8')\n",
    "\n",
    "\n",
    "    for review in driver.find_elements_by_xpath(\"//div[@class='lister-item-content']\"):\n",
    "        summary = review.find_element_by_xpath(\"div[@class='content']/div[1]\").text.encode('utf-8')\n",
    "        reviewtitle = review.find_element_by_xpath(\"a\").text.encode('utf-8')\n",
    "        neg_data.append([movie, reviewtitle, summary])\n",
    "        \n",
    "    time.sleep(3)\n",
    "        \n",
    "   \n"
   ]
  },
  {
   "cell_type": "code",
   "execution_count": 17,
   "metadata": {},
   "outputs": [
    {
     "data": {
      "text/plain": [
       "730"
      ]
     },
     "execution_count": 17,
     "metadata": {},
     "output_type": "execute_result"
    }
   ],
   "source": [
    "len(neg_data)"
   ]
  },
  {
   "cell_type": "code",
   "execution_count": 18,
   "metadata": {},
   "outputs": [
    {
     "data": {
      "text/plain": [
       "['Daddy Day Camp',\n",
       " 'Not bad enough to be on the bottom 100 of IMDb, but still pretty bad.',\n",
       " \"Daddy Day Care was a sweet and simple movie that I enjoyed quite a bit actually, I really don't think it needed a sequel of any sorts. As you may have seen in many of my reviews for his films, I am a huge Cuba Gooding Jr. fan and he is MUCH better than the turds like this that he is producing now a days. I will say I expected much worse, so that's a compliment I can give it I suppose. The really sad thing about this movie is that it's obvious Cuba is trying his heart out for this movie to be good. He's no Eddie Murphy but his effort his very much appreciated, I just wish it was in a much better movie. The kids have no depth to them, they're annoying and they certainly can't act, they look like that just kids. It's a film of unfunny gags for toddlers, and it just has no real heart or soul to the movie other than the relationship of Cuba, his son and Cuba's father which is superbly played by Richard Gant.\\n\\nPerformances. Cuba Gooding tries admirably, but he's still not that great. It's not his fault as he's stuck in a crummy movie, that should've went DTV but he tries and I give him a lot of credit for that. Lochlyn Munro is average, and grated my nerves on more than one occasion. I get he was supposed to be annoying, but he overdid it. Richard Gant is up for the task and delivered a funny performance.\\n\\nBottom line. It's not bad enough to be on the bottom 100, but it's still pretty bad. There's a shortage of laughs and a lot of annoyance to go through. Not recommended, stick with the cute original.\\n\\n3/10\"]"
      ]
     },
     "execution_count": 18,
     "metadata": {},
     "output_type": "execute_result"
    }
   ],
   "source": [
    "neg_data[1]"
   ]
  },
  {
   "cell_type": "code",
   "execution_count": 19,
   "metadata": {},
   "outputs": [
    {
     "data": {
      "text/html": [
       "<div>\n",
       "<style scoped>\n",
       "    .dataframe tbody tr th:only-of-type {\n",
       "        vertical-align: middle;\n",
       "    }\n",
       "\n",
       "    .dataframe tbody tr th {\n",
       "        vertical-align: top;\n",
       "    }\n",
       "\n",
       "    .dataframe thead th {\n",
       "        text-align: right;\n",
       "    }\n",
       "</style>\n",
       "<table border=\"1\" class=\"dataframe\">\n",
       "  <thead>\n",
       "    <tr style=\"text-align: right;\">\n",
       "      <th></th>\n",
       "      <th>0</th>\n",
       "      <th>1</th>\n",
       "      <th>2</th>\n",
       "    </tr>\n",
       "  </thead>\n",
       "  <tbody>\n",
       "    <tr>\n",
       "      <th>0</th>\n",
       "      <td>Daddy Day Camp</td>\n",
       "      <td>God-awful Family Film with Little to Offer</td>\n",
       "      <td>After sitting through the entirety of Daddy Da...</td>\n",
       "    </tr>\n",
       "    <tr>\n",
       "      <th>1</th>\n",
       "      <td>Daddy Day Camp</td>\n",
       "      <td>Not bad enough to be on the bottom 100 of IMDb...</td>\n",
       "      <td>Daddy Day Care was a sweet and simple movie th...</td>\n",
       "    </tr>\n",
       "    <tr>\n",
       "      <th>2</th>\n",
       "      <td>Daddy Day Camp</td>\n",
       "      <td>Average movie..definitely NOT worst in the his...</td>\n",
       "      <td>This is my first comment on IMDb, because i am...</td>\n",
       "    </tr>\n",
       "    <tr>\n",
       "      <th>3</th>\n",
       "      <td>Daddy Day Camp</td>\n",
       "      <td>simply a horrible idea</td>\n",
       "      <td>This movie was just awful. The plot is 2 guys ...</td>\n",
       "    </tr>\n",
       "    <tr>\n",
       "      <th>4</th>\n",
       "      <td>Daddy Day Camp</td>\n",
       "      <td>All in all, it's still terrible...</td>\n",
       "      <td>Really, I'm only commenting because the origin...</td>\n",
       "    </tr>\n",
       "  </tbody>\n",
       "</table>\n",
       "</div>"
      ],
      "text/plain": [
       "                0                                                  1  \\\n",
       "0  Daddy Day Camp         God-awful Family Film with Little to Offer   \n",
       "1  Daddy Day Camp  Not bad enough to be on the bottom 100 of IMDb...   \n",
       "2  Daddy Day Camp  Average movie..definitely NOT worst in the his...   \n",
       "3  Daddy Day Camp                             simply a horrible idea   \n",
       "4  Daddy Day Camp                 All in all, it's still terrible...   \n",
       "\n",
       "                                                   2  \n",
       "0  After sitting through the entirety of Daddy Da...  \n",
       "1  Daddy Day Care was a sweet and simple movie th...  \n",
       "2  This is my first comment on IMDb, because i am...  \n",
       "3  This movie was just awful. The plot is 2 guys ...  \n",
       "4  Really, I'm only commenting because the origin...  "
      ]
     },
     "execution_count": 19,
     "metadata": {},
     "output_type": "execute_result"
    }
   ],
   "source": [
    "negdf = pd.DataFrame(neg_data)\n",
    "negdf.head()\n"
   ]
  },
  {
   "cell_type": "markdown",
   "metadata": {},
   "source": [
    "### Section 2.3: Quick summary of the data"
   ]
  },
  {
   "cell_type": "code",
   "execution_count": 20,
   "metadata": {},
   "outputs": [
    {
     "data": {
      "text/plain": [
       "671"
      ]
     },
     "execution_count": 20,
     "metadata": {},
     "output_type": "execute_result"
    }
   ],
   "source": [
    "# Total number of reviews for top 25 movies\n",
    "len(posdf)"
   ]
  },
  {
   "cell_type": "code",
   "execution_count": 21,
   "metadata": {},
   "outputs": [
    {
     "data": {
      "text/plain": [
       "730"
      ]
     },
     "execution_count": 21,
     "metadata": {},
     "output_type": "execute_result"
    }
   ],
   "source": [
    "# Total number of reviews for worst 25 movies\n",
    "len(negdf)"
   ]
  },
  {
   "cell_type": "code",
   "execution_count": 22,
   "metadata": {},
   "outputs": [
    {
     "data": {
      "text/plain": [
       "1401"
      ]
     },
     "execution_count": 22,
     "metadata": {},
     "output_type": "execute_result"
    }
   ],
   "source": [
    "# Total number of reviews for all movies collected\n",
    "len(posdf) + len(negdf)"
   ]
  },
  {
   "cell_type": "code",
   "execution_count": 23,
   "metadata": {},
   "outputs": [],
   "source": [
    "posdf.to_csv('top_reviews.csv')\n",
    "negdf.to_csv('worst_reviews.csv')"
   ]
  },
  {
   "cell_type": "code",
   "execution_count": 24,
   "metadata": {},
   "outputs": [
    {
     "data": {
      "text/plain": [
       "movie\n",
       "City of God                                          24\n",
       "Fight Club                                           25\n",
       "Forrest Gump                                         25\n",
       "Goodfellas                                           50\n",
       "Inception                                            50\n",
       "One Flew Over the Cuckoo's Nest                      25\n",
       "Pulp Fiction                                         25\n",
       "Saving Private Ryan                                  25\n",
       "Schindler's List                                     25\n",
       "Se7en                                                25\n",
       "Seven Samurai                                        25\n",
       "Spirited Away                                        25\n",
       "Star Wars: Episode IV - A New Hope                   24\n",
       "Star Wars: Episode V - The Empire Strikes Back       25\n",
       "The Dark Knight                                      25\n",
       "The Godfather                                        25\n",
       "The Godfather: Part II                               25\n",
       "The Good, the Bad and the Ugly                       23\n",
       "The Lord of the Rings: The Fellowship of the Ring    25\n",
       "The Lord of the Rings: The Return of the King        25\n",
       "The Lord of the Rings: The Two Towers                25\n",
       "The Matrix                                           25\n",
       "The Shawshank Redemption                             25\n",
       "The Silence of the Lambs                             25\n",
       "The Usual Suspects                                   25\n",
       "dtype: int64"
      ]
     },
     "execution_count": 24,
     "metadata": {},
     "output_type": "execute_result"
    }
   ],
   "source": [
    "# Number of reviews per movie for top 25 movies\n",
    "\n",
    "posdf.groupby(posdf[0]).size()"
   ]
  },
  {
   "cell_type": "code",
   "execution_count": 25,
   "metadata": {},
   "outputs": [
    {
     "data": {
      "text/plain": [
       "movie\n",
       "Alone in the Dark                 25\n",
       "Baby Geniuses                     25\n",
       "Barney's Great Adventure          40\n",
       "Battlefield Earth                 24\n",
       "BloodRayne                        50\n",
       "Chairman of the Board             50\n",
       "Crossover                         25\n",
       "Daddy Day Camp                    27\n",
       "Date Movie                        25\n",
       "Disaster Movie                    25\n",
       "Doogal                            25\n",
       "Dragonball: Evolution             25\n",
       "Epic Movie                        25\n",
       "From Justin to Kelly              50\n",
       "Gigli                             25\n",
       "Glitter                           25\n",
       "Jaws: The Revenge                 25\n",
       "Justin Bieber: Never Say Never    25\n",
       "Marci X                           25\n",
       "Meet the Spartans                 25\n",
       "Son of the Mask                   25\n",
       "Steel                             25\n",
       "Superbabies: Baby Geniuses 2      25\n",
       "The Real Cancun                   25\n",
       "Who's Your Caddy?                 39\n",
       "dtype: int64"
      ]
     },
     "execution_count": 25,
     "metadata": {},
     "output_type": "execute_result"
    }
   ],
   "source": [
    "# Number of reviews per movie for worst 25 movies\n",
    "\n",
    "negdf.groupby(negdf[0]).size()"
   ]
  },
  {
   "cell_type": "markdown",
   "metadata": {},
   "source": [
    "## Section 3: Data Cleaning and Preprocessing"
   ]
  },
  {
   "cell_type": "markdown",
   "metadata": {},
   "source": [
    "### Section 3.1: Cleaning the reviews for the 25 best movies"
   ]
  },
  {
   "cell_type": "code",
   "execution_count": 10,
   "metadata": {},
   "outputs": [
    {
     "data": {
      "text/html": [
       "<div>\n",
       "<style scoped>\n",
       "    .dataframe tbody tr th:only-of-type {\n",
       "        vertical-align: middle;\n",
       "    }\n",
       "\n",
       "    .dataframe tbody tr th {\n",
       "        vertical-align: top;\n",
       "    }\n",
       "\n",
       "    .dataframe thead th {\n",
       "        text-align: right;\n",
       "    }\n",
       "</style>\n",
       "<table border=\"1\" class=\"dataframe\">\n",
       "  <thead>\n",
       "    <tr style=\"text-align: right;\">\n",
       "      <th></th>\n",
       "      <th>0</th>\n",
       "      <th>1</th>\n",
       "      <th>2</th>\n",
       "    </tr>\n",
       "  </thead>\n",
       "  <tbody>\n",
       "    <tr>\n",
       "      <th>0</th>\n",
       "      <td>The Shawshank Redemption</td>\n",
       "      <td>Tied for the best movie I have ever seen</td>\n",
       "      <td>Why do I want to write the 234th comment on Th...</td>\n",
       "    </tr>\n",
       "    <tr>\n",
       "      <th>1</th>\n",
       "      <td>The Shawshank Redemption</td>\n",
       "      <td>Prepare to be moved</td>\n",
       "      <td>I have never seen such an amazing film since I...</td>\n",
       "    </tr>\n",
       "    <tr>\n",
       "      <th>2</th>\n",
       "      <td>The Shawshank Redemption</td>\n",
       "      <td>This is How Movies Should Be Made</td>\n",
       "      <td>This movie is not your ordinary Hollywood flic...</td>\n",
       "    </tr>\n",
       "    <tr>\n",
       "      <th>3</th>\n",
       "      <td>The Shawshank Redemption</td>\n",
       "      <td>Shawshank Redeems Hollywood</td>\n",
       "      <td>Can Hollywood, usually creating things for ent...</td>\n",
       "    </tr>\n",
       "    <tr>\n",
       "      <th>4</th>\n",
       "      <td>The Shawshank Redemption</td>\n",
       "      <td>Don't Rent Shawshank.</td>\n",
       "      <td>I'm trying to save you money; this is the last...</td>\n",
       "    </tr>\n",
       "  </tbody>\n",
       "</table>\n",
       "</div>"
      ],
      "text/plain": [
       "                          0                                         1  \\\n",
       "0  The Shawshank Redemption  Tied for the best movie I have ever seen   \n",
       "1  The Shawshank Redemption                       Prepare to be moved   \n",
       "2  The Shawshank Redemption         This is How Movies Should Be Made   \n",
       "3  The Shawshank Redemption               Shawshank Redeems Hollywood   \n",
       "4  The Shawshank Redemption                     Don't Rent Shawshank.   \n",
       "\n",
       "                                                   2  \n",
       "0  Why do I want to write the 234th comment on Th...  \n",
       "1  I have never seen such an amazing film since I...  \n",
       "2  This movie is not your ordinary Hollywood flic...  \n",
       "3  Can Hollywood, usually creating things for ent...  \n",
       "4  I'm trying to save you money; this is the last...  "
      ]
     },
     "execution_count": 10,
     "metadata": {},
     "output_type": "execute_result"
    }
   ],
   "source": [
    "posdf = pd.read_csv('data/top_reviews.csv', index_col=0)\n",
    "posdf.head()"
   ]
  },
  {
   "cell_type": "code",
   "execution_count": 11,
   "metadata": {},
   "outputs": [],
   "source": [
    "posdf = posdf.rename(columns={'0':'movie', '1':'review_title', '2':'review'})"
   ]
  },
  {
   "cell_type": "code",
   "execution_count": 12,
   "metadata": {},
   "outputs": [],
   "source": [
    "posdf['movie'] = posdf['movie'].str.lower()\n",
    "posdf['review_title'] = posdf['review_title'].str.lower()\n",
    "posdf['review'] = posdf['review'].str.lower()"
   ]
  },
  {
   "cell_type": "code",
   "execution_count": 13,
   "metadata": {},
   "outputs": [],
   "source": [
    "posdf['movie'] = posdf['movie'].str.replace(\"[^a-zA-Z0-9]\", \" \")\n",
    "posdf['review_title'] = posdf['review_title'].str.replace(\"[^a-zA-Z0-9]\", \" \")\n",
    "posdf['review'] = posdf['review'].str.replace(\"[^a-zA-Z0-9]\", \" \")"
   ]
  },
  {
   "cell_type": "code",
   "execution_count": 14,
   "metadata": {},
   "outputs": [
    {
     "data": {
      "text/html": [
       "<div>\n",
       "<style scoped>\n",
       "    .dataframe tbody tr th:only-of-type {\n",
       "        vertical-align: middle;\n",
       "    }\n",
       "\n",
       "    .dataframe tbody tr th {\n",
       "        vertical-align: top;\n",
       "    }\n",
       "\n",
       "    .dataframe thead th {\n",
       "        text-align: right;\n",
       "    }\n",
       "</style>\n",
       "<table border=\"1\" class=\"dataframe\">\n",
       "  <thead>\n",
       "    <tr style=\"text-align: right;\">\n",
       "      <th></th>\n",
       "      <th>movie</th>\n",
       "      <th>review_title</th>\n",
       "      <th>review</th>\n",
       "    </tr>\n",
       "  </thead>\n",
       "  <tbody>\n",
       "    <tr>\n",
       "      <th>0</th>\n",
       "      <td>the shawshank redemption</td>\n",
       "      <td>tied for the best movie i have ever seen</td>\n",
       "      <td>why want write the 234th comment the shawshank...</td>\n",
       "    </tr>\n",
       "    <tr>\n",
       "      <th>1</th>\n",
       "      <td>the shawshank redemption</td>\n",
       "      <td>prepare to be moved</td>\n",
       "      <td>have never seen such amazing film since saw th...</td>\n",
       "    </tr>\n",
       "    <tr>\n",
       "      <th>2</th>\n",
       "      <td>the shawshank redemption</td>\n",
       "      <td>this is how movies should be made</td>\n",
       "      <td>this movie not your ordinary hollywood flick h...</td>\n",
       "    </tr>\n",
       "    <tr>\n",
       "      <th>3</th>\n",
       "      <td>the shawshank redemption</td>\n",
       "      <td>shawshank redeems hollywood</td>\n",
       "      <td>can hollywood usually creating things for ente...</td>\n",
       "    </tr>\n",
       "    <tr>\n",
       "      <th>4</th>\n",
       "      <td>the shawshank redemption</td>\n",
       "      <td>don t rent shawshank</td>\n",
       "      <td>trying save you money this the last film title...</td>\n",
       "    </tr>\n",
       "  </tbody>\n",
       "</table>\n",
       "</div>"
      ],
      "text/plain": [
       "                      movie                              review_title  \\\n",
       "0  the shawshank redemption  tied for the best movie i have ever seen   \n",
       "1  the shawshank redemption                       prepare to be moved   \n",
       "2  the shawshank redemption         this is how movies should be made   \n",
       "3  the shawshank redemption               shawshank redeems hollywood   \n",
       "4  the shawshank redemption                     don t rent shawshank    \n",
       "\n",
       "                                              review  \n",
       "0  why want write the 234th comment the shawshank...  \n",
       "1  have never seen such amazing film since saw th...  \n",
       "2  this movie not your ordinary hollywood flick h...  \n",
       "3  can hollywood usually creating things for ente...  \n",
       "4  trying save you money this the last film title...  "
      ]
     },
     "execution_count": 14,
     "metadata": {},
     "output_type": "execute_result"
    }
   ],
   "source": [
    "#Remove short words\n",
    "posdf['review'] = posdf['review'].str.findall('\\w{3,}').str.join(' ')\n",
    "posdf.head()"
   ]
  },
  {
   "cell_type": "code",
   "execution_count": 15,
   "metadata": {},
   "outputs": [],
   "source": [
    "from nltk.corpus import stopwords\n",
    "stopwords = stopwords.words('english')\n",
    "stopwords = set(stopwords)\n",
    "stopwords.add('film')\n",
    "stopwords.add('movie')\n",
    "stopwords.add('one')\n",
    "stopwords.add('even')\n",
    "stopwords.add('really')\n",
    "stopwords.add('time')\n",
    "stopwords.add('title')\n",
    "stopwords.add('first')\n",
    "stopwords.add('last')\n",
    "stopwords.add('don')\n",
    "stopwords.add('could')\n",
    "stopwords.add('many')\n",
    "stopwords.add('much')\n",
    "stopwords.add('also')\n",
    "stopwords.add('might')\n",
    "stopwords.add('should')\n",
    "stopwords.add('films')\n",
    "stopwords.add('movies')\n",
    "stopwords.add('way')\n",
    "stopwords.add('ever')\n",
    "stopwords.add('would')\n",
    "\n",
    "posdf['review'] = posdf['review'].apply(lambda x: ' '.join([word for word in x.split() if word not in (stopwords)]))"
   ]
  },
  {
   "cell_type": "markdown",
   "metadata": {},
   "source": [
    "### Section 3.2: Cleaning the reviews for the worst 25 movies"
   ]
  },
  {
   "cell_type": "code",
   "execution_count": 16,
   "metadata": {},
   "outputs": [
    {
     "data": {
      "text/html": [
       "<div>\n",
       "<style scoped>\n",
       "    .dataframe tbody tr th:only-of-type {\n",
       "        vertical-align: middle;\n",
       "    }\n",
       "\n",
       "    .dataframe tbody tr th {\n",
       "        vertical-align: top;\n",
       "    }\n",
       "\n",
       "    .dataframe thead th {\n",
       "        text-align: right;\n",
       "    }\n",
       "</style>\n",
       "<table border=\"1\" class=\"dataframe\">\n",
       "  <thead>\n",
       "    <tr style=\"text-align: right;\">\n",
       "      <th></th>\n",
       "      <th>0</th>\n",
       "      <th>1</th>\n",
       "      <th>2</th>\n",
       "    </tr>\n",
       "  </thead>\n",
       "  <tbody>\n",
       "    <tr>\n",
       "      <th>0</th>\n",
       "      <td>Daddy Day Camp</td>\n",
       "      <td>God-awful Family Film with Little to Offer</td>\n",
       "      <td>After sitting through the entirety of Daddy Da...</td>\n",
       "    </tr>\n",
       "    <tr>\n",
       "      <th>1</th>\n",
       "      <td>Daddy Day Camp</td>\n",
       "      <td>Not bad enough to be on the bottom 100 of IMDb...</td>\n",
       "      <td>Daddy Day Care was a sweet and simple movie th...</td>\n",
       "    </tr>\n",
       "    <tr>\n",
       "      <th>2</th>\n",
       "      <td>Daddy Day Camp</td>\n",
       "      <td>Average movie..definitely NOT worst in the his...</td>\n",
       "      <td>This is my first comment on IMDb, because i am...</td>\n",
       "    </tr>\n",
       "    <tr>\n",
       "      <th>3</th>\n",
       "      <td>Daddy Day Camp</td>\n",
       "      <td>simply a horrible idea</td>\n",
       "      <td>This movie was just awful. The plot is 2 guys ...</td>\n",
       "    </tr>\n",
       "    <tr>\n",
       "      <th>4</th>\n",
       "      <td>Daddy Day Camp</td>\n",
       "      <td>All in all, it's still terrible...</td>\n",
       "      <td>Really, I'm only commenting because the origin...</td>\n",
       "    </tr>\n",
       "  </tbody>\n",
       "</table>\n",
       "</div>"
      ],
      "text/plain": [
       "                0                                                  1  \\\n",
       "0  Daddy Day Camp         God-awful Family Film with Little to Offer   \n",
       "1  Daddy Day Camp  Not bad enough to be on the bottom 100 of IMDb...   \n",
       "2  Daddy Day Camp  Average movie..definitely NOT worst in the his...   \n",
       "3  Daddy Day Camp                             simply a horrible idea   \n",
       "4  Daddy Day Camp                 All in all, it's still terrible...   \n",
       "\n",
       "                                                   2  \n",
       "0  After sitting through the entirety of Daddy Da...  \n",
       "1  Daddy Day Care was a sweet and simple movie th...  \n",
       "2  This is my first comment on IMDb, because i am...  \n",
       "3  This movie was just awful. The plot is 2 guys ...  \n",
       "4  Really, I'm only commenting because the origin...  "
      ]
     },
     "execution_count": 16,
     "metadata": {},
     "output_type": "execute_result"
    }
   ],
   "source": [
    "negdf = pd.read_csv('data/worst_reviews.csv', index_col=0)\n",
    "negdf.head()"
   ]
  },
  {
   "cell_type": "code",
   "execution_count": 17,
   "metadata": {},
   "outputs": [],
   "source": [
    "negdf = negdf.rename(columns={'0':'movie', '1':'review_title', '2':'review'})"
   ]
  },
  {
   "cell_type": "code",
   "execution_count": 18,
   "metadata": {},
   "outputs": [],
   "source": [
    "negdf['movie'] = negdf['movie'].str.lower()\n",
    "negdf['review_title'] = negdf['review_title'].str.lower()\n",
    "negdf['review'] = negdf['review'].str.lower()"
   ]
  },
  {
   "cell_type": "code",
   "execution_count": 19,
   "metadata": {},
   "outputs": [],
   "source": [
    "negdf['movie'] = negdf['movie'].str.replace(\"[^a-zA-Z0-9]\", \" \")\n",
    "negdf['review_title'] = negdf['review_title'].str.replace(\"[^a-zA-Z0-9]\", \" \")\n",
    "negdf['review'] = negdf['review'].str.replace(\"[^a-zA-Z0-9]\", \" \")"
   ]
  },
  {
   "cell_type": "code",
   "execution_count": 20,
   "metadata": {},
   "outputs": [
    {
     "data": {
      "text/html": [
       "<div>\n",
       "<style scoped>\n",
       "    .dataframe tbody tr th:only-of-type {\n",
       "        vertical-align: middle;\n",
       "    }\n",
       "\n",
       "    .dataframe tbody tr th {\n",
       "        vertical-align: top;\n",
       "    }\n",
       "\n",
       "    .dataframe thead th {\n",
       "        text-align: right;\n",
       "    }\n",
       "</style>\n",
       "<table border=\"1\" class=\"dataframe\">\n",
       "  <thead>\n",
       "    <tr style=\"text-align: right;\">\n",
       "      <th></th>\n",
       "      <th>movie</th>\n",
       "      <th>review_title</th>\n",
       "      <th>review</th>\n",
       "    </tr>\n",
       "  </thead>\n",
       "  <tbody>\n",
       "    <tr>\n",
       "      <th>0</th>\n",
       "      <td>daddy day camp</td>\n",
       "      <td>god awful family film with little to offer</td>\n",
       "      <td>after sitting through the entirety daddy day c...</td>\n",
       "    </tr>\n",
       "    <tr>\n",
       "      <th>1</th>\n",
       "      <td>daddy day camp</td>\n",
       "      <td>not bad enough to be on the bottom 100 of imdb...</td>\n",
       "      <td>daddy day care was sweet and simple movie that...</td>\n",
       "    </tr>\n",
       "    <tr>\n",
       "      <th>2</th>\n",
       "      <td>daddy day camp</td>\n",
       "      <td>average movie  definitely not worst in the his...</td>\n",
       "      <td>this first comment imdb because not very good ...</td>\n",
       "    </tr>\n",
       "    <tr>\n",
       "      <th>3</th>\n",
       "      <td>daddy day camp</td>\n",
       "      <td>simply a horrible idea</td>\n",
       "      <td>this movie was just awful the plot guys who ru...</td>\n",
       "    </tr>\n",
       "    <tr>\n",
       "      <th>4</th>\n",
       "      <td>daddy day camp</td>\n",
       "      <td>all in all  it s still terrible</td>\n",
       "      <td>really only commenting because the original mo...</td>\n",
       "    </tr>\n",
       "  </tbody>\n",
       "</table>\n",
       "</div>"
      ],
      "text/plain": [
       "            movie                                       review_title  \\\n",
       "0  daddy day camp         god awful family film with little to offer   \n",
       "1  daddy day camp  not bad enough to be on the bottom 100 of imdb...   \n",
       "2  daddy day camp  average movie  definitely not worst in the his...   \n",
       "3  daddy day camp                             simply a horrible idea   \n",
       "4  daddy day camp                 all in all  it s still terrible      \n",
       "\n",
       "                                              review  \n",
       "0  after sitting through the entirety daddy day c...  \n",
       "1  daddy day care was sweet and simple movie that...  \n",
       "2  this first comment imdb because not very good ...  \n",
       "3  this movie was just awful the plot guys who ru...  \n",
       "4  really only commenting because the original mo...  "
      ]
     },
     "execution_count": 20,
     "metadata": {},
     "output_type": "execute_result"
    }
   ],
   "source": [
    "negdf['review'] = negdf['review'].str.findall('\\w{3,}').str.join(' ')\n",
    "negdf.head()"
   ]
  },
  {
   "cell_type": "code",
   "execution_count": 21,
   "metadata": {},
   "outputs": [],
   "source": [
    "from nltk.corpus import stopwords\n",
    "stopwords = stopwords.words('english')\n",
    "stopwords = set(stopwords)\n",
    "stopwords.add('film')\n",
    "stopwords.add('movie')\n",
    "stopwords.add('one')\n",
    "stopwords.add('even')\n",
    "stopwords.add('really')\n",
    "stopwords.add('time')\n",
    "stopwords.add('title')\n",
    "stopwords.add('first')\n",
    "stopwords.add('last')\n",
    "stopwords.add('don')\n",
    "stopwords.add('could')\n",
    "stopwords.add('many')\n",
    "stopwords.add('much')\n",
    "stopwords.add('also')\n",
    "stopwords.add('might')\n",
    "stopwords.add('should')\n",
    "stopwords.add('films')\n",
    "stopwords.add('movies')\n",
    "stopwords.add('way')\n",
    "stopwords.add('ever')\n",
    "stopwords.add('would')\n",
    "\n",
    "\n",
    "negdf['review'] = negdf['review'].apply(lambda x: ' '.join([word for word in x.split() if word not in (stopwords)]))"
   ]
  },
  {
   "cell_type": "markdown",
   "metadata": {},
   "source": [
    "## Section 4: Business Intelligence"
   ]
  },
  {
   "cell_type": "markdown",
   "metadata": {},
   "source": [
    "### Section 4.a: Descriptive Text Analytics"
   ]
  },
  {
   "cell_type": "markdown",
   "metadata": {},
   "source": [
    "#### Section 4.a.1: Descriptive Text Analytics for top 25 movies"
   ]
  },
  {
   "cell_type": "code",
   "execution_count": 22,
   "metadata": {},
   "outputs": [],
   "source": [
    "topsents = []\n",
    "\n",
    "for index, row in posdf.iterrows():\n",
    "    topsents.append(posdf['review'][index])"
   ]
  },
  {
   "cell_type": "code",
   "execution_count": 23,
   "metadata": {},
   "outputs": [
    {
     "name": "stdout",
     "output_type": "stream",
     "text": [
      "[0.41791979949874686, 0.3264030612244898, 0.3055361305361305, 0.236629045557617, 0.21454311454311456]\n"
     ]
    }
   ],
   "source": [
    "scores = []\n",
    "for row in topsents:\n",
    "    score = sentiment(row)\n",
    "    scores.append(score[0])\n",
    "    \n",
    "print scores[:5]"
   ]
  },
  {
   "cell_type": "code",
   "execution_count": 24,
   "metadata": {},
   "outputs": [],
   "source": [
    "posdf['sentiment'] = scores"
   ]
  },
  {
   "cell_type": "code",
   "execution_count": 25,
   "metadata": {},
   "outputs": [
    {
     "data": {
      "text/plain": [
       "count    671.000000\n",
       "mean       0.175336\n",
       "std        0.166653\n",
       "min       -0.341759\n",
       "25%        0.081391\n",
       "50%        0.168768\n",
       "75%        0.263795\n",
       "max        0.787500\n",
       "Name: sentiment, dtype: float64"
      ]
     },
     "execution_count": 25,
     "metadata": {},
     "output_type": "execute_result"
    }
   ],
   "source": [
    "posdf['sentiment'].describe()"
   ]
  },
  {
   "cell_type": "code",
   "execution_count": 26,
   "metadata": {},
   "outputs": [],
   "source": [
    "# This is the code I used to generate the 'best' variable originally, I had to save it as its own data file to get things\n",
    "# to work correctly\n",
    "\n",
    "#best = df[['movie', 'imdb_score']].sort_values(by=['imdb_score'], ascending=False).head(25)\n",
    "#best['movie'] = best['movie'].str.lower()"
   ]
  },
  {
   "cell_type": "code",
   "execution_count": 27,
   "metadata": {},
   "outputs": [],
   "source": [
    "#best.to_csv('best25movies.csv', index=False)"
   ]
  },
  {
   "cell_type": "code",
   "execution_count": 28,
   "metadata": {},
   "outputs": [],
   "source": [
    "best = pd.read_csv('data/best25movies.csv')"
   ]
  },
  {
   "cell_type": "code",
   "execution_count": 29,
   "metadata": {},
   "outputs": [
    {
     "data": {
      "text/html": [
       "<div>\n",
       "<style scoped>\n",
       "    .dataframe tbody tr th:only-of-type {\n",
       "        vertical-align: middle;\n",
       "    }\n",
       "\n",
       "    .dataframe tbody tr th {\n",
       "        vertical-align: top;\n",
       "    }\n",
       "\n",
       "    .dataframe thead th {\n",
       "        text-align: right;\n",
       "    }\n",
       "</style>\n",
       "<table border=\"1\" class=\"dataframe\">\n",
       "  <thead>\n",
       "    <tr style=\"text-align: right;\">\n",
       "      <th></th>\n",
       "      <th>movie</th>\n",
       "      <th>imdb_score</th>\n",
       "    </tr>\n",
       "  </thead>\n",
       "  <tbody>\n",
       "    <tr>\n",
       "      <th>0</th>\n",
       "      <td>the shawshank redemption</td>\n",
       "      <td>9.3</td>\n",
       "    </tr>\n",
       "    <tr>\n",
       "      <th>1</th>\n",
       "      <td>the godfather</td>\n",
       "      <td>9.2</td>\n",
       "    </tr>\n",
       "    <tr>\n",
       "      <th>2</th>\n",
       "      <td>the dark knight</td>\n",
       "      <td>9.0</td>\n",
       "    </tr>\n",
       "    <tr>\n",
       "      <th>3</th>\n",
       "      <td>the godfather: part ii</td>\n",
       "      <td>9.0</td>\n",
       "    </tr>\n",
       "    <tr>\n",
       "      <th>4</th>\n",
       "      <td>the lord of the rings: the return of the king</td>\n",
       "      <td>8.9</td>\n",
       "    </tr>\n",
       "  </tbody>\n",
       "</table>\n",
       "</div>"
      ],
      "text/plain": [
       "                                            movie  imdb_score\n",
       "0                       the shawshank redemption          9.3\n",
       "1                                  the godfather          9.2\n",
       "2                                the dark knight          9.0\n",
       "3                         the godfather: part ii          9.0\n",
       "4  the lord of the rings: the return of the king          8.9"
      ]
     },
     "execution_count": 29,
     "metadata": {},
     "output_type": "execute_result"
    }
   ],
   "source": [
    "best.head()"
   ]
  },
  {
   "cell_type": "code",
   "execution_count": 30,
   "metadata": {},
   "outputs": [],
   "source": [
    "best['movie'] = best['movie'].str.replace('\\xc2\\xa0', '')"
   ]
  },
  {
   "cell_type": "code",
   "execution_count": 31,
   "metadata": {},
   "outputs": [
    {
     "data": {
      "text/plain": [
       "'the shawshank redemption'"
      ]
     },
     "execution_count": 31,
     "metadata": {},
     "output_type": "execute_result"
    }
   ],
   "source": [
    "best['movie'][0]"
   ]
  },
  {
   "cell_type": "code",
   "execution_count": 32,
   "metadata": {},
   "outputs": [
    {
     "data": {
      "text/html": [
       "<div>\n",
       "<style scoped>\n",
       "    .dataframe tbody tr th:only-of-type {\n",
       "        vertical-align: middle;\n",
       "    }\n",
       "\n",
       "    .dataframe tbody tr th {\n",
       "        vertical-align: top;\n",
       "    }\n",
       "\n",
       "    .dataframe thead th {\n",
       "        text-align: right;\n",
       "    }\n",
       "</style>\n",
       "<table border=\"1\" class=\"dataframe\">\n",
       "  <thead>\n",
       "    <tr style=\"text-align: right;\">\n",
       "      <th></th>\n",
       "      <th>movie</th>\n",
       "      <th>review_title</th>\n",
       "      <th>review</th>\n",
       "      <th>sentiment</th>\n",
       "      <th>imdb_score</th>\n",
       "    </tr>\n",
       "  </thead>\n",
       "  <tbody>\n",
       "    <tr>\n",
       "      <th>0</th>\n",
       "      <td>the shawshank redemption</td>\n",
       "      <td>tied for the best movie i have ever seen</td>\n",
       "      <td>want write 234th comment shawshank redemption ...</td>\n",
       "      <td>0.417920</td>\n",
       "      <td>9.3</td>\n",
       "    </tr>\n",
       "    <tr>\n",
       "      <th>1</th>\n",
       "      <td>the shawshank redemption</td>\n",
       "      <td>prepare to be moved</td>\n",
       "      <td>never seen amazing since saw shawshank redempt...</td>\n",
       "      <td>0.326403</td>\n",
       "      <td>9.3</td>\n",
       "    </tr>\n",
       "    <tr>\n",
       "      <th>2</th>\n",
       "      <td>the shawshank redemption</td>\n",
       "      <td>this is how movies should be made</td>\n",
       "      <td>ordinary hollywood flick great deep message fo...</td>\n",
       "      <td>0.305536</td>\n",
       "      <td>9.3</td>\n",
       "    </tr>\n",
       "    <tr>\n",
       "      <th>3</th>\n",
       "      <td>the shawshank redemption</td>\n",
       "      <td>shawshank redeems hollywood</td>\n",
       "      <td>hollywood usually creating things entertainmen...</td>\n",
       "      <td>0.236629</td>\n",
       "      <td>9.3</td>\n",
       "    </tr>\n",
       "    <tr>\n",
       "      <th>4</th>\n",
       "      <td>the shawshank redemption</td>\n",
       "      <td>don t rent shawshank</td>\n",
       "      <td>trying save money consider borrowing renting s...</td>\n",
       "      <td>0.214543</td>\n",
       "      <td>9.3</td>\n",
       "    </tr>\n",
       "  </tbody>\n",
       "</table>\n",
       "</div>"
      ],
      "text/plain": [
       "                      movie                              review_title  \\\n",
       "0  the shawshank redemption  tied for the best movie i have ever seen   \n",
       "1  the shawshank redemption                       prepare to be moved   \n",
       "2  the shawshank redemption         this is how movies should be made   \n",
       "3  the shawshank redemption               shawshank redeems hollywood   \n",
       "4  the shawshank redemption                     don t rent shawshank    \n",
       "\n",
       "                                              review  sentiment  imdb_score  \n",
       "0  want write 234th comment shawshank redemption ...   0.417920         9.3  \n",
       "1  never seen amazing since saw shawshank redempt...   0.326403         9.3  \n",
       "2  ordinary hollywood flick great deep message fo...   0.305536         9.3  \n",
       "3  hollywood usually creating things entertainmen...   0.236629         9.3  \n",
       "4  trying save money consider borrowing renting s...   0.214543         9.3  "
      ]
     },
     "execution_count": 32,
     "metadata": {},
     "output_type": "execute_result"
    }
   ],
   "source": [
    "posdf = pd.merge(posdf, best, how='left', on='movie')\n",
    "posdf.head()"
   ]
  },
  {
   "cell_type": "code",
   "execution_count": 33,
   "metadata": {},
   "outputs": [],
   "source": [
    "posdf['wordcounts'] = posdf['review'].str.split()\n",
    "posdf['wordcount'] = posdf.wordcounts.str.len()\n",
    "posdf.drop('wordcounts',axis=1, inplace=True)"
   ]
  },
  {
   "cell_type": "code",
   "execution_count": 34,
   "metadata": {},
   "outputs": [
    {
     "data": {
      "text/plain": [
       "152.50074515648285"
      ]
     },
     "execution_count": 34,
     "metadata": {},
     "output_type": "execute_result"
    }
   ],
   "source": [
    "#Average number of words in the reviews for the top 25 movies\n",
    "posdf['wordcount'].mean()"
   ]
  },
  {
   "cell_type": "code",
   "execution_count": 35,
   "metadata": {},
   "outputs": [
    {
     "data": {
      "text/html": [
       "<div>\n",
       "<style scoped>\n",
       "    .dataframe tbody tr th:only-of-type {\n",
       "        vertical-align: middle;\n",
       "    }\n",
       "\n",
       "    .dataframe tbody tr th {\n",
       "        vertical-align: top;\n",
       "    }\n",
       "\n",
       "    .dataframe thead th {\n",
       "        text-align: right;\n",
       "    }\n",
       "</style>\n",
       "<table border=\"1\" class=\"dataframe\">\n",
       "  <thead>\n",
       "    <tr style=\"text-align: right;\">\n",
       "      <th></th>\n",
       "      <th>0</th>\n",
       "      <th>1</th>\n",
       "    </tr>\n",
       "  </thead>\n",
       "  <tbody>\n",
       "    <tr>\n",
       "      <th>10050</th>\n",
       "      <td>like</td>\n",
       "      <td>667</td>\n",
       "    </tr>\n",
       "    <tr>\n",
       "      <th>12347</th>\n",
       "      <td>story</td>\n",
       "      <td>555</td>\n",
       "    </tr>\n",
       "    <tr>\n",
       "      <th>2638</th>\n",
       "      <td>great</td>\n",
       "      <td>513</td>\n",
       "    </tr>\n",
       "    <tr>\n",
       "      <th>11733</th>\n",
       "      <td>good</td>\n",
       "      <td>494</td>\n",
       "    </tr>\n",
       "    <tr>\n",
       "      <th>478</th>\n",
       "      <td>best</td>\n",
       "      <td>471</td>\n",
       "    </tr>\n",
       "    <tr>\n",
       "      <th>2170</th>\n",
       "      <td>see</td>\n",
       "      <td>458</td>\n",
       "    </tr>\n",
       "    <tr>\n",
       "      <th>6562</th>\n",
       "      <td>well</td>\n",
       "      <td>454</td>\n",
       "    </tr>\n",
       "    <tr>\n",
       "      <th>10850</th>\n",
       "      <td>characters</td>\n",
       "      <td>423</td>\n",
       "    </tr>\n",
       "    <tr>\n",
       "      <th>688</th>\n",
       "      <td>people</td>\n",
       "      <td>409</td>\n",
       "    </tr>\n",
       "    <tr>\n",
       "      <th>13618</th>\n",
       "      <td>made</td>\n",
       "      <td>341</td>\n",
       "    </tr>\n",
       "    <tr>\n",
       "      <th>7443</th>\n",
       "      <td>character</td>\n",
       "      <td>332</td>\n",
       "    </tr>\n",
       "    <tr>\n",
       "      <th>553</th>\n",
       "      <td>life</td>\n",
       "      <td>326</td>\n",
       "    </tr>\n",
       "    <tr>\n",
       "      <th>8647</th>\n",
       "      <td>two</td>\n",
       "      <td>321</td>\n",
       "    </tr>\n",
       "    <tr>\n",
       "      <th>7155</th>\n",
       "      <td>seen</td>\n",
       "      <td>292</td>\n",
       "    </tr>\n",
       "    <tr>\n",
       "      <th>8108</th>\n",
       "      <td>get</td>\n",
       "      <td>280</td>\n",
       "    </tr>\n",
       "  </tbody>\n",
       "</table>\n",
       "</div>"
      ],
      "text/plain": [
       "                0    1\n",
       "10050        like  667\n",
       "12347       story  555\n",
       "2638        great  513\n",
       "11733        good  494\n",
       "478          best  471\n",
       "2170          see  458\n",
       "6562         well  454\n",
       "10850  characters  423\n",
       "688        people  409\n",
       "13618        made  341\n",
       "7443    character  332\n",
       "553          life  326\n",
       "8647          two  321\n",
       "7155         seen  292\n",
       "8108          get  280"
      ]
     },
     "execution_count": 35,
     "metadata": {},
     "output_type": "execute_result"
    }
   ],
   "source": [
    "# Word Frequency Analysis for top 25 movies: top 15 most common words\n",
    "\n",
    "from collections import Counter\n",
    "\n",
    "fdist = Counter(\" \".join(posdf['review']).split(\" \")).items()\n",
    "\n",
    "freq_word = []\n",
    "\n",
    "for k,v in fdist:\n",
    "    freq_word.append([k,v])\n",
    "\n",
    "wordlist = pd.DataFrame(freq_word)\n",
    "wordlist.sort_values(by=1, ascending=False).head(15)"
   ]
  },
  {
   "cell_type": "code",
   "execution_count": 38,
   "metadata": {},
   "outputs": [
    {
     "data": {
      "text/html": [
       "<div>\n",
       "<style scoped>\n",
       "    .dataframe tbody tr th:only-of-type {\n",
       "        vertical-align: middle;\n",
       "    }\n",
       "\n",
       "    .dataframe tbody tr th {\n",
       "        vertical-align: top;\n",
       "    }\n",
       "\n",
       "    .dataframe thead th {\n",
       "        text-align: right;\n",
       "    }\n",
       "</style>\n",
       "<table border=\"1\" class=\"dataframe\">\n",
       "  <thead>\n",
       "    <tr style=\"text-align: right;\">\n",
       "      <th></th>\n",
       "      <th>word</th>\n",
       "      <th>count</th>\n",
       "    </tr>\n",
       "  </thead>\n",
       "  <tbody>\n",
       "    <tr>\n",
       "      <th>0</th>\n",
       "      <td>fawn</td>\n",
       "      <td>1</td>\n",
       "    </tr>\n",
       "  </tbody>\n",
       "</table>\n",
       "</div>"
      ],
      "text/plain": [
       "   word  count\n",
       "0  fawn      1"
      ]
     },
     "execution_count": 38,
     "metadata": {},
     "output_type": "execute_result"
    }
   ],
   "source": [
    "wordlist = wordlist.rename(columns={0:'word', 1:'count'})\n",
    "wordlist.head(1)"
   ]
  },
  {
   "cell_type": "code",
   "execution_count": 41,
   "metadata": {},
   "outputs": [],
   "source": [
    "wordlist.set_index('word',inplace=True)"
   ]
  },
  {
   "cell_type": "code",
   "execution_count": 43,
   "metadata": {},
   "outputs": [
    {
     "data": {
      "text/plain": [
       "<matplotlib.axes._subplots.AxesSubplot at 0x12247208>"
      ]
     },
     "execution_count": 43,
     "metadata": {},
     "output_type": "execute_result"
    },
    {
     "data": {
      "image/png": "[encoded data removed]",
      "text/plain": [
       "<Figure size 432x288 with 1 Axes>"
      ]
     },
     "metadata": {
      "needs_background": "light"
     },
     "output_type": "display_data"
    }
   ],
   "source": [
    "wordlist.sort_values(by='count', ascending=False).head(15).plot(kind='barh')"
   ]
  },
  {
   "cell_type": "code",
   "execution_count": 44,
   "metadata": {},
   "outputs": [],
   "source": [
    "#Classifying reviews as positive, neutral, or negative to see how many are in each class\n",
    "\n",
    "positive_review = []\n",
    "negative_review = []\n",
    "neutral_review = []\n",
    "\n",
    "for review in topsents:\n",
    "    rev = review\n",
    "    score = sentiment(rev)\n",
    "    if score[0] > 0:\n",
    "        positive_review.append([rev,score])\n",
    "    elif score[0] == 0:\n",
    "        neutral_review.append([rev,score])\n",
    "    else:\n",
    "        negative_review.append([rev,score])"
   ]
  },
  {
   "cell_type": "code",
   "execution_count": 45,
   "metadata": {},
   "outputs": [],
   "source": [
    "num_pos = len(positive_review)\n",
    "num_neu = len(neutral_review)\n",
    "num_neg = len(negative_review)"
   ]
  },
  {
   "cell_type": "code",
   "execution_count": 46,
   "metadata": {},
   "outputs": [
    {
     "name": "stdout",
     "output_type": "stream",
     "text": [
      "The number of positive reviews is: 594\n",
      "The number of neutral reviews is: 2\n",
      "The number of negative reviews is: 75\n"
     ]
    }
   ],
   "source": [
    "print \"The number of positive reviews is: {}\".format(num_pos)\n",
    "print \"The number of neutral reviews is: {}\".format(num_neu)\n",
    "print \"The number of negative reviews is: {}\".format(num_neg) "
   ]
  },
  {
   "cell_type": "code",
   "execution_count": 47,
   "metadata": {},
   "outputs": [
    {
     "data": {
      "image/png": "[encoded data removed]",
      "text/plain": [
       "<Figure size 432x288 with 1 Axes>"
      ]
     },
     "metadata": {
      "needs_background": "light"
     },
     "output_type": "display_data"
    }
   ],
   "source": [
    "#Wordcloud analysis\n",
    "\n",
    "from wordcloud import WordCloud, STOPWORDS\n",
    "import matplotlib.pyplot as plt\n",
    "%matplotlib inline\n",
    "\n",
    "wordcloud = WordCloud().generate(' '.join(posdf['review']))\n",
    "plt.imshow(wordcloud)\n",
    "plt.axis(\"off\")\n",
    "plt.show()"
   ]
  },
  {
   "cell_type": "markdown",
   "metadata": {},
   "source": [
    "#### Section 4.a.2: Descriptive Text Analytics for worst 25 movies"
   ]
  },
  {
   "cell_type": "code",
   "execution_count": 48,
   "metadata": {},
   "outputs": [],
   "source": [
    "bottomsents = []\n",
    "\n",
    "for index, row in negdf.iterrows():\n",
    "    bottomsents.append(negdf['review'][index])"
   ]
  },
  {
   "cell_type": "code",
   "execution_count": 49,
   "metadata": {},
   "outputs": [
    {
     "name": "stdout",
     "output_type": "stream",
     "text": [
      "[-0.07799603174603173, 0.08238916256157638, -0.2058333333333333, -0.15277777777777776, 0.10677083333333336]\n"
     ]
    }
   ],
   "source": [
    "scores = []\n",
    "for row in bottomsents:\n",
    "    score = sentiment(row)\n",
    "    scores.append(score[0])\n",
    "    \n",
    "print scores[:5]"
   ]
  },
  {
   "cell_type": "code",
   "execution_count": 50,
   "metadata": {},
   "outputs": [],
   "source": [
    "negdf['sentiment'] = scores"
   ]
  },
  {
   "cell_type": "code",
   "execution_count": 51,
   "metadata": {},
   "outputs": [
    {
     "data": {
      "text/plain": [
       "count    730.000000\n",
       "mean       0.017593\n",
       "std        0.197919\n",
       "min       -1.000000\n",
       "25%       -0.107547\n",
       "50%        0.016667\n",
       "75%        0.138116\n",
       "max        0.681481\n",
       "Name: sentiment, dtype: float64"
      ]
     },
     "execution_count": 51,
     "metadata": {},
     "output_type": "execute_result"
    }
   ],
   "source": [
    "negdf['sentiment'].describe()"
   ]
  },
  {
   "cell_type": "code",
   "execution_count": 52,
   "metadata": {},
   "outputs": [],
   "source": [
    "# This is the code I used to generate the 'worst' variable originally, I had to save it as its own data file to get things\n",
    "# to work correctly\n",
    "\n",
    "#worst = df[['movie', 'imdb_score']].sort_values(by=['imdb_score'], ascending=False).tail(25)\n",
    "#worst['movie'] = worst['movie'].str.lower()\n",
    "#worst.head(1)"
   ]
  },
  {
   "cell_type": "code",
   "execution_count": 53,
   "metadata": {},
   "outputs": [],
   "source": [
    "#worst.to_csv('worst25movies.csv', index=False)"
   ]
  },
  {
   "cell_type": "code",
   "execution_count": 54,
   "metadata": {},
   "outputs": [
    {
     "data": {
      "text/html": [
       "<div>\n",
       "<style scoped>\n",
       "    .dataframe tbody tr th:only-of-type {\n",
       "        vertical-align: middle;\n",
       "    }\n",
       "\n",
       "    .dataframe tbody tr th {\n",
       "        vertical-align: top;\n",
       "    }\n",
       "\n",
       "    .dataframe thead th {\n",
       "        text-align: right;\n",
       "    }\n",
       "</style>\n",
       "<table border=\"1\" class=\"dataframe\">\n",
       "  <thead>\n",
       "    <tr style=\"text-align: right;\">\n",
       "      <th></th>\n",
       "      <th>movie</th>\n",
       "      <th>imdb_score</th>\n",
       "    </tr>\n",
       "  </thead>\n",
       "  <tbody>\n",
       "    <tr>\n",
       "      <th>0</th>\n",
       "      <td>daddy day camp</td>\n",
       "      <td>2.9</td>\n",
       "    </tr>\n",
       "    <tr>\n",
       "      <th>1</th>\n",
       "      <td>bloodrayne</td>\n",
       "      <td>2.9</td>\n",
       "    </tr>\n",
       "  </tbody>\n",
       "</table>\n",
       "</div>"
      ],
      "text/plain": [
       "             movie  imdb_score\n",
       "0  daddy day camp          2.9\n",
       "1      bloodrayne          2.9"
      ]
     },
     "execution_count": 54,
     "metadata": {},
     "output_type": "execute_result"
    }
   ],
   "source": [
    "worst = pd.read_csv('data/worst25movies.csv')\n",
    "worst.head(2)"
   ]
  },
  {
   "cell_type": "code",
   "execution_count": 55,
   "metadata": {},
   "outputs": [
    {
     "data": {
      "text/plain": [
       "'daddy day camp\\xc2\\xa0'"
      ]
     },
     "execution_count": 55,
     "metadata": {},
     "output_type": "execute_result"
    }
   ],
   "source": [
    "worst['movie'][0]"
   ]
  },
  {
   "cell_type": "code",
   "execution_count": 56,
   "metadata": {},
   "outputs": [],
   "source": [
    "worst['movie'] = worst['movie'].str.replace('\\xc2\\xa0', '')"
   ]
  },
  {
   "cell_type": "code",
   "execution_count": 57,
   "metadata": {},
   "outputs": [
    {
     "data": {
      "text/plain": [
       "'daddy day camp'"
      ]
     },
     "execution_count": 57,
     "metadata": {},
     "output_type": "execute_result"
    }
   ],
   "source": [
    "worst['movie'][0]"
   ]
  },
  {
   "cell_type": "code",
   "execution_count": 58,
   "metadata": {},
   "outputs": [
    {
     "data": {
      "text/html": [
       "<div>\n",
       "<style scoped>\n",
       "    .dataframe tbody tr th:only-of-type {\n",
       "        vertical-align: middle;\n",
       "    }\n",
       "\n",
       "    .dataframe tbody tr th {\n",
       "        vertical-align: top;\n",
       "    }\n",
       "\n",
       "    .dataframe thead th {\n",
       "        text-align: right;\n",
       "    }\n",
       "</style>\n",
       "<table border=\"1\" class=\"dataframe\">\n",
       "  <thead>\n",
       "    <tr style=\"text-align: right;\">\n",
       "      <th></th>\n",
       "      <th>movie</th>\n",
       "      <th>review_title</th>\n",
       "      <th>review</th>\n",
       "      <th>sentiment</th>\n",
       "      <th>imdb_score</th>\n",
       "    </tr>\n",
       "  </thead>\n",
       "  <tbody>\n",
       "    <tr>\n",
       "      <th>0</th>\n",
       "      <td>daddy day camp</td>\n",
       "      <td>god awful family film with little to offer</td>\n",
       "      <td>sitting entirety daddy day camp wonder going e...</td>\n",
       "      <td>-0.077996</td>\n",
       "      <td>2.9</td>\n",
       "    </tr>\n",
       "    <tr>\n",
       "      <th>1</th>\n",
       "      <td>daddy day camp</td>\n",
       "      <td>not bad enough to be on the bottom 100 of imdb...</td>\n",
       "      <td>daddy day care sweet simple enjoyed quite bit ...</td>\n",
       "      <td>0.082389</td>\n",
       "      <td>2.9</td>\n",
       "    </tr>\n",
       "    <tr>\n",
       "      <th>2</th>\n",
       "      <td>daddy day camp</td>\n",
       "      <td>average movie  definitely not worst in the his...</td>\n",
       "      <td>comment imdb good english seeing underrated ca...</td>\n",
       "      <td>-0.205833</td>\n",
       "      <td>2.9</td>\n",
       "    </tr>\n",
       "    <tr>\n",
       "      <th>3</th>\n",
       "      <td>daddy day camp</td>\n",
       "      <td>simply a horrible idea</td>\n",
       "      <td>awful plot guys run day care decide take day c...</td>\n",
       "      <td>-0.152778</td>\n",
       "      <td>2.9</td>\n",
       "    </tr>\n",
       "    <tr>\n",
       "      <th>4</th>\n",
       "      <td>daddy day camp</td>\n",
       "      <td>all in all  it s still terrible</td>\n",
       "      <td>commenting original useful comment idiotic pra...</td>\n",
       "      <td>0.106771</td>\n",
       "      <td>2.9</td>\n",
       "    </tr>\n",
       "  </tbody>\n",
       "</table>\n",
       "</div>"
      ],
      "text/plain": [
       "            movie                                       review_title  \\\n",
       "0  daddy day camp         god awful family film with little to offer   \n",
       "1  daddy day camp  not bad enough to be on the bottom 100 of imdb...   \n",
       "2  daddy day camp  average movie  definitely not worst in the his...   \n",
       "3  daddy day camp                             simply a horrible idea   \n",
       "4  daddy day camp                 all in all  it s still terrible      \n",
       "\n",
       "                                              review  sentiment  imdb_score  \n",
       "0  sitting entirety daddy day camp wonder going e...  -0.077996         2.9  \n",
       "1  daddy day care sweet simple enjoyed quite bit ...   0.082389         2.9  \n",
       "2  comment imdb good english seeing underrated ca...  -0.205833         2.9  \n",
       "3  awful plot guys run day care decide take day c...  -0.152778         2.9  \n",
       "4  commenting original useful comment idiotic pra...   0.106771         2.9  "
      ]
     },
     "execution_count": 58,
     "metadata": {},
     "output_type": "execute_result"
    }
   ],
   "source": [
    "negdf = pd.merge(negdf, worst, how='left', on='movie')\n",
    "negdf.head()"
   ]
  },
  {
   "cell_type": "code",
   "execution_count": 59,
   "metadata": {},
   "outputs": [],
   "source": [
    "negdf['wordcounts'] = negdf['review'].str.split()\n",
    "negdf['wordcount'] = negdf.wordcounts.str.len()\n",
    "negdf.drop('wordcounts',axis=1, inplace=True)"
   ]
  },
  {
   "cell_type": "code",
   "execution_count": 60,
   "metadata": {},
   "outputs": [
    {
     "data": {
      "text/plain": [
       "100.17260273972603"
      ]
     },
     "execution_count": 60,
     "metadata": {},
     "output_type": "execute_result"
    }
   ],
   "source": [
    "negdf['wordcount'].mean()"
   ]
  },
  {
   "cell_type": "code",
   "execution_count": 61,
   "metadata": {},
   "outputs": [
    {
     "data": {
      "text/html": [
       "<div>\n",
       "<style scoped>\n",
       "    .dataframe tbody tr th:only-of-type {\n",
       "        vertical-align: middle;\n",
       "    }\n",
       "\n",
       "    .dataframe tbody tr th {\n",
       "        vertical-align: top;\n",
       "    }\n",
       "\n",
       "    .dataframe thead th {\n",
       "        text-align: right;\n",
       "    }\n",
       "</style>\n",
       "<table border=\"1\" class=\"dataframe\">\n",
       "  <thead>\n",
       "    <tr style=\"text-align: right;\">\n",
       "      <th></th>\n",
       "      <th>0</th>\n",
       "      <th>1</th>\n",
       "    </tr>\n",
       "  </thead>\n",
       "  <tbody>\n",
       "    <tr>\n",
       "      <th>8493</th>\n",
       "      <td>like</td>\n",
       "      <td>732</td>\n",
       "    </tr>\n",
       "    <tr>\n",
       "      <th>2413</th>\n",
       "      <td>bad</td>\n",
       "      <td>561</td>\n",
       "    </tr>\n",
       "    <tr>\n",
       "      <th>9890</th>\n",
       "      <td>good</td>\n",
       "      <td>490</td>\n",
       "    </tr>\n",
       "    <tr>\n",
       "      <th>1852</th>\n",
       "      <td>see</td>\n",
       "      <td>417</td>\n",
       "    </tr>\n",
       "    <tr>\n",
       "      <th>588</th>\n",
       "      <td>people</td>\n",
       "      <td>331</td>\n",
       "    </tr>\n",
       "    <tr>\n",
       "      <th>9046</th>\n",
       "      <td>watch</td>\n",
       "      <td>289</td>\n",
       "    </tr>\n",
       "    <tr>\n",
       "      <th>11462</th>\n",
       "      <td>made</td>\n",
       "      <td>288</td>\n",
       "    </tr>\n",
       "    <tr>\n",
       "      <th>6718</th>\n",
       "      <td>think</td>\n",
       "      <td>285</td>\n",
       "    </tr>\n",
       "    <tr>\n",
       "      <th>6214</th>\n",
       "      <td>make</td>\n",
       "      <td>282</td>\n",
       "    </tr>\n",
       "    <tr>\n",
       "      <th>6836</th>\n",
       "      <td>get</td>\n",
       "      <td>281</td>\n",
       "    </tr>\n",
       "    <tr>\n",
       "      <th>1949</th>\n",
       "      <td>funny</td>\n",
       "      <td>275</td>\n",
       "    </tr>\n",
       "    <tr>\n",
       "      <th>5507</th>\n",
       "      <td>well</td>\n",
       "      <td>245</td>\n",
       "    </tr>\n",
       "    <tr>\n",
       "      <th>5641</th>\n",
       "      <td>acting</td>\n",
       "      <td>230</td>\n",
       "    </tr>\n",
       "    <tr>\n",
       "      <th>11368</th>\n",
       "      <td>know</td>\n",
       "      <td>219</td>\n",
       "    </tr>\n",
       "    <tr>\n",
       "      <th>10410</th>\n",
       "      <td>story</td>\n",
       "      <td>216</td>\n",
       "    </tr>\n",
       "  </tbody>\n",
       "</table>\n",
       "</div>"
      ],
      "text/plain": [
       "            0    1\n",
       "8493     like  732\n",
       "2413      bad  561\n",
       "9890     good  490\n",
       "1852      see  417\n",
       "588    people  331\n",
       "9046    watch  289\n",
       "11462    made  288\n",
       "6718    think  285\n",
       "6214     make  282\n",
       "6836      get  281\n",
       "1949    funny  275\n",
       "5507     well  245\n",
       "5641   acting  230\n",
       "11368    know  219\n",
       "10410   story  216"
      ]
     },
     "execution_count": 61,
     "metadata": {},
     "output_type": "execute_result"
    }
   ],
   "source": [
    "# Word Frequency Analysis for bottom 25 movies: top 15 most common words\n",
    "\n",
    "from collections import Counter\n",
    "\n",
    "fdist = Counter(\" \".join(negdf['review']).split(\" \")).items()\n",
    "\n",
    "freq_word = []\n",
    "\n",
    "for k,v in fdist:\n",
    "    freq_word.append([k,v])\n",
    "\n",
    "wordlist = pd.DataFrame(freq_word)\n",
    "wordlist.sort_values(by=1, ascending=False).head(15)"
   ]
  },
  {
   "cell_type": "code",
   "execution_count": 62,
   "metadata": {},
   "outputs": [
    {
     "data": {
      "text/html": [
       "<div>\n",
       "<style scoped>\n",
       "    .dataframe tbody tr th:only-of-type {\n",
       "        vertical-align: middle;\n",
       "    }\n",
       "\n",
       "    .dataframe tbody tr th {\n",
       "        vertical-align: top;\n",
       "    }\n",
       "\n",
       "    .dataframe thead th {\n",
       "        text-align: right;\n",
       "    }\n",
       "</style>\n",
       "<table border=\"1\" class=\"dataframe\">\n",
       "  <thead>\n",
       "    <tr style=\"text-align: right;\">\n",
       "      <th></th>\n",
       "      <th>word</th>\n",
       "      <th>count</th>\n",
       "    </tr>\n",
       "  </thead>\n",
       "  <tbody>\n",
       "    <tr>\n",
       "      <th>0</th>\n",
       "      <td>raining</td>\n",
       "      <td>2</td>\n",
       "    </tr>\n",
       "  </tbody>\n",
       "</table>\n",
       "</div>"
      ],
      "text/plain": [
       "      word  count\n",
       "0  raining      2"
      ]
     },
     "execution_count": 62,
     "metadata": {},
     "output_type": "execute_result"
    }
   ],
   "source": [
    "wordlist = wordlist.rename(columns={0:'word', 1:'count'})\n",
    "wordlist.head(1)"
   ]
  },
  {
   "cell_type": "code",
   "execution_count": 63,
   "metadata": {},
   "outputs": [],
   "source": [
    "wordlist.set_index('word',inplace=True)"
   ]
  },
  {
   "cell_type": "code",
   "execution_count": 64,
   "metadata": {},
   "outputs": [
    {
     "data": {
      "text/plain": [
       "<matplotlib.axes._subplots.AxesSubplot at 0x14e2c198>"
      ]
     },
     "execution_count": 64,
     "metadata": {},
     "output_type": "execute_result"
    },
    {
     "data": {
      "image/png": "[encoded data removed]",
      "text/plain": [
       "<Figure size 432x288 with 1 Axes>"
      ]
     },
     "metadata": {
      "needs_background": "light"
     },
     "output_type": "display_data"
    }
   ],
   "source": [
    "wordlist.sort_values(by='count', ascending=False).head(15).plot(kind='barh')"
   ]
  },
  {
   "cell_type": "code",
   "execution_count": 65,
   "metadata": {},
   "outputs": [],
   "source": [
    "#Classifying reviews as positive, neutral, or negative to see how many are in each class\n",
    "\n",
    "positive_review = []\n",
    "negative_review = []\n",
    "neutral_review = []\n",
    "\n",
    "for review in bottomsents:\n",
    "    rev = review\n",
    "    score = sentiment(rev)\n",
    "    if score[0] > 0:\n",
    "        positive_review.append([rev,score])\n",
    "    elif score[0] == 0:\n",
    "        neutral_review.append([rev,score])\n",
    "    else:\n",
    "        negative_review.append([rev,score])"
   ]
  },
  {
   "cell_type": "code",
   "execution_count": 66,
   "metadata": {},
   "outputs": [],
   "source": [
    "num_pos = len(positive_review)\n",
    "num_neu = len(neutral_review)\n",
    "num_neg = len(negative_review)"
   ]
  },
  {
   "cell_type": "code",
   "execution_count": 67,
   "metadata": {},
   "outputs": [
    {
     "name": "stdout",
     "output_type": "stream",
     "text": [
      "The number of positive reviews is: 402\n",
      "The number of neutral reviews is: 0\n",
      "The number of negative reviews is: 328\n"
     ]
    }
   ],
   "source": [
    "print \"The number of positive reviews is: {}\".format(num_pos)\n",
    "print \"The number of neutral reviews is: {}\".format(num_neu)\n",
    "print \"The number of negative reviews is: {}\".format(num_neg) "
   ]
  },
  {
   "cell_type": "code",
   "execution_count": 68,
   "metadata": {},
   "outputs": [
    {
     "data": {
      "image/png": "[encoded data removed]",
      "text/plain": [
       "<Figure size 432x288 with 1 Axes>"
      ]
     },
     "metadata": {
      "needs_background": "light"
     },
     "output_type": "display_data"
    }
   ],
   "source": [
    "#Wordcloud analysis\n",
    "\n",
    "from wordcloud import WordCloud, STOPWORDS\n",
    "import matplotlib.pyplot as plt\n",
    "%matplotlib inline\n",
    "\n",
    "wordcloud = WordCloud().generate(' '.join(negdf['review']))\n",
    "plt.imshow(wordcloud)\n",
    "plt.axis(\"off\")\n",
    "plt.show()"
   ]
  },
  {
   "cell_type": "markdown",
   "metadata": {},
   "source": [
    "##### Section 4.a.3: Quick discussion of the results of descriptive text analytics "
   ]
  },
  {
   "cell_type": "markdown",
   "metadata": {},
   "source": [
    "##### Based on our analysis thus far, we can see a few important things in our data:\n",
    "\n",
    "        1. The average review length for the top 25 movies was about 150 words, and the average review lenght for \n",
    "           the worst 25 movies was only about a hundred words. This tells us that if a review is longer, it is \n",
    "           more likely to be on a movie that has a higher imdb score, which would be usefull for predicting future\n",
    "           movie success. If our movie just came out, and we are seeing longer reviews, we can take that as sign\n",
    "           that our movie will likely be positively recieved by the public, meaning that it will likely be more\n",
    "           profitable at the box office.\n",
    "           \n",
    "        2. From the word cloud and word frequency analysis, we can see that the most common words in the best 25 movies\n",
    "           were \"like\", \"story\", \"great\", and \"character.\" This gives us some insights into what factors might make \n",
    "           a movie great, or what might make people respond more positvely to a movie. If a movie has a really good\n",
    "           story and well developed characters, it will likely be more successful and profitable than movies that lack\n",
    "           story and character development. \n",
    "           \n",
    "           One of the things that stood out to me about the wordcloud and word frequency analysis of the worst 25 movies\n",
    "           was that it was a mixed bag of reviews, with a lot of people saying good, and a lot of people saying bad. \n",
    "           Another interesting bit of information that we can see in the word cloud of the worst 25 movies is the word\n",
    "           funny. This could be important as it might indicate that movies that are in the comedy genre might have a \n",
    "           lower imdb score than movies in other genres."
   ]
  },
  {
   "cell_type": "markdown",
   "metadata": {},
   "source": [
    "### Section 4.b: Sentiment Analysis"
   ]
  },
  {
   "cell_type": "markdown",
   "metadata": {},
   "source": [
    "#### Section 4.b.1: Predicting top 25 movie success using review sentiments"
   ]
  },
  {
   "cell_type": "code",
   "execution_count": 69,
   "metadata": {},
   "outputs": [],
   "source": [
    "#Im going to use correlation and regression to determine if sentiment is a good predictor of imdb score\n",
    "import pandas as pd\n",
    "import numpy as np\n",
    "import seaborn as sns\n",
    "import matplotlib.pyplot as plt\n",
    "%matplotlib inline\n",
    "\n",
    "import sklearn.linear_model as lm\n",
    "from sklearn.metrics import mean_squared_error\n",
    "from sklearn.metrics import explained_variance_score\n",
    "\n",
    "import statsmodels.api as sm\n",
    "from statsmodels.formula.api import ols"
   ]
  },
  {
   "cell_type": "code",
   "execution_count": 70,
   "metadata": {},
   "outputs": [
    {
     "data": {
      "text/html": [
       "<div>\n",
       "<style scoped>\n",
       "    .dataframe tbody tr th:only-of-type {\n",
       "        vertical-align: middle;\n",
       "    }\n",
       "\n",
       "    .dataframe tbody tr th {\n",
       "        vertical-align: top;\n",
       "    }\n",
       "\n",
       "    .dataframe thead th {\n",
       "        text-align: right;\n",
       "    }\n",
       "</style>\n",
       "<table border=\"1\" class=\"dataframe\">\n",
       "  <thead>\n",
       "    <tr style=\"text-align: right;\">\n",
       "      <th></th>\n",
       "      <th>sentiment</th>\n",
       "      <th>imdb_score</th>\n",
       "      <th>wordcount</th>\n",
       "    </tr>\n",
       "  </thead>\n",
       "  <tbody>\n",
       "    <tr>\n",
       "      <th>sentiment</th>\n",
       "      <td>1.000000</td>\n",
       "      <td>0.124609</td>\n",
       "      <td>-0.092312</td>\n",
       "    </tr>\n",
       "    <tr>\n",
       "      <th>imdb_score</th>\n",
       "      <td>0.124609</td>\n",
       "      <td>1.000000</td>\n",
       "      <td>-0.031524</td>\n",
       "    </tr>\n",
       "    <tr>\n",
       "      <th>wordcount</th>\n",
       "      <td>-0.092312</td>\n",
       "      <td>-0.031524</td>\n",
       "      <td>1.000000</td>\n",
       "    </tr>\n",
       "  </tbody>\n",
       "</table>\n",
       "</div>"
      ],
      "text/plain": [
       "            sentiment  imdb_score  wordcount\n",
       "sentiment    1.000000    0.124609  -0.092312\n",
       "imdb_score   0.124609    1.000000  -0.031524\n",
       "wordcount   -0.092312   -0.031524   1.000000"
      ]
     },
     "execution_count": 70,
     "metadata": {},
     "output_type": "execute_result"
    }
   ],
   "source": [
    "posdf.corr()"
   ]
  },
  {
   "cell_type": "code",
   "execution_count": 74,
   "metadata": {},
   "outputs": [
    {
     "data": {
      "text/plain": [
       "<matplotlib.axes._subplots.AxesSubplot at 0x14b48160>"
      ]
     },
     "execution_count": 74,
     "metadata": {},
     "output_type": "execute_result"
    },
    {
     "data": {
      "image/png": "[encoded data removed]",
      "text/plain": [
       "<Figure size 864x576 with 2 Axes>"
      ]
     },
     "metadata": {
      "needs_background": "light"
     },
     "output_type": "display_data"
    }
   ],
   "source": [
    "plt.figure(figsize=[12,8])\n",
    "\n",
    "poscorr= posdf.corr()\n",
    "\n",
    "mask = np.zeros_like(poscorr, dtype=np.bool)\n",
    "mask[np.triu_indices_from(mask)] = True\n",
    "\n",
    "sns.heatmap(poscorr, mask=mask, cmap='RdBu_r', annot=True, fmt='.2f')"
   ]
  },
  {
   "cell_type": "code",
   "execution_count": 80,
   "metadata": {},
   "outputs": [
    {
     "name": "stdout",
     "output_type": "stream",
     "text": [
      "                            OLS Regression Results                            \n",
      "==============================================================================\n",
      "Dep. Variable:             imdb_score   R-squared:                       0.016\n",
      "Model:                            OLS   Adj. R-squared:                  0.013\n",
      "Method:                 Least Squares   F-statistic:                     6.656\n",
      "Date:                Fri, 12 Oct 2018   Prob (F-statistic):             0.0102\n",
      "Time:                        12:27:05   Log-Likelihood:                 87.029\n",
      "No. Observations:                 424   AIC:                            -170.1\n",
      "Df Residuals:                     422   BIC:                            -162.0\n",
      "Df Model:                           1                                         \n",
      "Covariance Type:            nonrobust                                         \n",
      "==============================================================================\n",
      "                 coef    std err          t      P>|t|      [0.025      0.975]\n",
      "------------------------------------------------------------------------------\n",
      "Intercept      8.7699      0.013    650.312      0.000       8.743       8.796\n",
      "sentiment      0.1459      0.057      2.580      0.010       0.035       0.257\n",
      "==============================================================================\n",
      "Omnibus:                       74.265   Durbin-Watson:                   0.030\n",
      "Prob(Omnibus):                  0.000   Jarque-Bera (JB):              109.665\n",
      "Skew:                           1.204   Prob(JB):                     1.54e-24\n",
      "Kurtosis:                       3.639   Cond. No.                         6.06\n",
      "==============================================================================\n",
      "\n",
      "Warnings:\n",
      "[1] Standard Errors assume that the covariance matrix of the errors is correctly specified.\n"
     ]
    }
   ],
   "source": [
    "sent_reg_model1 = ols(\"imdb_score~sentiment\",posdf)\n",
    "sent_reg1 = sent_reg_model1.fit()\n",
    "print sent_reg1.summary()"
   ]
  },
  {
   "cell_type": "markdown",
   "metadata": {},
   "source": [
    "#### Section 4.b.1.1 Quick Discussion of Regression analysis of top 25 movies"
   ]
  },
  {
   "cell_type": "markdown",
   "metadata": {},
   "source": [
    "##### So from our ANOVA output, we can see that sentiment is a statistically significant predictor of imdb scores for the top 25 movies, and we can see that our overall model is statistically significant, however, our R-squared value is incredibly low, and this model only explains 1.6% of the total variation between imdb scores. We can thus say that sentiment anlaysis alone is not enough to predict the future success of a movie in terms of imdb_score."
   ]
  },
  {
   "cell_type": "markdown",
   "metadata": {},
   "source": [
    "#### Section 4.b.2: Predicting worst 25 movie success using review sentiments"
   ]
  },
  {
   "cell_type": "code",
   "execution_count": 82,
   "metadata": {},
   "outputs": [
    {
     "name": "stdout",
     "output_type": "stream",
     "text": [
      "\n"
     ]
    }
   ],
   "source": [
    "#Im going to use correlation and regression to determine if sentiment is a good predictor of imdb score\n",
    "import pandas as pd\n",
    "import numpy as np\n",
    "import seaborn as sns\n",
    "import matplotlib.pyplot as plt\n",
    "%matplotlib inline\n",
    "\n",
    "import sklearn.linear_model as lm\n",
    "from sklearn.metrics import mean_squared_error\n",
    "from sklearn.metrics import explained_variance_score\n",
    "\n",
    "import statsmodels.api as sm\n",
    "from statsmodels.formula.api import ols"
   ]
  },
  {
   "cell_type": "code",
   "execution_count": 83,
   "metadata": {},
   "outputs": [
    {
     "data": {
      "text/html": [
       "<div>\n",
       "<style scoped>\n",
       "    .dataframe tbody tr th:only-of-type {\n",
       "        vertical-align: middle;\n",
       "    }\n",
       "\n",
       "    .dataframe tbody tr th {\n",
       "        vertical-align: top;\n",
       "    }\n",
       "\n",
       "    .dataframe thead th {\n",
       "        text-align: right;\n",
       "    }\n",
       "</style>\n",
       "<table border=\"1\" class=\"dataframe\">\n",
       "  <thead>\n",
       "    <tr style=\"text-align: right;\">\n",
       "      <th></th>\n",
       "      <th>sentiment</th>\n",
       "      <th>imdb_score</th>\n",
       "      <th>wordcount</th>\n",
       "    </tr>\n",
       "  </thead>\n",
       "  <tbody>\n",
       "    <tr>\n",
       "      <th>sentiment</th>\n",
       "      <td>1.000000</td>\n",
       "      <td>0.055581</td>\n",
       "      <td>-0.006195</td>\n",
       "    </tr>\n",
       "    <tr>\n",
       "      <th>imdb_score</th>\n",
       "      <td>0.055581</td>\n",
       "      <td>1.000000</td>\n",
       "      <td>-0.079430</td>\n",
       "    </tr>\n",
       "    <tr>\n",
       "      <th>wordcount</th>\n",
       "      <td>-0.006195</td>\n",
       "      <td>-0.079430</td>\n",
       "      <td>1.000000</td>\n",
       "    </tr>\n",
       "  </tbody>\n",
       "</table>\n",
       "</div>"
      ],
      "text/plain": [
       "            sentiment  imdb_score  wordcount\n",
       "sentiment    1.000000    0.055581  -0.006195\n",
       "imdb_score   0.055581    1.000000  -0.079430\n",
       "wordcount   -0.006195   -0.079430   1.000000"
      ]
     },
     "execution_count": 83,
     "metadata": {},
     "output_type": "execute_result"
    }
   ],
   "source": [
    "negdf.corr()"
   ]
  },
  {
   "cell_type": "code",
   "execution_count": 84,
   "metadata": {},
   "outputs": [
    {
     "data": {
      "text/plain": [
       "<matplotlib.axes._subplots.AxesSubplot at 0x17b55048>"
      ]
     },
     "execution_count": 84,
     "metadata": {},
     "output_type": "execute_result"
    },
    {
     "data": {
      "image/png": "[encoded data removed]",
      "text/plain": [
       "<Figure size 864x576 with 2 Axes>"
      ]
     },
     "metadata": {
      "needs_background": "light"
     },
     "output_type": "display_data"
    }
   ],
   "source": [
    "plt.figure(figsize=[12,8])\n",
    "\n",
    "negcorr = negdf.corr()\n",
    "\n",
    "mask = np.zeros_like(negcorr, dtype=np.bool)\n",
    "mask[np.triu_indices_from(mask)] = True\n",
    "\n",
    "sns.heatmap(negcorr, mask=mask, cmap='RdBu_r', annot=True, fmt='.2f')"
   ]
  },
  {
   "cell_type": "code",
   "execution_count": 85,
   "metadata": {},
   "outputs": [
    {
     "name": "stdout",
     "output_type": "stream",
     "text": [
      "                            OLS Regression Results                            \n",
      "==============================================================================\n",
      "Dep. Variable:             imdb_score   R-squared:                       0.003\n",
      "Model:                            OLS   Adj. R-squared:                  0.001\n",
      "Method:                 Least Squares   F-statistic:                     1.701\n",
      "Date:                Fri, 12 Oct 2018   Prob (F-statistic):              0.193\n",
      "Time:                        12:36:57   Log-Likelihood:                -136.68\n",
      "No. Observations:                 551   AIC:                             277.4\n",
      "Df Residuals:                     549   BIC:                             286.0\n",
      "Df Model:                           1                                         \n",
      "Covariance Type:            nonrobust                                         \n",
      "==============================================================================\n",
      "                 coef    std err          t      P>|t|      [0.025      0.975]\n",
      "------------------------------------------------------------------------------\n",
      "Intercept      2.4650      0.013    186.221      0.000       2.439       2.491\n",
      "sentiment      0.0891      0.068      1.304      0.193      -0.045       0.223\n",
      "==============================================================================\n",
      "Omnibus:                     2503.862   Durbin-Watson:                   0.007\n",
      "Prob(Omnibus):                  0.000   Jarque-Bera (JB):               42.357\n",
      "Skew:                          -0.000   Prob(JB):                     6.34e-10\n",
      "Kurtosis:                       1.642   Cond. No.                         5.16\n",
      "==============================================================================\n",
      "\n",
      "Warnings:\n",
      "[1] Standard Errors assume that the covariance matrix of the errors is correctly specified.\n"
     ]
    }
   ],
   "source": [
    "sent_reg_model2 = ols(\"imdb_score~sentiment\",negdf)\n",
    "sent_reg2 = sent_reg_model2.fit()\n",
    "print sent_reg2.summary()"
   ]
  },
  {
   "cell_type": "markdown",
   "metadata": {},
   "source": [
    "#### Section 4.b.2.1: Quick discussion of Regression analysis of worst 25 movie sentiments"
   ]
  },
  {
   "cell_type": "markdown",
   "metadata": {},
   "source": [
    "##### Interestingly enough, we see a different result when we analyze the review sentiments of the worst 25 movies. Neither our predictor, review sentiment, nor our overall model, are statistically significant. Our R-squared value is 0.003, which means review sentiments only explain 0.03% of the variation between imdb_scores. This means that we cant really make any useful inferences about a movies future success based on a review's sentiment."
   ]
  },
  {
   "cell_type": "markdown",
   "metadata": {},
   "source": [
    "#### Section 4.b.3: Predicting movie score for both top 25 and worst 25 movies combined"
   ]
  },
  {
   "cell_type": "code",
   "execution_count": 86,
   "metadata": {},
   "outputs": [
    {
     "data": {
      "text/plain": [
       "671"
      ]
     },
     "execution_count": 86,
     "metadata": {},
     "output_type": "execute_result"
    }
   ],
   "source": [
    "len(posdf)"
   ]
  },
  {
   "cell_type": "code",
   "execution_count": 87,
   "metadata": {},
   "outputs": [
    {
     "data": {
      "text/plain": [
       "730"
      ]
     },
     "execution_count": 87,
     "metadata": {},
     "output_type": "execute_result"
    }
   ],
   "source": [
    "len(negdf)"
   ]
  },
  {
   "cell_type": "code",
   "execution_count": 90,
   "metadata": {},
   "outputs": [],
   "source": [
    "frames = [posdf,negdf]\n",
    "\n",
    "bothdf = pd.concat(frames)"
   ]
  },
  {
   "cell_type": "code",
   "execution_count": 91,
   "metadata": {},
   "outputs": [
    {
     "data": {
      "text/plain": [
       "1401"
      ]
     },
     "execution_count": 91,
     "metadata": {},
     "output_type": "execute_result"
    }
   ],
   "source": [
    "len(bothdf)"
   ]
  },
  {
   "cell_type": "code",
   "execution_count": 92,
   "metadata": {},
   "outputs": [],
   "source": [
    "#Im going to use correlation and regression to determine if sentiment is a good predictor of imdb score\n",
    "import pandas as pd\n",
    "import numpy as np\n",
    "import seaborn as sns\n",
    "import matplotlib.pyplot as plt\n",
    "%matplotlib inline\n",
    "\n",
    "import sklearn.linear_model as lm\n",
    "from sklearn.metrics import mean_squared_error\n",
    "from sklearn.metrics import explained_variance_score\n",
    "\n",
    "import statsmodels.api as sm\n",
    "from statsmodels.formula.api import ols"
   ]
  },
  {
   "cell_type": "code",
   "execution_count": 93,
   "metadata": {},
   "outputs": [
    {
     "data": {
      "text/html": [
       "<div>\n",
       "<style scoped>\n",
       "    .dataframe tbody tr th:only-of-type {\n",
       "        vertical-align: middle;\n",
       "    }\n",
       "\n",
       "    .dataframe tbody tr th {\n",
       "        vertical-align: top;\n",
       "    }\n",
       "\n",
       "    .dataframe thead th {\n",
       "        text-align: right;\n",
       "    }\n",
       "</style>\n",
       "<table border=\"1\" class=\"dataframe\">\n",
       "  <thead>\n",
       "    <tr style=\"text-align: right;\">\n",
       "      <th></th>\n",
       "      <th>sentiment</th>\n",
       "      <th>imdb_score</th>\n",
       "      <th>wordcount</th>\n",
       "    </tr>\n",
       "  </thead>\n",
       "  <tbody>\n",
       "    <tr>\n",
       "      <th>sentiment</th>\n",
       "      <td>1.000000</td>\n",
       "      <td>0.409020</td>\n",
       "      <td>0.054741</td>\n",
       "    </tr>\n",
       "    <tr>\n",
       "      <th>imdb_score</th>\n",
       "      <td>0.409020</td>\n",
       "      <td>1.000000</td>\n",
       "      <td>0.189581</td>\n",
       "    </tr>\n",
       "    <tr>\n",
       "      <th>wordcount</th>\n",
       "      <td>0.054741</td>\n",
       "      <td>0.189581</td>\n",
       "      <td>1.000000</td>\n",
       "    </tr>\n",
       "  </tbody>\n",
       "</table>\n",
       "</div>"
      ],
      "text/plain": [
       "            sentiment  imdb_score  wordcount\n",
       "sentiment    1.000000    0.409020   0.054741\n",
       "imdb_score   0.409020    1.000000   0.189581\n",
       "wordcount    0.054741    0.189581   1.000000"
      ]
     },
     "execution_count": 93,
     "metadata": {},
     "output_type": "execute_result"
    }
   ],
   "source": [
    "bothdf.corr()"
   ]
  },
  {
   "cell_type": "code",
   "execution_count": 94,
   "metadata": {},
   "outputs": [
    {
     "data": {
      "text/plain": [
       "<matplotlib.axes._subplots.AxesSubplot at 0x15f0ee80>"
      ]
     },
     "execution_count": 94,
     "metadata": {},
     "output_type": "execute_result"
    },
    {
     "data": {
      "image/png": "[encoded data removed]",
      "text/plain": [
       "<Figure size 864x576 with 2 Axes>"
      ]
     },
     "metadata": {
      "needs_background": "light"
     },
     "output_type": "display_data"
    }
   ],
   "source": [
    "plt.figure(figsize=[12,8])\n",
    "\n",
    "bothcorr = bothdf.corr()\n",
    "\n",
    "mask = np.zeros_like(bothcorr, dtype=np.bool)\n",
    "mask[np.triu_indices_from(mask)] = True\n",
    "\n",
    "sns.heatmap(bothcorr, mask=mask, cmap='RdBu_r', annot=True, fmt='.2f')"
   ]
  },
  {
   "cell_type": "code",
   "execution_count": 95,
   "metadata": {},
   "outputs": [
    {
     "name": "stdout",
     "output_type": "stream",
     "text": [
      "                            OLS Regression Results                            \n",
      "==============================================================================\n",
      "Dep. Variable:             imdb_score   R-squared:                       0.167\n",
      "Model:                            OLS   Adj. R-squared:                  0.166\n",
      "Method:                 Least Squares   F-statistic:                     195.5\n",
      "Date:                Fri, 12 Oct 2018   Prob (F-statistic):           1.30e-40\n",
      "Time:                        12:58:07   Log-Likelihood:                -2412.6\n",
      "No. Observations:                 975   AIC:                             4829.\n",
      "Df Residuals:                     973   BIC:                             4839.\n",
      "Df Model:                           1                                         \n",
      "Covariance Type:            nonrobust                                         \n",
      "==============================================================================\n",
      "                 coef    std err          t      P>|t|      [0.025      0.975]\n",
      "------------------------------------------------------------------------------\n",
      "Intercept      4.7368      0.098     48.172      0.000       4.544       4.930\n",
      "sentiment      6.4132      0.459     13.982      0.000       5.513       7.313\n",
      "==============================================================================\n",
      "Omnibus:                     8567.543   Durbin-Watson:                   0.266\n",
      "Prob(Omnibus):                  0.000   Jarque-Bera (JB):               77.011\n",
      "Skew:                           0.130   Prob(JB):                     1.89e-17\n",
      "Kurtosis:                       1.648   Cond. No.                         5.01\n",
      "==============================================================================\n",
      "\n",
      "Warnings:\n",
      "[1] Standard Errors assume that the covariance matrix of the errors is correctly specified.\n"
     ]
    }
   ],
   "source": [
    "sent_reg_model3 = ols(\"imdb_score~sentiment\",bothdf)\n",
    "sent_reg3 = sent_reg_model3.fit()\n",
    "print sent_reg3.summary()"
   ]
  },
  {
   "cell_type": "markdown",
   "metadata": {},
   "source": [
    "##### Section 4.b.3.1: Discussion of Joint Regression analysis of top 25 and worst 25 movie sentiments"
   ]
  },
  {
   "cell_type": "markdown",
   "metadata": {},
   "source": [
    "##### The results of the regression analysis of the joint datasets yeilds interesting results. We see that like the analysis of the top 25 movie sentiments, here too sentiment is a statistically significant predictor of imdb_score, and our overall model is statistically significant, yet still our R-squared value is very low, here only 0.167, meaning that using sentiment as our sole predictor of a movie's imdb score only explains 16.7% of the variation in imdb scores. Our coefficients here also changed dramatically, with sentiment having a higher magnitude of influence on the IMDB Score."
   ]
  },
  {
   "cell_type": "markdown",
   "metadata": {},
   "source": [
    "## Section 5: Storytelling and Summary of Results"
   ]
  },
  {
   "cell_type": "markdown",
   "metadata": {},
   "source": [
    "### We have been able to glean some very important and interesting insights from our analysis of review sentiments, and the results are as follows:\n",
    "\n",
    "\n",
    "        1. Movies with higher IMDb scores tended to have on average reviews that had a higher sentiment score\n",
    "           than those with a lower score, meaning the top 25 movies were more likely to have reviews that \n",
    "           were more positive, while the worst 25 movies were more likely to have reviews that were \n",
    "           not so positive. We also saw that the average review for the top 25 movies contained about\n",
    "           150 words, where as the average review for the worst 25 movies was only about 100 words long.\n",
    "           \n",
    "        2. We learned that the content of a movie matters, not so much in terms of genre, but in terms of story \n",
    "           and character development. Some of the most common words for the top 25 movies were about characters\n",
    "           and story, and from the word cloud it looks like movies that have very interesting stories and \n",
    "           characters that are deep and complex and developed tended to have reviews that had a higher \n",
    "           sentiment score. \n",
    "           \n",
    "           Interestingly enough however, for the worst 25 movies, it did seem that genre might have played\n",
    "           a role in determining score, as the word \"funny\" was one of the most common words in that set\n",
    "           of reviews. This makes sense based on our analysis of the 25 best movies, as many of those movies\n",
    "           had complex and rich stories with well developed characters, whereas comedy movies tend to lack\n",
    "           such elements, which might explain why they receive lower scoring sentiments in their reviews, as \n",
    "           well as possibly lower imdb scores.\n",
    "            \n",
    "        3. Based on our regression analysis, when we analyzed the data separately, we got some different yet\n",
    "           still interesting results. The analysis of the top 25 movies shows that while sentiment is a \n",
    "           statistically significant predictor of imdb score, it fails to explain a lot of the variation\n",
    "           between imdb scores. When we analyzed the worst 25 movies, sentiment score wasnt even significant,\n",
    "           nor was the overall model significant, and almost none of the variation in imdb scores was explained,\n",
    "           however, when we analyzed both datasets togther, we saw that sentiment was even more significant of\n",
    "           a predictor than in either of the separate regression models, and that the magnitude of its coefficient\n",
    "           had increased substantially. \n",
    "           \n",
    "           We also saw that more of the varation between imdb scores was explained,\n",
    "           however, it still was miniscule, and thus we cant really make any accurate or meaningful predictions\n",
    "           about future movie scores based on this model alone that uses sentiment as the only predictor variable.\n",
    "           Other factors must be included to get a more holistic picture of what makes a movie successful in terms\n",
    "           of its imdb score."
   ]
  },
  {
   "cell_type": "markdown",
   "metadata": {},
   "source": [
    "##### On my honor as a student, I have neither given nor recieved any unauthorized aid on this academic work\n",
    "\n",
    "Eric VanMeerhaeghe"
   ]
  }
 ],
 "metadata": {
  "kernelspec": {
   "display_name": "Python 2",
   "language": "python",
   "name": "python2"
  },
  "language_info": {
   "codemirror_mode": {
    "name": "ipython",
    "version": 2
   },
   "file_extension": ".py",
   "mimetype": "text/x-python",
   "name": "python",
   "nbconvert_exporter": "python",
   "pygments_lexer": "ipython2",
   "version": "2.7.15"
  }
 },
 "nbformat": 4,
 "nbformat_minor": 2
}
