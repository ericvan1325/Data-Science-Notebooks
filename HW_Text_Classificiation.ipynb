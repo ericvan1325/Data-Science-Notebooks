{
 "cells": [
  {
   "cell_type": "markdown",
   "metadata": {},
   "source": [
    "# Text Classification \n",
    "- This is a comprehensive tutorial covering intermediate (and advanced) topics in text classification"
   ]
  },
  {
   "cell_type": "code",
   "execution_count": 1,
   "metadata": {},
   "outputs": [],
   "source": [
    "%matplotlib inline\n",
    "import nltk\n",
    "import matplotlib.pyplot as plt\n",
    "import csv\n",
    "import pandas as pd\n",
    "import sklearn\n",
    "import numpy as np\n",
    "from collections import Counter\n",
    "\n",
    "# feature engineering (words to vectors)\n",
    "from sklearn.feature_extraction.text import TfidfVectorizer\n",
    "\n",
    "# classification algorithms (or classifiers)\n",
    "from sklearn.naive_bayes import MultinomialNB\n",
    "from sklearn.neighbors import KNeighborsClassifier\n",
    "from sklearn.svm import SVC, LinearSVC\n",
    "\n",
    "# build a pipeline\n",
    "from sklearn.pipeline import Pipeline\n",
    "\n",
    "# model evaluation, validation\n",
    "from sklearn.metrics import classification_report, f1_score, accuracy_score, confusion_matrix\n",
    "from sklearn.model_selection import StratifiedKFold, cross_val_score, train_test_split, GridSearchCV \n",
    "from sklearn import metrics\n",
    "from sklearn.metrics import roc_curve, auc\n",
    "\n",
    "#pip install scikit-plot \n",
    "import scikitplot as skplt"
   ]
  },
  {
   "cell_type": "markdown",
   "metadata": {},
   "source": [
    "#### Scrape all the data from the website below. It has a really simple xpath and everything should be in the a tag.\n",
    "\n",
    "https://www.workforce.com/topics/Recruitment/"
   ]
  },
  {
   "cell_type": "markdown",
   "metadata": {},
   "source": [
    "## Section 1: Data Preprocessing"
   ]
  },
  {
   "cell_type": "markdown",
   "metadata": {},
   "source": [
    "### Section 1.1: HR Data Acquistion and Preprocessing"
   ]
  },
  {
   "cell_type": "code",
   "execution_count": 98,
   "metadata": {},
   "outputs": [
    {
     "data": {
      "text/plain": [
       "240"
      ]
     },
     "execution_count": 98,
     "metadata": {},
     "output_type": "execute_result"
    }
   ],
   "source": [
    "# import packages\n",
    "import requests\n",
    "from lxml import html\n",
    "import csv\n",
    "\n",
    "alldata =[]\n",
    "\n",
    "web = \"https://www.workforce.com/topics/Compensation/page/%s\"\n",
    "for page in range(1,25):\n",
    "    url = web % page\n",
    "    data = html.fromstring(requests.get(url).text)\n",
    "    #xpath\n",
    "    for i in data.xpath(\"//div[@class='tm-content']/article\"):\n",
    "        title = i.xpath(\"header[@class='hcm-archive-title']/h2/a/text()\")\n",
    "        alldata.append([title,summary])\n",
    "    \n",
    "len(alldata)"
   ]
  },
  {
   "cell_type": "code",
   "execution_count": 102,
   "metadata": {},
   "outputs": [],
   "source": [
    "import re\n",
    "cleaned = [i for i in alldata if i not in ['[', ']']]\n",
    "cleaned = [i for i in cleaned if i not in ['[', ']']]"
   ]
  },
  {
   "cell_type": "code",
   "execution_count": 104,
   "metadata": {},
   "outputs": [
    {
     "data": {
      "text/plain": [
       "[u'Don\\u2019t Ignore State Law When Considering Wage-and-Hour Issues']"
      ]
     },
     "execution_count": 104,
     "metadata": {},
     "output_type": "execute_result"
    }
   ],
   "source": [
    "cleaned[0][0]"
   ]
  },
  {
   "cell_type": "code",
   "execution_count": 107,
   "metadata": {
    "scrolled": false
   },
   "outputs": [
    {
     "data": {
      "text/html": [
       "<div>\n",
       "<style scoped>\n",
       "    .dataframe tbody tr th:only-of-type {\n",
       "        vertical-align: middle;\n",
       "    }\n",
       "\n",
       "    .dataframe tbody tr th {\n",
       "        vertical-align: top;\n",
       "    }\n",
       "\n",
       "    .dataframe thead th {\n",
       "        text-align: right;\n",
       "    }\n",
       "</style>\n",
       "<table border=\"1\" class=\"dataframe\">\n",
       "  <thead>\n",
       "    <tr style=\"text-align: right;\">\n",
       "      <th></th>\n",
       "      <th>0</th>\n",
       "      <th>1</th>\n",
       "    </tr>\n",
       "  </thead>\n",
       "  <tbody>\n",
       "    <tr>\n",
       "      <th>0</th>\n",
       "      <td>[Don’t Ignore State Law When Considering Wage-...</td>\n",
       "      <td>[\\n]</td>\n",
       "    </tr>\n",
       "    <tr>\n",
       "      <th>1</th>\n",
       "      <td>[Department of Labor Trying to Get Employees P...</td>\n",
       "      <td>[\\n]</td>\n",
       "    </tr>\n",
       "    <tr>\n",
       "      <th>2</th>\n",
       "      <td>[Save Money on OT Payments With the Fluctuatin...</td>\n",
       "      <td>[\\n]</td>\n",
       "    </tr>\n",
       "    <tr>\n",
       "      <th>3</th>\n",
       "      <td>[Employee Blues Can Be Cheered By More Green, ...</td>\n",
       "      <td>[\\n]</td>\n",
       "    </tr>\n",
       "    <tr>\n",
       "      <th>4</th>\n",
       "      <td>[Can You Pay Your Employees in Bitcoin?]</td>\n",
       "      <td>[\\n]</td>\n",
       "    </tr>\n",
       "  </tbody>\n",
       "</table>\n",
       "</div>"
      ],
      "text/plain": [
       "                                                   0     1\n",
       "0  [Don’t Ignore State Law When Considering Wage-...  [\\n]\n",
       "1  [Department of Labor Trying to Get Employees P...  [\\n]\n",
       "2  [Save Money on OT Payments With the Fluctuatin...  [\\n]\n",
       "3  [Employee Blues Can Be Cheered By More Green, ...  [\\n]\n",
       "4           [Can You Pay Your Employees in Bitcoin?]  [\\n]"
      ]
     },
     "execution_count": 107,
     "metadata": {},
     "output_type": "execute_result"
    }
   ],
   "source": [
    "hr = pd.DataFrame(cleaned)\n",
    "hr.head()"
   ]
  },
  {
   "cell_type": "code",
   "execution_count": 108,
   "metadata": {},
   "outputs": [
    {
     "data": {
      "text/html": [
       "<div>\n",
       "<style scoped>\n",
       "    .dataframe tbody tr th:only-of-type {\n",
       "        vertical-align: middle;\n",
       "    }\n",
       "\n",
       "    .dataframe tbody tr th {\n",
       "        vertical-align: top;\n",
       "    }\n",
       "\n",
       "    .dataframe thead th {\n",
       "        text-align: right;\n",
       "    }\n",
       "</style>\n",
       "<table border=\"1\" class=\"dataframe\">\n",
       "  <thead>\n",
       "    <tr style=\"text-align: right;\">\n",
       "      <th></th>\n",
       "      <th>0</th>\n",
       "    </tr>\n",
       "  </thead>\n",
       "  <tbody>\n",
       "    <tr>\n",
       "      <th>0</th>\n",
       "      <td>[Don’t Ignore State Law When Considering Wage-...</td>\n",
       "    </tr>\n",
       "    <tr>\n",
       "      <th>1</th>\n",
       "      <td>[Department of Labor Trying to Get Employees P...</td>\n",
       "    </tr>\n",
       "    <tr>\n",
       "      <th>2</th>\n",
       "      <td>[Save Money on OT Payments With the Fluctuatin...</td>\n",
       "    </tr>\n",
       "    <tr>\n",
       "      <th>3</th>\n",
       "      <td>[Employee Blues Can Be Cheered By More Green, ...</td>\n",
       "    </tr>\n",
       "    <tr>\n",
       "      <th>4</th>\n",
       "      <td>[Can You Pay Your Employees in Bitcoin?]</td>\n",
       "    </tr>\n",
       "  </tbody>\n",
       "</table>\n",
       "</div>"
      ],
      "text/plain": [
       "                                                   0\n",
       "0  [Don’t Ignore State Law When Considering Wage-...\n",
       "1  [Department of Labor Trying to Get Employees P...\n",
       "2  [Save Money on OT Payments With the Fluctuatin...\n",
       "3  [Employee Blues Can Be Cheered By More Green, ...\n",
       "4           [Can You Pay Your Employees in Bitcoin?]"
      ]
     },
     "execution_count": 108,
     "metadata": {},
     "output_type": "execute_result"
    }
   ],
   "source": [
    "hr.drop(1,axis=1,inplace=True)"
   ]
  },
  {
   "cell_type": "code",
   "execution_count": 109,
   "metadata": {},
   "outputs": [],
   "source": [
    "hr['is_hr_news'] = 1"
   ]
  },
  {
   "cell_type": "code",
   "execution_count": 110,
   "metadata": {},
   "outputs": [
    {
     "data": {
      "text/html": [
       "<div>\n",
       "<style scoped>\n",
       "    .dataframe tbody tr th:only-of-type {\n",
       "        vertical-align: middle;\n",
       "    }\n",
       "\n",
       "    .dataframe tbody tr th {\n",
       "        vertical-align: top;\n",
       "    }\n",
       "\n",
       "    .dataframe thead th {\n",
       "        text-align: right;\n",
       "    }\n",
       "</style>\n",
       "<table border=\"1\" class=\"dataframe\">\n",
       "  <thead>\n",
       "    <tr style=\"text-align: right;\">\n",
       "      <th></th>\n",
       "      <th>title</th>\n",
       "      <th>is_hr_news</th>\n",
       "    </tr>\n",
       "  </thead>\n",
       "  <tbody>\n",
       "    <tr>\n",
       "      <th>0</th>\n",
       "      <td>[Don’t Ignore State Law When Considering Wage-...</td>\n",
       "      <td>1</td>\n",
       "    </tr>\n",
       "    <tr>\n",
       "      <th>1</th>\n",
       "      <td>[Department of Labor Trying to Get Employees P...</td>\n",
       "      <td>1</td>\n",
       "    </tr>\n",
       "    <tr>\n",
       "      <th>2</th>\n",
       "      <td>[Save Money on OT Payments With the Fluctuatin...</td>\n",
       "      <td>1</td>\n",
       "    </tr>\n",
       "    <tr>\n",
       "      <th>3</th>\n",
       "      <td>[Employee Blues Can Be Cheered By More Green, ...</td>\n",
       "      <td>1</td>\n",
       "    </tr>\n",
       "    <tr>\n",
       "      <th>4</th>\n",
       "      <td>[Can You Pay Your Employees in Bitcoin?]</td>\n",
       "      <td>1</td>\n",
       "    </tr>\n",
       "  </tbody>\n",
       "</table>\n",
       "</div>"
      ],
      "text/plain": [
       "                                               title  is_hr_news\n",
       "0  [Don’t Ignore State Law When Considering Wage-...           1\n",
       "1  [Department of Labor Trying to Get Employees P...           1\n",
       "2  [Save Money on OT Payments With the Fluctuatin...           1\n",
       "3  [Employee Blues Can Be Cheered By More Green, ...           1\n",
       "4           [Can You Pay Your Employees in Bitcoin?]           1"
      ]
     },
     "execution_count": 110,
     "metadata": {},
     "output_type": "execute_result"
    }
   ],
   "source": [
    "hr.rename(columns={0:'title'},inplace=True)"
   ]
  },
  {
   "cell_type": "code",
   "execution_count": 111,
   "metadata": {},
   "outputs": [
    {
     "data": {
      "text/plain": [
       "0      Don’t Ignore State Law When Considering Wage-a...\n",
       "1      Department of Labor Trying to Get Employees PA...\n",
       "2      Save Money on OT Payments With the Fluctuating...\n",
       "3      Employee Blues Can Be Cheered By More Green, S...\n",
       "4                 Can You Pay Your Employees in Bitcoin?\n",
       "5      Talent10x: Which City Will Win Amazon’s Second...\n",
       "6      Walmart (Yes, Walmart) Has Now Done More for W...\n",
       "7      Talent10x: Is It Still Better to Work at Big C...\n",
       "8      Despite Pay Hike, CHROs Still Trail Fellow C-S...\n",
       "9                      Talent10x: Does Meritocracy Work?\n",
       "10                        5MM: Lowering the Minimum Wage\n",
       "11     Is the Labor Department’s White-Collar Salary ...\n",
       "12     Time Management Clock Ticks Toward Value and A...\n",
       "13     Don’t Let Off-the-clock Overtime Claims Become...\n",
       "14     When Is a Settlement not a Settlement? When FL...\n",
       "15                     When Equal Pay is not ‘Equal’ Pay\n",
       "16             Wage Theft is a Misnamed, Overused Phrase\n",
       "17     Working Families Flexibility Act Seeks to Lega...\n",
       "18               Equal Pay Day and Voting with Your Feet\n",
       "19         HR Fares Well in Annual Randstad Salary Guide\n",
       "20     The 6th Nominee for Worst Employer of 2017 Is ...\n",
       "21              If I Could Instantly Vaporize the FLSA …\n",
       "22     Here Are the 4 Things Employers Must Know Abou...\n",
       "23              By the Numbers: When Payday Rolls Around\n",
       "24             The Salesforce Pitch for Equity, Equality\n",
       "25              By The Numbers: When Payday Rolls Around\n",
       "26     Tread Carefully if Stripping Employees of Thei...\n",
       "27        A $15 Minimum Wage is not Without Consequences\n",
       "28     New York Passes First-of-Kind Bill to Protect ...\n",
       "29     What Happens to the New FLSA Salary Test Under...\n",
       "                             ...                        \n",
       "210    California Workers’ Compensation Rating Bureau...\n",
       "211    Insurer Suit Challenges Changes in New York’s ...\n",
       "212    Workers’ Comp Medical, Indemnity Payments Fall...\n",
       "213       North Carolina Proposes Workers’ Comp Rate Cut\n",
       "214    Staffing Firm Owner Gets 6½ Years for Massive ...\n",
       "215    WaMu’s CEO of Three Weeks Could Exit with $11....\n",
       "216          AIG Freezes Executives’ Employment Packages\n",
       "217    Decrease in Workers’ Compensation Rate Sought ...\n",
       "218    Prescription Drugs Make Up 19 Percent of Worke...\n",
       "219                    Groupon Sued Over Unpaid Overtime\n",
       "220    Dear Workforce How Does Performance-Based Pay ...\n",
       "221    Dear Workforce What Formulas Do Companies Use ...\n",
       "222    Dear Workforce What’s The Thinking About Quart...\n",
       "223    Dear Workforce Why Should We Periodically Revi...\n",
       "224    Dear Workforce How Should We Rein in Runaway S...\n",
       "225    Dear Workforce How Do We Reward Engineers Work...\n",
       "226    Dear Workforce How Do We Tighten Our Salary Ba...\n",
       "227    Dear Workforce How Do We Decide Whether to Out...\n",
       "228    Dear Workforce How Do We Know Whether Our Not-...\n",
       "229    Dear Workforce How Do We Explain Wide Differen...\n",
       "230    Dear Workforce What Areas Could Be Easily Meas...\n",
       "231    Dear Workforce What Percentage Of Total Compen...\n",
       "232         Dear Workforce How Much Severance to Provide\n",
       "233    Shellshocked Gen Y Crossing Off Stocks as Inve...\n",
       "234    Dear Workforce How Do We ‘Back-Charge’ Payroll...\n",
       "235    Employees at Home on Sick Leave Aren’t Entitle...\n",
       "236    Dear Workforce Our CFO Is Granting Unequal Pay...\n",
       "237    Contingent Labor Contracts: Do It Right, Save ...\n",
       "238    Dear Workforce What Can We Do When an Employee...\n",
       "239    Court Rejects Liberty Mutuals Appeal of AIG Wo...\n",
       "Name: title, Length: 240, dtype: object"
      ]
     },
     "execution_count": 111,
     "metadata": {},
     "output_type": "execute_result"
    }
   ],
   "source": [
    "hr['title'].apply(', '.join)"
   ]
  },
  {
   "cell_type": "code",
   "execution_count": 112,
   "metadata": {},
   "outputs": [
    {
     "data": {
      "text/html": [
       "<div>\n",
       "<style scoped>\n",
       "    .dataframe tbody tr th:only-of-type {\n",
       "        vertical-align: middle;\n",
       "    }\n",
       "\n",
       "    .dataframe tbody tr th {\n",
       "        vertical-align: top;\n",
       "    }\n",
       "\n",
       "    .dataframe thead th {\n",
       "        text-align: right;\n",
       "    }\n",
       "</style>\n",
       "<table border=\"1\" class=\"dataframe\">\n",
       "  <thead>\n",
       "    <tr style=\"text-align: right;\">\n",
       "      <th></th>\n",
       "      <th>title</th>\n",
       "      <th>is_hr_news</th>\n",
       "    </tr>\n",
       "  </thead>\n",
       "  <tbody>\n",
       "    <tr>\n",
       "      <th>0</th>\n",
       "      <td>Don’t Ignore State Law When Considering Wage-a...</td>\n",
       "      <td>1</td>\n",
       "    </tr>\n",
       "    <tr>\n",
       "      <th>1</th>\n",
       "      <td>Department of Labor Trying to Get Employees PA...</td>\n",
       "      <td>1</td>\n",
       "    </tr>\n",
       "    <tr>\n",
       "      <th>2</th>\n",
       "      <td>Save Money on OT Payments With the Fluctuating...</td>\n",
       "      <td>1</td>\n",
       "    </tr>\n",
       "    <tr>\n",
       "      <th>3</th>\n",
       "      <td>Employee Blues Can Be Cheered By More Green, S...</td>\n",
       "      <td>1</td>\n",
       "    </tr>\n",
       "    <tr>\n",
       "      <th>4</th>\n",
       "      <td>Can You Pay Your Employees in Bitcoin?</td>\n",
       "      <td>1</td>\n",
       "    </tr>\n",
       "  </tbody>\n",
       "</table>\n",
       "</div>"
      ],
      "text/plain": [
       "                                               title  is_hr_news\n",
       "0  Don’t Ignore State Law When Considering Wage-a...           1\n",
       "1  Department of Labor Trying to Get Employees PA...           1\n",
       "2  Save Money on OT Payments With the Fluctuating...           1\n",
       "3  Employee Blues Can Be Cheered By More Green, S...           1\n",
       "4             Can You Pay Your Employees in Bitcoin?           1"
      ]
     },
     "execution_count": 112,
     "metadata": {},
     "output_type": "execute_result"
    }
   ],
   "source": [
    "hr['title'] = hr['title'].apply(', '.join)\n",
    "hr.head()"
   ]
  },
  {
   "cell_type": "code",
   "execution_count": 115,
   "metadata": {},
   "outputs": [],
   "source": [
    "hr['title'] = hr['title'].str.strip()"
   ]
  },
  {
   "cell_type": "code",
   "execution_count": 116,
   "metadata": {},
   "outputs": [],
   "source": [
    "hr['title'] = hr['title'].str.lower()"
   ]
  },
  {
   "cell_type": "code",
   "execution_count": 119,
   "metadata": {},
   "outputs": [],
   "source": [
    "hr['title'] = hr['title'].str.replace('[^a-zA-Z]+', ' ')"
   ]
  },
  {
   "cell_type": "code",
   "execution_count": 120,
   "metadata": {},
   "outputs": [],
   "source": [
    "hr['title'] = hr['title'].str.findall('\\w{3,}').str.join(' ')"
   ]
  },
  {
   "cell_type": "code",
   "execution_count": 121,
   "metadata": {},
   "outputs": [
    {
     "data": {
      "text/html": [
       "<div>\n",
       "<style scoped>\n",
       "    .dataframe tbody tr th:only-of-type {\n",
       "        vertical-align: middle;\n",
       "    }\n",
       "\n",
       "    .dataframe tbody tr th {\n",
       "        vertical-align: top;\n",
       "    }\n",
       "\n",
       "    .dataframe thead th {\n",
       "        text-align: right;\n",
       "    }\n",
       "</style>\n",
       "<table border=\"1\" class=\"dataframe\">\n",
       "  <thead>\n",
       "    <tr style=\"text-align: right;\">\n",
       "      <th></th>\n",
       "      <th>title</th>\n",
       "      <th>is_hr_news</th>\n",
       "    </tr>\n",
       "  </thead>\n",
       "  <tbody>\n",
       "    <tr>\n",
       "      <th>0</th>\n",
       "      <td>don ignore state law when considering wage and...</td>\n",
       "      <td>1</td>\n",
       "    </tr>\n",
       "    <tr>\n",
       "      <th>1</th>\n",
       "      <td>department labor trying get employees paid for...</td>\n",
       "      <td>1</td>\n",
       "    </tr>\n",
       "    <tr>\n",
       "      <th>2</th>\n",
       "      <td>save money payments with the fluctuating workweek</td>\n",
       "      <td>1</td>\n",
       "    </tr>\n",
       "    <tr>\n",
       "      <th>3</th>\n",
       "      <td>employee blues can cheered more green survey f...</td>\n",
       "      <td>1</td>\n",
       "    </tr>\n",
       "    <tr>\n",
       "      <th>4</th>\n",
       "      <td>can you pay your employees bitcoin</td>\n",
       "      <td>1</td>\n",
       "    </tr>\n",
       "  </tbody>\n",
       "</table>\n",
       "</div>"
      ],
      "text/plain": [
       "                                               title  is_hr_news\n",
       "0  don ignore state law when considering wage and...           1\n",
       "1  department labor trying get employees paid for...           1\n",
       "2  save money payments with the fluctuating workweek           1\n",
       "3  employee blues can cheered more green survey f...           1\n",
       "4                 can you pay your employees bitcoin           1"
      ]
     },
     "execution_count": 121,
     "metadata": {},
     "output_type": "execute_result"
    }
   ],
   "source": [
    "hr.head()"
   ]
  },
  {
   "cell_type": "code",
   "execution_count": 124,
   "metadata": {},
   "outputs": [],
   "source": [
    "from nltk.corpus import stopwords\n",
    "stopwords = stopwords.words('english')"
   ]
  },
  {
   "cell_type": "code",
   "execution_count": 125,
   "metadata": {},
   "outputs": [],
   "source": [
    "hr['title'] = hr['title'].apply(lambda x: ' '.join([word for word in x.split() if word not in (stopwords)]))"
   ]
  },
  {
   "cell_type": "code",
   "execution_count": 126,
   "metadata": {
    "scrolled": true
   },
   "outputs": [
    {
     "data": {
      "text/html": [
       "<div>\n",
       "<style scoped>\n",
       "    .dataframe tbody tr th:only-of-type {\n",
       "        vertical-align: middle;\n",
       "    }\n",
       "\n",
       "    .dataframe tbody tr th {\n",
       "        vertical-align: top;\n",
       "    }\n",
       "\n",
       "    .dataframe thead th {\n",
       "        text-align: right;\n",
       "    }\n",
       "</style>\n",
       "<table border=\"1\" class=\"dataframe\">\n",
       "  <thead>\n",
       "    <tr style=\"text-align: right;\">\n",
       "      <th></th>\n",
       "      <th>title</th>\n",
       "      <th>is_hr_news</th>\n",
       "    </tr>\n",
       "  </thead>\n",
       "  <tbody>\n",
       "    <tr>\n",
       "      <th>0</th>\n",
       "      <td>ignore state law considering wage hour issues</td>\n",
       "      <td>1</td>\n",
       "    </tr>\n",
       "    <tr>\n",
       "      <th>1</th>\n",
       "      <td>department labor trying get employees paid ina...</td>\n",
       "      <td>1</td>\n",
       "    </tr>\n",
       "    <tr>\n",
       "      <th>2</th>\n",
       "      <td>save money payments fluctuating workweek</td>\n",
       "      <td>1</td>\n",
       "    </tr>\n",
       "    <tr>\n",
       "      <th>3</th>\n",
       "      <td>employee blues cheered green survey finds</td>\n",
       "      <td>1</td>\n",
       "    </tr>\n",
       "    <tr>\n",
       "      <th>4</th>\n",
       "      <td>pay employees bitcoin</td>\n",
       "      <td>1</td>\n",
       "    </tr>\n",
       "  </tbody>\n",
       "</table>\n",
       "</div>"
      ],
      "text/plain": [
       "                                               title  is_hr_news\n",
       "0      ignore state law considering wage hour issues           1\n",
       "1  department labor trying get employees paid ina...           1\n",
       "2           save money payments fluctuating workweek           1\n",
       "3          employee blues cheered green survey finds           1\n",
       "4                              pay employees bitcoin           1"
      ]
     },
     "execution_count": 126,
     "metadata": {},
     "output_type": "execute_result"
    }
   ],
   "source": [
    "hr.head()"
   ]
  },
  {
   "cell_type": "markdown",
   "metadata": {},
   "source": [
    "### Section 1.2: Movie Data Preprocessing"
   ]
  },
  {
   "cell_type": "code",
   "execution_count": 136,
   "metadata": {},
   "outputs": [
    {
     "data": {
      "text/html": [
       "<div>\n",
       "<style scoped>\n",
       "    .dataframe tbody tr th:only-of-type {\n",
       "        vertical-align: middle;\n",
       "    }\n",
       "\n",
       "    .dataframe tbody tr th {\n",
       "        vertical-align: top;\n",
       "    }\n",
       "\n",
       "    .dataframe thead th {\n",
       "        text-align: right;\n",
       "    }\n",
       "</style>\n",
       "<table border=\"1\" class=\"dataframe\">\n",
       "  <thead>\n",
       "    <tr style=\"text-align: right;\">\n",
       "      <th></th>\n",
       "      <th>2</th>\n",
       "    </tr>\n",
       "  </thead>\n",
       "  <tbody>\n",
       "    <tr>\n",
       "      <th>0</th>\n",
       "      <td>Why do I want to write the 234th comment on Th...</td>\n",
       "    </tr>\n",
       "    <tr>\n",
       "      <th>1</th>\n",
       "      <td>I have never seen such an amazing film since I...</td>\n",
       "    </tr>\n",
       "    <tr>\n",
       "      <th>2</th>\n",
       "      <td>This movie is not your ordinary Hollywood flic...</td>\n",
       "    </tr>\n",
       "    <tr>\n",
       "      <th>3</th>\n",
       "      <td>Can Hollywood, usually creating things for ent...</td>\n",
       "    </tr>\n",
       "    <tr>\n",
       "      <th>4</th>\n",
       "      <td>I'm trying to save you money; this is the last...</td>\n",
       "    </tr>\n",
       "  </tbody>\n",
       "</table>\n",
       "</div>"
      ],
      "text/plain": [
       "                                                   2\n",
       "0  Why do I want to write the 234th comment on Th...\n",
       "1  I have never seen such an amazing film since I...\n",
       "2  This movie is not your ordinary Hollywood flic...\n",
       "3  Can Hollywood, usually creating things for ent...\n",
       "4  I'm trying to save you money; this is the last..."
      ]
     },
     "execution_count": 136,
     "metadata": {},
     "output_type": "execute_result"
    }
   ],
   "source": [
    "posdf = pd.read_csv('data/top_reviews.csv',usecols=['2'])\n",
    "posdf.head()"
   ]
  },
  {
   "cell_type": "code",
   "execution_count": 141,
   "metadata": {},
   "outputs": [
    {
     "data": {
      "text/html": [
       "<div>\n",
       "<style scoped>\n",
       "    .dataframe tbody tr th:only-of-type {\n",
       "        vertical-align: middle;\n",
       "    }\n",
       "\n",
       "    .dataframe tbody tr th {\n",
       "        vertical-align: top;\n",
       "    }\n",
       "\n",
       "    .dataframe thead th {\n",
       "        text-align: right;\n",
       "    }\n",
       "</style>\n",
       "<table border=\"1\" class=\"dataframe\">\n",
       "  <thead>\n",
       "    <tr style=\"text-align: right;\">\n",
       "      <th></th>\n",
       "      <th>2</th>\n",
       "    </tr>\n",
       "  </thead>\n",
       "  <tbody>\n",
       "    <tr>\n",
       "      <th>0</th>\n",
       "      <td>After sitting through the entirety of Daddy Da...</td>\n",
       "    </tr>\n",
       "    <tr>\n",
       "      <th>1</th>\n",
       "      <td>Daddy Day Care was a sweet and simple movie th...</td>\n",
       "    </tr>\n",
       "    <tr>\n",
       "      <th>2</th>\n",
       "      <td>This is my first comment on IMDb, because i am...</td>\n",
       "    </tr>\n",
       "    <tr>\n",
       "      <th>3</th>\n",
       "      <td>This movie was just awful. The plot is 2 guys ...</td>\n",
       "    </tr>\n",
       "    <tr>\n",
       "      <th>4</th>\n",
       "      <td>Really, I'm only commenting because the origin...</td>\n",
       "    </tr>\n",
       "  </tbody>\n",
       "</table>\n",
       "</div>"
      ],
      "text/plain": [
       "                                                   2\n",
       "0  After sitting through the entirety of Daddy Da...\n",
       "1  Daddy Day Care was a sweet and simple movie th...\n",
       "2  This is my first comment on IMDb, because i am...\n",
       "3  This movie was just awful. The plot is 2 guys ...\n",
       "4  Really, I'm only commenting because the origin..."
      ]
     },
     "execution_count": 141,
     "metadata": {},
     "output_type": "execute_result"
    }
   ],
   "source": [
    "negdf = pd.read_csv('data/worst_reviews.csv',usecols=['2'])\n",
    "negdf.head()"
   ]
  },
  {
   "cell_type": "markdown",
   "metadata": {},
   "source": [
    "#### Section 1.2.1: Cleaning the postive reviews"
   ]
  },
  {
   "cell_type": "code",
   "execution_count": 137,
   "metadata": {},
   "outputs": [],
   "source": [
    "posdf = posdf.rename(columns={'2':'review'})"
   ]
  },
  {
   "cell_type": "code",
   "execution_count": 138,
   "metadata": {},
   "outputs": [],
   "source": [
    "posdf['review'] = posdf['review'].str.lower()\n",
    "posdf['review'] = posdf['review'].str.replace(\"[^a-zA-Z]\", \" \")\n",
    "posdf['review'] = posdf['review'].str.findall('\\w{3,}').str.join(' ')\n",
    "\n",
    "from nltk.corpus import stopwords\n",
    "stopwords = stopwords.words('english')\n",
    "stopwords = set(stopwords)\n",
    "stopwords.add('film')\n",
    "stopwords.add('movie')\n",
    "stopwords.add('one')\n",
    "stopwords.add('even')\n",
    "stopwords.add('really')\n",
    "stopwords.add('time')\n",
    "stopwords.add('title')\n",
    "stopwords.add('first')\n",
    "stopwords.add('last')\n",
    "stopwords.add('don')\n",
    "stopwords.add('could')\n",
    "stopwords.add('many')\n",
    "stopwords.add('much')\n",
    "stopwords.add('also')\n",
    "stopwords.add('might')\n",
    "stopwords.add('should')\n",
    "stopwords.add('films')\n",
    "stopwords.add('movies')\n",
    "stopwords.add('way')\n",
    "stopwords.add('ever')\n",
    "stopwords.add('would')\n",
    "\n",
    "posdf['review'] = posdf['review'].apply(lambda x: ' '.join([word for word in x.split() if word not in (stopwords)]))"
   ]
  },
  {
   "cell_type": "code",
   "execution_count": 139,
   "metadata": {},
   "outputs": [
    {
     "data": {
      "text/html": [
       "<div>\n",
       "<style scoped>\n",
       "    .dataframe tbody tr th:only-of-type {\n",
       "        vertical-align: middle;\n",
       "    }\n",
       "\n",
       "    .dataframe tbody tr th {\n",
       "        vertical-align: top;\n",
       "    }\n",
       "\n",
       "    .dataframe thead th {\n",
       "        text-align: right;\n",
       "    }\n",
       "</style>\n",
       "<table border=\"1\" class=\"dataframe\">\n",
       "  <thead>\n",
       "    <tr style=\"text-align: right;\">\n",
       "      <th></th>\n",
       "      <th>review</th>\n",
       "    </tr>\n",
       "  </thead>\n",
       "  <tbody>\n",
       "    <tr>\n",
       "      <th>0</th>\n",
       "      <td>want write comment shawshank redemption sure a...</td>\n",
       "    </tr>\n",
       "    <tr>\n",
       "      <th>1</th>\n",
       "      <td>never seen amazing since saw shawshank redempt...</td>\n",
       "    </tr>\n",
       "    <tr>\n",
       "      <th>2</th>\n",
       "      <td>ordinary hollywood flick great deep message fo...</td>\n",
       "    </tr>\n",
       "    <tr>\n",
       "      <th>3</th>\n",
       "      <td>hollywood usually creating things entertainmen...</td>\n",
       "    </tr>\n",
       "    <tr>\n",
       "      <th>4</th>\n",
       "      <td>trying save money consider borrowing renting s...</td>\n",
       "    </tr>\n",
       "  </tbody>\n",
       "</table>\n",
       "</div>"
      ],
      "text/plain": [
       "                                              review\n",
       "0  want write comment shawshank redemption sure a...\n",
       "1  never seen amazing since saw shawshank redempt...\n",
       "2  ordinary hollywood flick great deep message fo...\n",
       "3  hollywood usually creating things entertainmen...\n",
       "4  trying save money consider borrowing renting s..."
      ]
     },
     "execution_count": 139,
     "metadata": {},
     "output_type": "execute_result"
    }
   ],
   "source": [
    "posdf.head()"
   ]
  },
  {
   "cell_type": "code",
   "execution_count": 140,
   "metadata": {},
   "outputs": [],
   "source": [
    "posdf['is_hr_news'] = 0"
   ]
  },
  {
   "cell_type": "markdown",
   "metadata": {},
   "source": [
    "#### Section 1.2.2: Cleaning the negative reviews"
   ]
  },
  {
   "cell_type": "code",
   "execution_count": 142,
   "metadata": {},
   "outputs": [],
   "source": [
    "negdf = negdf.rename(columns={'2':'review'})"
   ]
  },
  {
   "cell_type": "code",
   "execution_count": 143,
   "metadata": {},
   "outputs": [],
   "source": [
    "negdf['review'] = negdf['review'].str.lower()\n",
    "negdf['review'] = negdf['review'].str.replace(\"[^a-zA-Z]\", \" \")\n",
    "negdf['review'] = negdf['review'].str.findall('\\w{3,}').str.join(' ')\n",
    "\n",
    "from nltk.corpus import stopwords\n",
    "stopwords = stopwords.words('english')\n",
    "stopwords = set(stopwords)\n",
    "stopwords.add('film')\n",
    "stopwords.add('movie')\n",
    "stopwords.add('one')\n",
    "stopwords.add('even')\n",
    "stopwords.add('really')\n",
    "stopwords.add('time')\n",
    "stopwords.add('title')\n",
    "stopwords.add('first')\n",
    "stopwords.add('last')\n",
    "stopwords.add('don')\n",
    "stopwords.add('could')\n",
    "stopwords.add('many')\n",
    "stopwords.add('much')\n",
    "stopwords.add('also')\n",
    "stopwords.add('might')\n",
    "stopwords.add('should')\n",
    "stopwords.add('films')\n",
    "stopwords.add('movies')\n",
    "stopwords.add('way')\n",
    "stopwords.add('ever')\n",
    "stopwords.add('would')\n",
    "\n",
    "\n",
    "negdf['review'] = negdf['review'].apply(lambda x: ' '.join([word for word in x.split() if word not in (stopwords)]))"
   ]
  },
  {
   "cell_type": "code",
   "execution_count": 144,
   "metadata": {},
   "outputs": [],
   "source": [
    "negdf['is_hr_news'] = 0"
   ]
  },
  {
   "cell_type": "markdown",
   "metadata": {},
   "source": [
    "#### Section 1.2.3: Combining the movie data with the hr data"
   ]
  },
  {
   "cell_type": "code",
   "execution_count": 146,
   "metadata": {},
   "outputs": [],
   "source": [
    "hr.rename(columns={'title':'review'},inplace=True)"
   ]
  },
  {
   "cell_type": "code",
   "execution_count": 147,
   "metadata": {},
   "outputs": [
    {
     "data": {
      "text/html": [
       "<div>\n",
       "<style scoped>\n",
       "    .dataframe tbody tr th:only-of-type {\n",
       "        vertical-align: middle;\n",
       "    }\n",
       "\n",
       "    .dataframe tbody tr th {\n",
       "        vertical-align: top;\n",
       "    }\n",
       "\n",
       "    .dataframe thead th {\n",
       "        text-align: right;\n",
       "    }\n",
       "</style>\n",
       "<table border=\"1\" class=\"dataframe\">\n",
       "  <thead>\n",
       "    <tr style=\"text-align: right;\">\n",
       "      <th></th>\n",
       "      <th>review</th>\n",
       "      <th>is_hr_news</th>\n",
       "    </tr>\n",
       "  </thead>\n",
       "  <tbody>\n",
       "    <tr>\n",
       "      <th>0</th>\n",
       "      <td>want write comment shawshank redemption sure a...</td>\n",
       "      <td>0</td>\n",
       "    </tr>\n",
       "    <tr>\n",
       "      <th>1</th>\n",
       "      <td>never seen amazing since saw shawshank redempt...</td>\n",
       "      <td>0</td>\n",
       "    </tr>\n",
       "    <tr>\n",
       "      <th>2</th>\n",
       "      <td>ordinary hollywood flick great deep message fo...</td>\n",
       "      <td>0</td>\n",
       "    </tr>\n",
       "    <tr>\n",
       "      <th>3</th>\n",
       "      <td>hollywood usually creating things entertainmen...</td>\n",
       "      <td>0</td>\n",
       "    </tr>\n",
       "    <tr>\n",
       "      <th>4</th>\n",
       "      <td>trying save money consider borrowing renting s...</td>\n",
       "      <td>0</td>\n",
       "    </tr>\n",
       "  </tbody>\n",
       "</table>\n",
       "</div>"
      ],
      "text/plain": [
       "                                              review  is_hr_news\n",
       "0  want write comment shawshank redemption sure a...           0\n",
       "1  never seen amazing since saw shawshank redempt...           0\n",
       "2  ordinary hollywood flick great deep message fo...           0\n",
       "3  hollywood usually creating things entertainmen...           0\n",
       "4  trying save money consider borrowing renting s...           0"
      ]
     },
     "execution_count": 147,
     "metadata": {},
     "output_type": "execute_result"
    }
   ],
   "source": [
    "frames = [posdf,negdf,hr]\n",
    "\n",
    "hr1 = pd.concat(frames)\n",
    "\n",
    "hr1.head()"
   ]
  },
  {
   "cell_type": "code",
   "execution_count": 148,
   "metadata": {},
   "outputs": [
    {
     "data": {
      "text/plain": [
       "1641"
      ]
     },
     "execution_count": 148,
     "metadata": {},
     "output_type": "execute_result"
    }
   ],
   "source": [
    "len(hr1)"
   ]
  },
  {
   "cell_type": "code",
   "execution_count": 149,
   "metadata": {},
   "outputs": [
    {
     "data": {
      "text/plain": [
       "671"
      ]
     },
     "execution_count": 149,
     "metadata": {},
     "output_type": "execute_result"
    }
   ],
   "source": [
    "len(posdf)"
   ]
  },
  {
   "cell_type": "code",
   "execution_count": 150,
   "metadata": {},
   "outputs": [
    {
     "data": {
      "text/plain": [
       "730"
      ]
     },
     "execution_count": 150,
     "metadata": {},
     "output_type": "execute_result"
    }
   ],
   "source": [
    "len(negdf)"
   ]
  },
  {
   "cell_type": "code",
   "execution_count": 151,
   "metadata": {},
   "outputs": [
    {
     "data": {
      "text/plain": [
       "240"
      ]
     },
     "execution_count": 151,
     "metadata": {},
     "output_type": "execute_result"
    }
   ],
   "source": [
    "len(hr)"
   ]
  },
  {
   "cell_type": "code",
   "execution_count": 153,
   "metadata": {},
   "outputs": [
    {
     "data": {
      "text/plain": [
       "is_hr_news\n",
       "0    1401\n",
       "1     240\n",
       "dtype: int64"
      ]
     },
     "execution_count": 153,
     "metadata": {},
     "output_type": "execute_result"
    }
   ],
   "source": [
    "hr1.groupby('is_hr_news').size()"
   ]
  },
  {
   "cell_type": "code",
   "execution_count": 160,
   "metadata": {},
   "outputs": [],
   "source": [
    "hr1 = hr1.reset_index(drop=True)"
   ]
  },
  {
   "cell_type": "code",
   "execution_count": 166,
   "metadata": {},
   "outputs": [],
   "source": [
    "hr1.to_csv('hrandmovie.csv')"
   ]
  },
  {
   "cell_type": "code",
   "execution_count": 167,
   "metadata": {},
   "outputs": [
    {
     "data": {
      "text/html": [
       "<div>\n",
       "<style scoped>\n",
       "    .dataframe tbody tr th:only-of-type {\n",
       "        vertical-align: middle;\n",
       "    }\n",
       "\n",
       "    .dataframe tbody tr th {\n",
       "        vertical-align: top;\n",
       "    }\n",
       "\n",
       "    .dataframe thead th {\n",
       "        text-align: right;\n",
       "    }\n",
       "</style>\n",
       "<table border=\"1\" class=\"dataframe\">\n",
       "  <thead>\n",
       "    <tr style=\"text-align: right;\">\n",
       "      <th></th>\n",
       "      <th>review</th>\n",
       "      <th>is_hr_news</th>\n",
       "    </tr>\n",
       "  </thead>\n",
       "  <tbody>\n",
       "    <tr>\n",
       "      <th>0</th>\n",
       "      <td>want write comment shawshank redemption sure a...</td>\n",
       "      <td>0</td>\n",
       "    </tr>\n",
       "    <tr>\n",
       "      <th>1</th>\n",
       "      <td>never seen amazing since saw shawshank redempt...</td>\n",
       "      <td>0</td>\n",
       "    </tr>\n",
       "    <tr>\n",
       "      <th>2</th>\n",
       "      <td>ordinary hollywood flick great deep message fo...</td>\n",
       "      <td>0</td>\n",
       "    </tr>\n",
       "    <tr>\n",
       "      <th>3</th>\n",
       "      <td>hollywood usually creating things entertainmen...</td>\n",
       "      <td>0</td>\n",
       "    </tr>\n",
       "    <tr>\n",
       "      <th>4</th>\n",
       "      <td>trying save money consider borrowing renting s...</td>\n",
       "      <td>0</td>\n",
       "    </tr>\n",
       "  </tbody>\n",
       "</table>\n",
       "</div>"
      ],
      "text/plain": [
       "                                              review  is_hr_news\n",
       "0  want write comment shawshank redemption sure a...           0\n",
       "1  never seen amazing since saw shawshank redempt...           0\n",
       "2  ordinary hollywood flick great deep message fo...           0\n",
       "3  hollywood usually creating things entertainmen...           0\n",
       "4  trying save money consider borrowing renting s...           0"
      ]
     },
     "execution_count": 167,
     "metadata": {},
     "output_type": "execute_result"
    }
   ],
   "source": [
    "hr1.head()"
   ]
  },
  {
   "cell_type": "markdown",
   "metadata": {},
   "source": [
    "## Section 2: Building DTM and Feature Extraction and Selection"
   ]
  },
  {
   "cell_type": "code",
   "execution_count": 2,
   "metadata": {},
   "outputs": [],
   "source": [
    "hr_data = []\n",
    "hr_labels = []\n",
    "hr = []\n",
    "\n",
    "openfile = open('data/hrandmovie.csv', 'rb')\n",
    "r = csv.reader(openfile)\n",
    "for i in r:\n",
    "    hr.append(i)\n",
    "    hr_data.append(i[1])\n",
    "    hr_labels.append(i[2])    \n",
    "openfile.close()"
   ]
  },
  {
   "cell_type": "code",
   "execution_count": 3,
   "metadata": {},
   "outputs": [
    {
     "name": "stdout",
     "output_type": "stream",
     "text": [
      "(1642, 18556)\n",
      "  (0, 13709)\t1.0\n",
      "  (1, 17960)\t0.04689112137285809\n",
      "  (1, 18414)\t0.07081044152214631\n",
      "  (1, 3048)\t0.07322940602356301\n",
      "  (1, 14684)\t0.3254817041549533\n",
      "  (1, 13295)\t0.38506885567130605\n",
      "  (1, 16126)\t0.053358729099798566\n",
      "  (1, 436)\t0.05101517179686144\n",
      "  (1, 5626)\t0.050219340025167834\n",
      "  (1, 12378)\t0.0666196367985419\n",
      "  (1, 14111)\t0.20857296456417276\n",
      "  (1, 9537)\t0.08572040638609364\n",
      "  (1, 11900)\t0.03594452315604999\n",
      "  (1, 18425)\t0.07564837052497969\n",
      "  (1, 3053)\t0.06987795685952464\n",
      "  (1, 12673)\t0.10376503245599931\n",
      "  (1, 10694)\t0.09574905061479913\n",
      "  (1, 14904)\t0.063717797034765\n",
      "  (1, 5235)\t0.11464204205407882\n",
      "  (1, 4250)\t0.08938640787993851\n",
      "  (1, 7844)\t0.05870203902761957\n",
      "  (1, 6608)\t0.08337641386912183\n",
      "  (1, 14455)\t0.1145382381837234\n",
      "  (1, 5149)\t0.10203034359372289\n",
      "  (1, 15857)\t0.0928880228579198\n",
      "  :\t:\n",
      "  (1639, 15438)\t0.2944681834925156\n",
      "  (1639, 10382)\t0.5742637805335631\n",
      "  (1639, 9215)\t0.32521380392941707\n",
      "  (1639, 3376)\t0.4236541227030305\n",
      "  (1639, 3394)\t0.4236541227030305\n",
      "  (1640, 9392)\t0.2170705505616622\n",
      "  (1640, 5311)\t0.3373423040422197\n",
      "  (1640, 40)\t0.34539411182098756\n",
      "  (1640, 4013)\t0.26683109739378413\n",
      "  (1640, 18347)\t0.22872608775596476\n",
      "  (1640, 5729)\t0.3373423040422197\n",
      "  (1640, 425)\t0.2649314931847164\n",
      "  (1640, 12279)\t0.38159951724973923\n",
      "  (1640, 16732)\t0.34539411182098756\n",
      "  (1640, 3076)\t0.25037335601294586\n",
      "  (1640, 18348)\t0.29099547783529106\n",
      "  (1641, 674)\t0.2722371389586069\n",
      "  (1641, 18347)\t0.23164873301336408\n",
      "  (1641, 9500)\t0.37125695829323657\n",
      "  (1641, 13396)\t0.33458892283611025\n",
      "  (1641, 3573)\t0.3049848039276166\n",
      "  (1641, 14582)\t0.38647556803283023\n",
      "  (1641, 3076)\t0.253572608484361\n",
      "  (1641, 349)\t0.38647556803283023\n",
      "  (1641, 10794)\t0.4079249937503628\n"
     ]
    }
   ],
   "source": [
    "tfidf_vectorizer = TfidfVectorizer(decode_error ='ignore')\n",
    "tfidf = tfidf_vectorizer.fit_transform(hr_data)\n",
    "print tfidf.shape\n",
    "print tfidf"
   ]
  },
  {
   "cell_type": "code",
   "execution_count": 4,
   "metadata": {},
   "outputs": [
    {
     "data": {
      "text/plain": [
       "[u'aaaaaaah',\n",
       " u'aaargh',\n",
       " u'aah',\n",
       " u'aahhhh',\n",
       " u'aargh',\n",
       " u'aaron',\n",
       " u'aaw',\n",
       " u'abandon',\n",
       " u'abandonded',\n",
       " u'abandoned',\n",
       " u'abandons',\n",
       " u'abbott',\n",
       " u'abbreviated',\n",
       " u'abby',\n",
       " u'abc',\n",
       " u'abducted',\n",
       " u'abducting',\n",
       " u'aberrations',\n",
       " u'abhorred',\n",
       " u'abhorrent',\n",
       " u'abiding',\n",
       " u'abilities',\n",
       " u'ability',\n",
       " u'abject',\n",
       " u'able',\n",
       " u'ably',\n",
       " u'abnormally',\n",
       " u'aboard',\n",
       " u'abolish',\n",
       " u'abolishing',\n",
       " u'abominable',\n",
       " u'abomination',\n",
       " u'aborted',\n",
       " u'abortion',\n",
       " u'abound',\n",
       " u'abraham',\n",
       " u'abrahams',\n",
       " u'abrasive',\n",
       " u'abrupt',\n",
       " u'abscessed',\n",
       " u'absence',\n",
       " u'absent',\n",
       " u'absolom',\n",
       " u'absolute',\n",
       " u'absolutely',\n",
       " u'absorb',\n",
       " u'absorbed',\n",
       " u'absorbing',\n",
       " u'absorbs',\n",
       " u'abstaining',\n",
       " u'abstract',\n",
       " u'abstracting',\n",
       " u'abstraction',\n",
       " u'abstruse',\n",
       " u'absurd',\n",
       " u'absurdities',\n",
       " u'absurdity',\n",
       " u'absurdly',\n",
       " u'abundance',\n",
       " u'abundant',\n",
       " u'abuse',\n",
       " u'abused',\n",
       " u'abuser',\n",
       " u'abusers',\n",
       " u'abusive',\n",
       " u'abysmal',\n",
       " u'abysmally',\n",
       " u'abyss',\n",
       " u'academy',\n",
       " u'accelerated',\n",
       " u'accent',\n",
       " u'accented',\n",
       " u'accents',\n",
       " u'accentuates',\n",
       " u'accept',\n",
       " u'acceptable',\n",
       " u'acceptance',\n",
       " u'accepted',\n",
       " u'accepting',\n",
       " u'accepts',\n",
       " u'accesible',\n",
       " u'access',\n",
       " u'accessible',\n",
       " u'accident',\n",
       " u'accidental',\n",
       " u'accidentally',\n",
       " u'acclaim',\n",
       " u'acclaimed',\n",
       " u'acclamation',\n",
       " u'accolade',\n",
       " u'accolades',\n",
       " u'accompanied',\n",
       " u'accompanies',\n",
       " u'accompany',\n",
       " u'accompanying',\n",
       " u'accomplice',\n",
       " u'accomplices',\n",
       " u'accomplish',\n",
       " u'accomplished',\n",
       " u'accomplishes',\n",
       " u'accomplishing',\n",
       " u'accomplishment',\n",
       " u'accomplishments',\n",
       " u'accord',\n",
       " u'according',\n",
       " u'accordingly',\n",
       " u'account',\n",
       " u'accountant',\n",
       " u'accounted',\n",
       " u'accounting',\n",
       " u'accounts',\n",
       " u'accoutrement',\n",
       " u'accruing',\n",
       " u'accuracy',\n",
       " u'accurate',\n",
       " u'accurately',\n",
       " u'accusamus',\n",
       " u'accusations',\n",
       " u'accuse',\n",
       " u'accused',\n",
       " u'accuses',\n",
       " u'accusing',\n",
       " u'accustomed',\n",
       " u'acerbic',\n",
       " u'acher',\n",
       " u'achieve',\n",
       " u'achieved',\n",
       " u'achievement',\n",
       " u'achievements',\n",
       " u'achieves',\n",
       " u'achieving',\n",
       " u'aching',\n",
       " u'achingly',\n",
       " u'acid',\n",
       " u'acknowledge',\n",
       " u'acknowledged',\n",
       " u'acknowledgement',\n",
       " u'acknowledges',\n",
       " u'acknowledging',\n",
       " u'acme',\n",
       " u'acorn',\n",
       " u'acquaintance',\n",
       " u'acquainted',\n",
       " u'acquainting',\n",
       " u'acquire',\n",
       " u'acquired',\n",
       " u'acquiring',\n",
       " u'acquisition',\n",
       " u'acres',\n",
       " u'acrobatic',\n",
       " u'across',\n",
       " u'act',\n",
       " u'actaully',\n",
       " u'acted',\n",
       " u'acting',\n",
       " u'action',\n",
       " u'actioner',\n",
       " u'actions',\n",
       " u'activating',\n",
       " u'active',\n",
       " u'actively',\n",
       " u'activities',\n",
       " u'activity',\n",
       " u'actor',\n",
       " u'actors',\n",
       " u'actress',\n",
       " u'actresses',\n",
       " u'acts',\n",
       " u'actual',\n",
       " u'actually',\n",
       " u'acutely',\n",
       " u'adam',\n",
       " u'adamant',\n",
       " u'adams',\n",
       " u'adamson',\n",
       " u'adapt',\n",
       " u'adaptation',\n",
       " u'adaptations',\n",
       " u'adapted',\n",
       " u'adapting',\n",
       " u'adaption',\n",
       " u'adapts',\n",
       " u'aday',\n",
       " u'add',\n",
       " u'added',\n",
       " u'addicted',\n",
       " u'addiction',\n",
       " u'addicts',\n",
       " u'adding',\n",
       " u'addition',\n",
       " u'additional',\n",
       " u'additionally',\n",
       " u'additions',\n",
       " u'addled',\n",
       " u'address',\n",
       " u'addressed',\n",
       " u'addressing',\n",
       " u'adds',\n",
       " u'adeptly',\n",
       " u'adequate',\n",
       " u'adequately',\n",
       " u'adjacent',\n",
       " u'adjoining',\n",
       " u'adjudge',\n",
       " u'adjust',\n",
       " u'adjustments',\n",
       " u'adkins',\n",
       " u'adler',\n",
       " u'administration',\n",
       " u'administrative',\n",
       " u'administrator',\n",
       " u'administrators',\n",
       " u'admirable',\n",
       " u'admirably',\n",
       " u'admiration',\n",
       " u'admire',\n",
       " u'admired',\n",
       " u'admirer',\n",
       " u'admirers',\n",
       " u'admires',\n",
       " u'admission',\n",
       " u'admit',\n",
       " u'admits',\n",
       " u'admitted',\n",
       " u'admittedly',\n",
       " u'admitting',\n",
       " u'ado',\n",
       " u'adolescent',\n",
       " u'adolf',\n",
       " u'adolph',\n",
       " u'adopt',\n",
       " u'adopted',\n",
       " u'adopting',\n",
       " u'adoption',\n",
       " u'adopts',\n",
       " u'adorable',\n",
       " u'adoration',\n",
       " u'adore',\n",
       " u'adored',\n",
       " u'adorned',\n",
       " u'adrenalin',\n",
       " u'adrenaline',\n",
       " u'ads',\n",
       " u'adulatory',\n",
       " u'adult',\n",
       " u'adultery',\n",
       " u'adulthood',\n",
       " u'adults',\n",
       " u'advance',\n",
       " u'advanced',\n",
       " u'advances',\n",
       " u'advantage',\n",
       " u'advent',\n",
       " u'adventure',\n",
       " u'adventurers',\n",
       " u'adventures',\n",
       " u'adventurous',\n",
       " u'adversaries',\n",
       " u'adversed',\n",
       " u'adversity',\n",
       " u'advertise',\n",
       " u'advertised',\n",
       " u'advertisement',\n",
       " u'advertisements',\n",
       " u'advertising',\n",
       " u'adverts',\n",
       " u'advice',\n",
       " u'advise',\n",
       " u'advised',\n",
       " u'advises',\n",
       " u'advisory',\n",
       " u'advocate',\n",
       " u'aesthetic',\n",
       " u'aesthetics',\n",
       " u'afectiando',\n",
       " u'affable',\n",
       " u'affair',\n",
       " u'affairs',\n",
       " u'affect',\n",
       " u'affected',\n",
       " u'affecting',\n",
       " u'affection',\n",
       " u'affectionate',\n",
       " u'affects',\n",
       " u'affirmation',\n",
       " u'affl',\n",
       " u'affleck',\n",
       " u'afflicted',\n",
       " u'affliction',\n",
       " u'affluent',\n",
       " u'afford',\n",
       " u'afforded',\n",
       " u'affording',\n",
       " u'aficionado',\n",
       " u'afleck',\n",
       " u'afloat',\n",
       " u'aforementioned',\n",
       " u'afraid',\n",
       " u'afraidd',\n",
       " u'africa',\n",
       " u'african',\n",
       " u'afro',\n",
       " u'afterall',\n",
       " u'aftermath',\n",
       " u'afternoon',\n",
       " u'afterward',\n",
       " u'afterwards',\n",
       " u'afterwords',\n",
       " u'afther',\n",
       " u'agar',\n",
       " u'age',\n",
       " u'aged',\n",
       " u'agency',\n",
       " u'agenda',\n",
       " u'agendas',\n",
       " u'agent',\n",
       " u'agents',\n",
       " u'ager',\n",
       " u'ages',\n",
       " u'aggregate',\n",
       " u'aggression',\n",
       " u'aggressive',\n",
       " u'aggressor',\n",
       " u'agian',\n",
       " u'agile',\n",
       " u'agility',\n",
       " u'aging',\n",
       " u'agitation',\n",
       " u'ago',\n",
       " u'agonizing',\n",
       " u'agonizingly',\n",
       " u'agony',\n",
       " u'agrarian',\n",
       " u'agree',\n",
       " u'agreeable',\n",
       " u'agreed',\n",
       " u'agreeing',\n",
       " u'agreement',\n",
       " u'agreements',\n",
       " u'agrees',\n",
       " u'ahead',\n",
       " u'ahem',\n",
       " u'ahhhhhh',\n",
       " u'ahold',\n",
       " u'aid',\n",
       " u'aida',\n",
       " u'aided',\n",
       " u'aides',\n",
       " u'aids',\n",
       " u'aig',\n",
       " u'ailing',\n",
       " u'aim',\n",
       " u'aimed',\n",
       " u'aiming',\n",
       " u'aimlessly',\n",
       " u'aint',\n",
       " u'aip',\n",
       " u'air',\n",
       " u'airbender',\n",
       " u'airborne',\n",
       " u'airbrushed',\n",
       " u'aired',\n",
       " u'airhead',\n",
       " u'airheads',\n",
       " u'airing',\n",
       " u'airlines',\n",
       " u'airplane',\n",
       " u'airport',\n",
       " u'airs',\n",
       " u'airy',\n",
       " u'aka',\n",
       " u'akin',\n",
       " u'akira',\n",
       " u'alabama',\n",
       " u'alan',\n",
       " u'alarm',\n",
       " u'alas',\n",
       " u'alba',\n",
       " u'albeit',\n",
       " u'albert',\n",
       " u'album',\n",
       " u'albums',\n",
       " u'alcohol',\n",
       " u'alcoholic',\n",
       " u'alcoholics',\n",
       " u'alcoholism',\n",
       " u'alec',\n",
       " u'alecia',\n",
       " u'aleck',\n",
       " u'alecs',\n",
       " u'aleeuns',\n",
       " u'alex',\n",
       " u'alexa',\n",
       " u'alexandre',\n",
       " u'alexis',\n",
       " u'alfred',\n",
       " u'alias',\n",
       " u'alice',\n",
       " u'alien',\n",
       " u'alienated',\n",
       " u'alienating',\n",
       " u'aliens',\n",
       " u'alighieri',\n",
       " u'alike',\n",
       " u'alive',\n",
       " u'aliw',\n",
       " u'alleged',\n",
       " u'allegedly',\n",
       " u'allegiance',\n",
       " u'allegorical',\n",
       " u'allegories',\n",
       " u'allegory',\n",
       " u'allen',\n",
       " u'allergic',\n",
       " u'alley',\n",
       " u'alleys',\n",
       " u'alleyway',\n",
       " u'alliance',\n",
       " u'allie',\n",
       " u'allies',\n",
       " u'alligator',\n",
       " u'alliterative',\n",
       " u'allocated',\n",
       " u'allotted',\n",
       " u'allow',\n",
       " u'allowed',\n",
       " u'allowing',\n",
       " u'allows',\n",
       " u'alludes',\n",
       " u'allure',\n",
       " u'alluring',\n",
       " u'allusions',\n",
       " u'ally',\n",
       " u'allyson',\n",
       " u'alma',\n",
       " u'almighty',\n",
       " u'almost',\n",
       " u'alone',\n",
       " u'along',\n",
       " u'alongside',\n",
       " u'alot',\n",
       " u'aloud',\n",
       " u'alpaca',\n",
       " u'alpha',\n",
       " u'alphabet',\n",
       " u'alpine',\n",
       " u'already',\n",
       " u'alright',\n",
       " u'alter',\n",
       " u'alterations',\n",
       " u'altered',\n",
       " u'altering',\n",
       " u'alternate',\n",
       " u'alternates',\n",
       " u'alternating',\n",
       " u'alternation',\n",
       " u'alternative',\n",
       " u'although',\n",
       " u'altogether',\n",
       " u'aluminum',\n",
       " u'alvey',\n",
       " u'alvin',\n",
       " u'always',\n",
       " u'alyson',\n",
       " u'amadeus',\n",
       " u'amado',\n",
       " u'amalgam',\n",
       " u'amalgamation',\n",
       " u'amassed',\n",
       " u'amateur',\n",
       " u'amateurish',\n",
       " u'amateurs',\n",
       " u'amaturish',\n",
       " u'amaze',\n",
       " u'amazed',\n",
       " u'amazement',\n",
       " u'amazes',\n",
       " u'amazing',\n",
       " u'amazingly',\n",
       " u'amazon',\n",
       " u'ambiance',\n",
       " u'ambiguity',\n",
       " u'ambiguous',\n",
       " u'ambition',\n",
       " u'ambitious',\n",
       " u'ambivalent',\n",
       " u'ambush',\n",
       " u'ambushed',\n",
       " u'amd',\n",
       " u'america',\n",
       " u'american',\n",
       " u'americanizing',\n",
       " u'americans',\n",
       " u'amerigo',\n",
       " u'amiable',\n",
       " u'amicability',\n",
       " u'amid',\n",
       " u'amidst',\n",
       " u'amin',\n",
       " u'amis',\n",
       " u'amist',\n",
       " u'amistad',\n",
       " u'amity',\n",
       " u'ammo',\n",
       " u'ammounts',\n",
       " u'amneris',\n",
       " u'amniotic',\n",
       " u'amok',\n",
       " u'amon',\n",
       " u'among',\n",
       " u'amongst',\n",
       " u'amorality',\n",
       " u'amores',\n",
       " u'amorous',\n",
       " u'amorphic',\n",
       " u'amount',\n",
       " u'amounted',\n",
       " u'amounts',\n",
       " u'amped',\n",
       " u'ample',\n",
       " u'amputated',\n",
       " u'amsterdam',\n",
       " u'amulet',\n",
       " u'amulets',\n",
       " u'amuse',\n",
       " u'amused',\n",
       " u'amusement',\n",
       " u'amusing',\n",
       " u'amy',\n",
       " u'amyotrophic',\n",
       " u'anakin',\n",
       " u'anal',\n",
       " u'analogue',\n",
       " u'analogy',\n",
       " u'analyse',\n",
       " u'analysis',\n",
       " u'analysts',\n",
       " u'analytical',\n",
       " u'analyze',\n",
       " u'analyzed',\n",
       " u'analyzing',\n",
       " u'anarchistic',\n",
       " u'anarchy',\n",
       " u'anatomically',\n",
       " u'anchor',\n",
       " u'anchorman',\n",
       " u'ancient',\n",
       " u'andalou',\n",
       " u'anderson',\n",
       " u'andolini',\n",
       " u'andrei',\n",
       " u'andrescue',\n",
       " u'andrew',\n",
       " u'androgyny',\n",
       " u'andros',\n",
       " u'anduin',\n",
       " u'andy',\n",
       " u'anecdotes',\n",
       " u'aneurism',\n",
       " u'ang',\n",
       " u'angel',\n",
       " u'angeles',\n",
       " u'angeleyes',\n",
       " u'angelica',\n",
       " u'angels',\n",
       " u'anger',\n",
       " u'angered',\n",
       " u'angle',\n",
       " u'angled',\n",
       " u'angles',\n",
       " u'anglicised',\n",
       " u'angmar',\n",
       " u'angry',\n",
       " u'angst',\n",
       " u'anguish',\n",
       " u'anika',\n",
       " u'animal',\n",
       " u'animals',\n",
       " u'animated',\n",
       " u'animating',\n",
       " u'animation',\n",
       " u'animations',\n",
       " u'animator',\n",
       " u'animators',\n",
       " u'anime',\n",
       " u'animes',\n",
       " u'animosity',\n",
       " u'anit',\n",
       " u'ankle',\n",
       " u'ann',\n",
       " u'annabeth',\n",
       " u'annals',\n",
       " u'anne',\n",
       " u'annette',\n",
       " u'annotated',\n",
       " u'announce',\n",
       " u'announced',\n",
       " u'announcement',\n",
       " u'announces',\n",
       " u'announcing',\n",
       " u'annoy',\n",
       " u'annoyance',\n",
       " u'annoyed',\n",
       " u'annoying',\n",
       " u'annoyingly',\n",
       " u'annual',\n",
       " u'annually',\n",
       " u'annunciated',\n",
       " u'anointing',\n",
       " u'anonymity',\n",
       " u'anonymous',\n",
       " u'anorakish',\n",
       " u'anoraks',\n",
       " u'anorexia',\n",
       " u'anorexic',\n",
       " u'another',\n",
       " u'answer',\n",
       " u'answered',\n",
       " u'answering',\n",
       " u'answers',\n",
       " u'ant',\n",
       " u'antagonist',\n",
       " u'antags',\n",
       " u'anthony',\n",
       " u'anthropoid',\n",
       " u'anti',\n",
       " u'antichrist',\n",
       " u'anticipate',\n",
       " u'anticipated',\n",
       " u'anticipation',\n",
       " u'antics',\n",
       " u'antigravity',\n",
       " u'antilles',\n",
       " u'antiques',\n",
       " u'antisocial',\n",
       " u'antithesis',\n",
       " u'anton',\n",
       " u'antwan',\n",
       " u'anus',\n",
       " u'anxiety',\n",
       " u'anxious',\n",
       " u'anybody',\n",
       " u'anymore',\n",
       " u'anyone',\n",
       " u'anything',\n",
       " u'anytime',\n",
       " u'anyway',\n",
       " u'anyways',\n",
       " u'anywhere',\n",
       " u'anywho',\n",
       " u'apart',\n",
       " u'apartment',\n",
       " u'apartments',\n",
       " u'apathy',\n",
       " u'apes',\n",
       " u'apex',\n",
       " u'apiece',\n",
       " u'aplomb',\n",
       " u'apocalypse',\n",
       " u'apocalyptic',\n",
       " u'apocalytically',\n",
       " u'apocryphal',\n",
       " u'apollo',\n",
       " u'apologies',\n",
       " u'apologists',\n",
       " u'apologize',\n",
       " u'apology',\n",
       " u'apotheosis',\n",
       " u'apotpourriofvestiges',\n",
       " u'app',\n",
       " u'appalled',\n",
       " u'appalling',\n",
       " u'apparent',\n",
       " u'apparently',\n",
       " u'appeal',\n",
       " u'appealing',\n",
       " u'appeals',\n",
       " u'appear',\n",
       " u'appearance',\n",
       " u'appearances',\n",
       " u'appeared',\n",
       " u'appearence',\n",
       " u'appearing',\n",
       " u'appears',\n",
       " u'appendix',\n",
       " u'applaud',\n",
       " u'applauding',\n",
       " u'applause',\n",
       " u'apple',\n",
       " u'application',\n",
       " u'applications',\n",
       " u'applied',\n",
       " u'applies',\n",
       " u'apply',\n",
       " u'applying',\n",
       " u'appointed',\n",
       " u'appraisal',\n",
       " u'appraisals',\n",
       " u'appreciate',\n",
       " u'appreciated',\n",
       " u'appreciates',\n",
       " u'appreciating',\n",
       " u'appreciation',\n",
       " u'appreciator',\n",
       " u'apprehend',\n",
       " u'apprehended',\n",
       " u'apprehensive',\n",
       " u'apprentice',\n",
       " u'approach',\n",
       " u'approached',\n",
       " u'approaches',\n",
       " u'approaching',\n",
       " u'appropriate',\n",
       " u'appropriately',\n",
       " u'approval',\n",
       " u'approve',\n",
       " u'approved',\n",
       " u'approx',\n",
       " u'approximate',\n",
       " u'approximately',\n",
       " u'april',\n",
       " u'apt',\n",
       " u'aptly',\n",
       " u'aquatic',\n",
       " u'arabia',\n",
       " u'arabic',\n",
       " u'arachnophobia',\n",
       " u'araf',\n",
       " u'aragon',\n",
       " u'aragorn',\n",
       " u'arbitrarily',\n",
       " u'arbitrariness',\n",
       " u'arbitrary',\n",
       " u'arbitrator',\n",
       " u'arc',\n",
       " u'arch',\n",
       " u'archer',\n",
       " u'archetypes',\n",
       " u'archie',\n",
       " u'architect',\n",
       " u'architecture',\n",
       " u'archival',\n",
       " u'arcs',\n",
       " u'arcudi',\n",
       " u'arduous',\n",
       " u'area',\n",
       " u'areas',\n",
       " u'areia',\n",
       " u'arenas',\n",
       " u'arendt',\n",
       " u'arguably',\n",
       " u'argue',\n",
       " u'argueably',\n",
       " u'argued',\n",
       " u'argues',\n",
       " u'argument',\n",
       " u'arguments',\n",
       " u'aria',\n",
       " u'ariadne',\n",
       " u'arias',\n",
       " u'arid',\n",
       " u'arisen',\n",
       " u'arises',\n",
       " u'arising',\n",
       " u'ark',\n",
       " u'arm',\n",
       " u'armageddon',\n",
       " u'armand',\n",
       " u'armchair',\n",
       " u'armed',\n",
       " u'armies',\n",
       " u'armor',\n",
       " u'armored',\n",
       " u'armour',\n",
       " u'armoured',\n",
       " u'arms',\n",
       " u'army',\n",
       " u'arnold',\n",
       " u'arose',\n",
       " u'around',\n",
       " u'aroused',\n",
       " u'arquette',\n",
       " u'arranged',\n",
       " u'array',\n",
       " u'arrested',\n",
       " u'arrival',\n",
       " u'arrive',\n",
       " u'arrived',\n",
       " u'arrives',\n",
       " u'arriving',\n",
       " u'arrogant',\n",
       " u'arrogantly',\n",
       " u'arrow',\n",
       " u'arrows',\n",
       " u'arsenal',\n",
       " u'arson',\n",
       " u'art',\n",
       " u'artform',\n",
       " u'artful',\n",
       " u'artfully',\n",
       " u'arthouse',\n",
       " u'arthur',\n",
       " u'article',\n",
       " u'articulate',\n",
       " u'articulates',\n",
       " u'artifacts',\n",
       " u'artificial',\n",
       " u'artillery',\n",
       " u'artist',\n",
       " u'artistic',\n",
       " u'artistically',\n",
       " u'artistry',\n",
       " u'artists',\n",
       " u'artless',\n",
       " u'arts',\n",
       " u'artwork',\n",
       " u'artworks',\n",
       " u'arty',\n",
       " u'arwen',\n",
       " u'aryan',\n",
       " u'asakazu',\n",
       " u'ascending',\n",
       " u'ashamed',\n",
       " u'ashes',\n",
       " u'ashtray',\n",
       " u'asia',\n",
       " u'asian',\n",
       " u'aside',\n",
       " u'asinine',\n",
       " u'ask',\n",
       " u'asked',\n",
       " u'asking',\n",
       " u'asks',\n",
       " u'asleep',\n",
       " u'aspect',\n",
       " u'aspects',\n",
       " u'aspiration',\n",
       " u'aspirations',\n",
       " u'aspire',\n",
       " u'aspired',\n",
       " u'aspires',\n",
       " u'aspirin',\n",
       " u'aspiring',\n",
       " u'ass',\n",
       " u'assassin',\n",
       " u'assassination',\n",
       " u'assassins',\n",
       " u'assault',\n",
       " u'assaulters',\n",
       " u'assaults',\n",
       " u'assemble',\n",
       " u'assembled',\n",
       " u'assembly',\n",
       " u'asserted',\n",
       " u'assertion',\n",
       " u'assertiveness',\n",
       " u'assery',\n",
       " u'asses',\n",
       " u'assessed',\n",
       " u'assessment',\n",
       " u'assessments',\n",
       " u'asset',\n",
       " u'assets',\n",
       " u'asshat',\n",
       " u'assholes',\n",
       " u'assigned',\n",
       " u'assigning',\n",
       " u'assignment',\n",
       " u'assignments',\n",
       " u'assist',\n",
       " u'assistance',\n",
       " u'assistant',\n",
       " u'assisted',\n",
       " u'associate',\n",
       " u'associated',\n",
       " u'associates',\n",
       " u'association',\n",
       " u'assorted',\n",
       " u'assortment',\n",
       " u'assume',\n",
       " u'assumed',\n",
       " u'assumes',\n",
       " u'assuming',\n",
       " u'assumption',\n",
       " u'assumptions',\n",
       " u'assure',\n",
       " u'assured',\n",
       " u'assuring',\n",
       " u'asteroid',\n",
       " u'asteroids',\n",
       " u'astin',\n",
       " u'astonish',\n",
       " u'astonished',\n",
       " u'astonishes',\n",
       " u'astonishing',\n",
       " u'astonishingly',\n",
       " u'astound',\n",
       " u'astounded',\n",
       " u'astounding',\n",
       " u'astoundingly',\n",
       " u'astute',\n",
       " u'astutely',\n",
       " u'asunder',\n",
       " u'asylum',\n",
       " u'asylums',\n",
       " u'ataca',\n",
       " u'ate',\n",
       " u'atheist',\n",
       " u'athlete',\n",
       " u'athletes',\n",
       " u'athletic',\n",
       " u'atkinson',\n",
       " u'atlanta',\n",
       " u'atmosphere',\n",
       " u'atmospheric',\n",
       " u'atmospherics',\n",
       " u'atom',\n",
       " u'atop',\n",
       " u'ator',\n",
       " u'atrocious',\n",
       " u'atrociously',\n",
       " u'atrocities',\n",
       " u'atrocity',\n",
       " u'atrophy',\n",
       " u'attach',\n",
       " u'attached',\n",
       " u'attaches',\n",
       " u'attachment',\n",
       " u'attack',\n",
       " u'attacked',\n",
       " u'attacking',\n",
       " u'attacks',\n",
       " u'attain',\n",
       " u'attained',\n",
       " u'attainment',\n",
       " u'attempt',\n",
       " u'attempted',\n",
       " u'attempting',\n",
       " u'attempts',\n",
       " u'attend',\n",
       " u'attendance',\n",
       " u'attended',\n",
       " u'attending',\n",
       " u'attention',\n",
       " u'attila',\n",
       " u'attire',\n",
       " u'attitude',\n",
       " u'attorney',\n",
       " u'attract',\n",
       " u'attracted',\n",
       " u'attraction',\n",
       " u'attractions',\n",
       " u'attractive',\n",
       " u'attractiveness',\n",
       " u'attributable',\n",
       " u'attribute',\n",
       " u'attributed',\n",
       " u'attributes',\n",
       " u'attrocity',\n",
       " u'atypical',\n",
       " u'audacious',\n",
       " u'audacity',\n",
       " u'audible',\n",
       " u'audiece',\n",
       " u'audience',\n",
       " u'audiences',\n",
       " u'audio',\n",
       " u'audiobook',\n",
       " u'audiovisual',\n",
       " u'audit',\n",
       " u'audition',\n",
       " u'auditions',\n",
       " u'auditorium',\n",
       " u'auditory',\n",
       " u'aughts',\n",
       " u'august',\n",
       " u'augustine',\n",
       " u'aunt',\n",
       " u'aura',\n",
       " u'aural',\n",
       " u'auschwitz',\n",
       " u'austerity',\n",
       " u'austin',\n",
       " u'australia',\n",
       " u'australian',\n",
       " u'austrian',\n",
       " u'auteur',\n",
       " u'authentic',\n",
       " u'authenticity',\n",
       " u'author',\n",
       " u'authoritarian',\n",
       " u'authoritative',\n",
       " u'authorities',\n",
       " u'authority',\n",
       " u'authors',\n",
       " u'autism',\n",
       " u'auto',\n",
       " u'autobiographical',\n",
       " u'autocannibalistic',\n",
       " u'automatic',\n",
       " ...]"
      ]
     },
     "execution_count": 4,
     "metadata": {},
     "output_type": "execute_result"
    }
   ],
   "source": [
    "tfidf_vectorizer.get_feature_names()"
   ]
  },
  {
   "cell_type": "code",
   "execution_count": 5,
   "metadata": {
    "scrolled": true
   },
   "outputs": [
    {
     "data": {
      "text/plain": [
       "[['', 'review', 'is_hr_news'],\n",
       " ['0',\n",
       "  'want write comment shawshank redemption sure almost everything possibly said said like people wrote comments profoundly moved simple eloquent depiction hope friendship redemption seen effects strongly kill mockingbird leave feeling cleaner watched intend see like prison normally watch work branch library day checking shawshank redemption older patrons said whenever feel depressed check watch always makes feel better thought strange day nothing except things absolutely watch circumstance things seen times already remembered said watched watched times since gets better every showing action special effects men prison uniforms talking shawshank redemption kill mockingbird best seen judge technical merits care read citizen kane godfather best made may best technique influential motion pictures made best best ones touch soul takes like shawshank redemption touch soul',\n",
       "  '0'],\n",
       " ['1',\n",
       "  'never seen amazing since saw shawshank redemption shawshank encompasses friendships hardships hopes dreams great moves gives hope though circumstances characters viewers quite different feel far removed characters going simple yet everlasting message frank darabont need put kind outlandish special effects get love narration acting win seven oscars beyond let sway see let ranking imdb top list sway let friends recommendation sway set aside little two hours tonight rent finally understand everyone talking understand favorite',\n",
       "  '0'],\n",
       " ['2',\n",
       "  'ordinary hollywood flick great deep message foundation kept built foundation hope message acting phenomenal tim robbins gave greatest performances inspiring intelligent positive performance made smile robbins plays andy dufresne wrongfully convicted murdering wife lover gets life sentences yet never gives hope becomes friends ellis boyd red redding played morgan freeman freeman gives finest performance career unlike robbins lost hope deep regret crime committed deflecting pain away trying feel anything friendship andy learns without hopes dreams nothing andy becomes friends rest red group james whitmore gave great performance brooks halten gets prison parole words red institutionalized directing frank darabont magnificent kept great steady pace along writing great cinematography portrayed prison life horrifying terms physical pain stress pain wares mentally inmates deserve second chance whatever listen people say overrated inspiring greatest everything possibly want',\n",
       "  '0'],\n",
       " ['3',\n",
       "  'hollywood usually creating things entertainment purposes create art create something nature director must approach meticulous manner due delicacy process daunting task requires extremely capable artist undeniable managerial capacity acutely developed awareness element art prominent music visuals script acting elements equally important must succeed independently yet still form harmonious union mixture determines fate artist opus though already well known amongst colleagues notable skills writing directing frank darabont emerges feature directorial debut shawshank redemption proving already master craft darabont managed create recognizable independent releases history hollywood shawshank redemption defines genre defies odds compels emotions brings era artistically influential back hollywood story begins trial young banker andy dufrense victimized circumstantial evidence resulting conviction murder wife lover quick conviction andy finds serving life sentence shawshank prison hope parole exists prison appearance keeping mind free drab walls around ability results gaining respect fellow inmates ellis redding ellis commonly referred red finds gainful use entrepreneurial spirit within drab walls shawshank dealing contraband commodities rare confines prison andy demeanor undeniable sense hope causes red take deeper look world around andy proves red inmates conventional walls shawshank prison convention find home lifestyle creating firm foundation meticulously chiseled screenplay paved success frank darabont outdoes phenomenal adaptation stephen king equally noteworthy novella rita hayworth shawshank redemption novella king demonstrates break free genre dominates still create marvelous piece modern literature though mirrors novella ways darabont illustrates focused objective improving upon areas novella came short resulting best book transitions maintaining poetic moving dialogue novella darabont proves score generate great deal emotional response audience dialogue employs cunning thomas newman son legendary hollywood composer alfred newman darabont shows recognition needs employing newman makes gentle piano chords whisper softly viewer part scripted dialogue newman lends individualism tends drive towards unique realm score composition effort shawshank unnoticed score received oscar nomination unique independent newman score never intrudes concentration distracts work vast array talented scene designers costume designers composers cinematographers various hollywood artists cast shawshank redemption strong foundation work marvelous cast dazzle convincing performances witness tim robbins morgan freeman shine andy red respectively true spectacle acting lies within plethora amazing supporting actors easily disappear roles noticeable veteran star james whitmore portrays elderly brooks hatlen brooks man incarcerated unmentioned crime long finds attached shawshank daily life lead actors show true dedication art focused purpose motivations creating convincing setting never caters anything unbelievable aesthetic touches attention cinematic detail beautiful part lies within thematic material focus human desires abstract concepts like hope freedom themes concern things human spirit undoubtedly yearns seem intricately woven plot easily draws audience story though full hardened criminals heart men display basic human emotions deliver quotable lines date like great novel manages succeed greater things simply entertaining audience darabont tells story masterfully illustrating principles inspiring audience think leaves poignant powerful message hope redemption something seek manages redeem hollywood eyes people feared long lost dark sea clich predictability darabont shows artists still work hollywood studios production facilities artists show capability produce art real art inspires look deeper aspects life world around shawshank redemption delivers needed breath fresh air anyone realizes capability proves masters craft still live earth still bless timeless masterpieces never forget',\n",
       "  '0']]"
      ]
     },
     "execution_count": 5,
     "metadata": {},
     "output_type": "execute_result"
    }
   ],
   "source": [
    "hr[:5]"
   ]
  },
  {
   "cell_type": "code",
   "execution_count": 6,
   "metadata": {},
   "outputs": [
    {
     "data": {
      "text/plain": [
       "array([[0., 0., 0., ..., 0., 0., 0.],\n",
       "       [0., 0., 0., ..., 0., 0., 0.],\n",
       "       [0., 0., 0., ..., 0., 0., 0.],\n",
       "       ...,\n",
       "       [0., 0., 0., ..., 0., 0., 0.],\n",
       "       [0., 0., 0., ..., 0., 0., 0.],\n",
       "       [0., 0., 0., ..., 0., 0., 0.]])"
      ]
     },
     "execution_count": 6,
     "metadata": {},
     "output_type": "execute_result"
    }
   ],
   "source": [
    "import numpy as np\n",
    "\n",
    "tfidf_matrix = tfidf_vectorizer.fit_transform(hr_data).toarray()\n",
    "tfidf_matrix"
   ]
  },
  {
   "cell_type": "code",
   "execution_count": 7,
   "metadata": {},
   "outputs": [
    {
     "data": {
      "text/html": [
       "<div>\n",
       "<style scoped>\n",
       "    .dataframe tbody tr th:only-of-type {\n",
       "        vertical-align: middle;\n",
       "    }\n",
       "\n",
       "    .dataframe tbody tr th {\n",
       "        vertical-align: top;\n",
       "    }\n",
       "\n",
       "    .dataframe thead th {\n",
       "        text-align: right;\n",
       "    }\n",
       "</style>\n",
       "<table border=\"1\" class=\"dataframe\">\n",
       "  <thead>\n",
       "    <tr style=\"text-align: right;\">\n",
       "      <th></th>\n",
       "      <th>aaaaaaah</th>\n",
       "      <th>aaargh</th>\n",
       "      <th>aah</th>\n",
       "      <th>aahhhh</th>\n",
       "      <th>aargh</th>\n",
       "      <th>aaron</th>\n",
       "      <th>aaw</th>\n",
       "      <th>abandon</th>\n",
       "      <th>abandonded</th>\n",
       "      <th>abandoned</th>\n",
       "      <th>...</th>\n",
       "      <th>zones</th>\n",
       "      <th>zoo</th>\n",
       "      <th>zoom</th>\n",
       "      <th>zooming</th>\n",
       "      <th>zooms</th>\n",
       "      <th>zsg</th>\n",
       "      <th>zucker</th>\n",
       "      <th>zulu</th>\n",
       "      <th>zzzzzz</th>\n",
       "      <th>zzzzzzzzzzz</th>\n",
       "    </tr>\n",
       "  </thead>\n",
       "  <tbody>\n",
       "    <tr>\n",
       "      <th>review</th>\n",
       "      <td>0.0</td>\n",
       "      <td>0.0</td>\n",
       "      <td>0.0</td>\n",
       "      <td>0.0</td>\n",
       "      <td>0.0</td>\n",
       "      <td>0.0</td>\n",
       "      <td>0.0</td>\n",
       "      <td>0.0</td>\n",
       "      <td>0.0</td>\n",
       "      <td>0.0</td>\n",
       "      <td>...</td>\n",
       "      <td>0.0</td>\n",
       "      <td>0.0</td>\n",
       "      <td>0.0</td>\n",
       "      <td>0.0</td>\n",
       "      <td>0.0</td>\n",
       "      <td>0.0</td>\n",
       "      <td>0.0</td>\n",
       "      <td>0.0</td>\n",
       "      <td>0.0</td>\n",
       "      <td>0.0</td>\n",
       "    </tr>\n",
       "    <tr>\n",
       "      <th>want write comment shawshank redemption sure almost everything possibly said said like people wrote comments profoundly moved simple eloquent depiction hope friendship redemption seen effects strongly kill mockingbird leave feeling cleaner watched intend see like prison normally watch work branch library day checking shawshank redemption older patrons said whenever feel depressed check watch always makes feel better thought strange day nothing except things absolutely watch circumstance things seen times already remembered said watched watched times since gets better every showing action special effects men prison uniforms talking shawshank redemption kill mockingbird best seen judge technical merits care read citizen kane godfather best made may best technique influential motion pictures made best best ones touch soul takes like shawshank redemption touch soul</th>\n",
       "      <td>0.0</td>\n",
       "      <td>0.0</td>\n",
       "      <td>0.0</td>\n",
       "      <td>0.0</td>\n",
       "      <td>0.0</td>\n",
       "      <td>0.0</td>\n",
       "      <td>0.0</td>\n",
       "      <td>0.0</td>\n",
       "      <td>0.0</td>\n",
       "      <td>0.0</td>\n",
       "      <td>...</td>\n",
       "      <td>0.0</td>\n",
       "      <td>0.0</td>\n",
       "      <td>0.0</td>\n",
       "      <td>0.0</td>\n",
       "      <td>0.0</td>\n",
       "      <td>0.0</td>\n",
       "      <td>0.0</td>\n",
       "      <td>0.0</td>\n",
       "      <td>0.0</td>\n",
       "      <td>0.0</td>\n",
       "    </tr>\n",
       "    <tr>\n",
       "      <th>never seen amazing since saw shawshank redemption shawshank encompasses friendships hardships hopes dreams great moves gives hope though circumstances characters viewers quite different feel far removed characters going simple yet everlasting message frank darabont need put kind outlandish special effects get love narration acting win seven oscars beyond let sway see let ranking imdb top list sway let friends recommendation sway set aside little two hours tonight rent finally understand everyone talking understand favorite</th>\n",
       "      <td>0.0</td>\n",
       "      <td>0.0</td>\n",
       "      <td>0.0</td>\n",
       "      <td>0.0</td>\n",
       "      <td>0.0</td>\n",
       "      <td>0.0</td>\n",
       "      <td>0.0</td>\n",
       "      <td>0.0</td>\n",
       "      <td>0.0</td>\n",
       "      <td>0.0</td>\n",
       "      <td>...</td>\n",
       "      <td>0.0</td>\n",
       "      <td>0.0</td>\n",
       "      <td>0.0</td>\n",
       "      <td>0.0</td>\n",
       "      <td>0.0</td>\n",
       "      <td>0.0</td>\n",
       "      <td>0.0</td>\n",
       "      <td>0.0</td>\n",
       "      <td>0.0</td>\n",
       "      <td>0.0</td>\n",
       "    </tr>\n",
       "    <tr>\n",
       "      <th>ordinary hollywood flick great deep message foundation kept built foundation hope message acting phenomenal tim robbins gave greatest performances inspiring intelligent positive performance made smile robbins plays andy dufresne wrongfully convicted murdering wife lover gets life sentences yet never gives hope becomes friends ellis boyd red redding played morgan freeman freeman gives finest performance career unlike robbins lost hope deep regret crime committed deflecting pain away trying feel anything friendship andy learns without hopes dreams nothing andy becomes friends rest red group james whitmore gave great performance brooks halten gets prison parole words red institutionalized directing frank darabont magnificent kept great steady pace along writing great cinematography portrayed prison life horrifying terms physical pain stress pain wares mentally inmates deserve second chance whatever listen people say overrated inspiring greatest everything possibly want</th>\n",
       "      <td>0.0</td>\n",
       "      <td>0.0</td>\n",
       "      <td>0.0</td>\n",
       "      <td>0.0</td>\n",
       "      <td>0.0</td>\n",
       "      <td>0.0</td>\n",
       "      <td>0.0</td>\n",
       "      <td>0.0</td>\n",
       "      <td>0.0</td>\n",
       "      <td>0.0</td>\n",
       "      <td>...</td>\n",
       "      <td>0.0</td>\n",
       "      <td>0.0</td>\n",
       "      <td>0.0</td>\n",
       "      <td>0.0</td>\n",
       "      <td>0.0</td>\n",
       "      <td>0.0</td>\n",
       "      <td>0.0</td>\n",
       "      <td>0.0</td>\n",
       "      <td>0.0</td>\n",
       "      <td>0.0</td>\n",
       "    </tr>\n",
       "    <tr>\n",
       "      <th>hollywood usually creating things entertainment purposes create art create something nature director must approach meticulous manner due delicacy process daunting task requires extremely capable artist undeniable managerial capacity acutely developed awareness element art prominent music visuals script acting elements equally important must succeed independently yet still form harmonious union mixture determines fate artist opus though already well known amongst colleagues notable skills writing directing frank darabont emerges feature directorial debut shawshank redemption proving already master craft darabont managed create recognizable independent releases history hollywood shawshank redemption defines genre defies odds compels emotions brings era artistically influential back hollywood story begins trial young banker andy dufrense victimized circumstantial evidence resulting conviction murder wife lover quick conviction andy finds serving life sentence shawshank prison hope parole exists prison appearance keeping mind free drab walls around ability results gaining respect fellow inmates ellis redding ellis commonly referred red finds gainful use entrepreneurial spirit within drab walls shawshank dealing contraband commodities rare confines prison andy demeanor undeniable sense hope causes red take deeper look world around andy proves red inmates conventional walls shawshank prison convention find home lifestyle creating firm foundation meticulously chiseled screenplay paved success frank darabont outdoes phenomenal adaptation stephen king equally noteworthy novella rita hayworth shawshank redemption novella king demonstrates break free genre dominates still create marvelous piece modern literature though mirrors novella ways darabont illustrates focused objective improving upon areas novella came short resulting best book transitions maintaining poetic moving dialogue novella darabont proves score generate great deal emotional response audience dialogue employs cunning thomas newman son legendary hollywood composer alfred newman darabont shows recognition needs employing newman makes gentle piano chords whisper softly viewer part scripted dialogue newman lends individualism tends drive towards unique realm score composition effort shawshank unnoticed score received oscar nomination unique independent newman score never intrudes concentration distracts work vast array talented scene designers costume designers composers cinematographers various hollywood artists cast shawshank redemption strong foundation work marvelous cast dazzle convincing performances witness tim robbins morgan freeman shine andy red respectively true spectacle acting lies within plethora amazing supporting actors easily disappear roles noticeable veteran star james whitmore portrays elderly brooks hatlen brooks man incarcerated unmentioned crime long finds attached shawshank daily life lead actors show true dedication art focused purpose motivations creating convincing setting never caters anything unbelievable aesthetic touches attention cinematic detail beautiful part lies within thematic material focus human desires abstract concepts like hope freedom themes concern things human spirit undoubtedly yearns seem intricately woven plot easily draws audience story though full hardened criminals heart men display basic human emotions deliver quotable lines date like great novel manages succeed greater things simply entertaining audience darabont tells story masterfully illustrating principles inspiring audience think leaves poignant powerful message hope redemption something seek manages redeem hollywood eyes people feared long lost dark sea clich predictability darabont shows artists still work hollywood studios production facilities artists show capability produce art real art inspires look deeper aspects life world around shawshank redemption delivers needed breath fresh air anyone realizes capability proves masters craft still live earth still bless timeless masterpieces never forget</th>\n",
       "      <td>0.0</td>\n",
       "      <td>0.0</td>\n",
       "      <td>0.0</td>\n",
       "      <td>0.0</td>\n",
       "      <td>0.0</td>\n",
       "      <td>0.0</td>\n",
       "      <td>0.0</td>\n",
       "      <td>0.0</td>\n",
       "      <td>0.0</td>\n",
       "      <td>0.0</td>\n",
       "      <td>...</td>\n",
       "      <td>0.0</td>\n",
       "      <td>0.0</td>\n",
       "      <td>0.0</td>\n",
       "      <td>0.0</td>\n",
       "      <td>0.0</td>\n",
       "      <td>0.0</td>\n",
       "      <td>0.0</td>\n",
       "      <td>0.0</td>\n",
       "      <td>0.0</td>\n",
       "      <td>0.0</td>\n",
       "    </tr>\n",
       "  </tbody>\n",
       "</table>\n",
       "<p>5 rows × 18556 columns</p>\n",
       "</div>"
      ],
      "text/plain": [
       "                                                    aaaaaaah  aaargh  aah  \\\n",
       "review                                                   0.0     0.0  0.0   \n",
       "want write comment shawshank redemption sure al...       0.0     0.0  0.0   \n",
       "never seen amazing since saw shawshank redempti...       0.0     0.0  0.0   \n",
       "ordinary hollywood flick great deep message fou...       0.0     0.0  0.0   \n",
       "hollywood usually creating things entertainment...       0.0     0.0  0.0   \n",
       "\n",
       "                                                    aahhhh  aargh  aaron  aaw  \\\n",
       "review                                                 0.0    0.0    0.0  0.0   \n",
       "want write comment shawshank redemption sure al...     0.0    0.0    0.0  0.0   \n",
       "never seen amazing since saw shawshank redempti...     0.0    0.0    0.0  0.0   \n",
       "ordinary hollywood flick great deep message fou...     0.0    0.0    0.0  0.0   \n",
       "hollywood usually creating things entertainment...     0.0    0.0    0.0  0.0   \n",
       "\n",
       "                                                    abandon  abandonded  \\\n",
       "review                                                  0.0         0.0   \n",
       "want write comment shawshank redemption sure al...      0.0         0.0   \n",
       "never seen amazing since saw shawshank redempti...      0.0         0.0   \n",
       "ordinary hollywood flick great deep message fou...      0.0         0.0   \n",
       "hollywood usually creating things entertainment...      0.0         0.0   \n",
       "\n",
       "                                                    abandoned     ...       \\\n",
       "review                                                    0.0     ...        \n",
       "want write comment shawshank redemption sure al...        0.0     ...        \n",
       "never seen amazing since saw shawshank redempti...        0.0     ...        \n",
       "ordinary hollywood flick great deep message fou...        0.0     ...        \n",
       "hollywood usually creating things entertainment...        0.0     ...        \n",
       "\n",
       "                                                    zones  zoo  zoom  zooming  \\\n",
       "review                                                0.0  0.0   0.0      0.0   \n",
       "want write comment shawshank redemption sure al...    0.0  0.0   0.0      0.0   \n",
       "never seen amazing since saw shawshank redempti...    0.0  0.0   0.0      0.0   \n",
       "ordinary hollywood flick great deep message fou...    0.0  0.0   0.0      0.0   \n",
       "hollywood usually creating things entertainment...    0.0  0.0   0.0      0.0   \n",
       "\n",
       "                                                    zooms  zsg  zucker  zulu  \\\n",
       "review                                                0.0  0.0     0.0   0.0   \n",
       "want write comment shawshank redemption sure al...    0.0  0.0     0.0   0.0   \n",
       "never seen amazing since saw shawshank redempti...    0.0  0.0     0.0   0.0   \n",
       "ordinary hollywood flick great deep message fou...    0.0  0.0     0.0   0.0   \n",
       "hollywood usually creating things entertainment...    0.0  0.0     0.0   0.0   \n",
       "\n",
       "                                                    zzzzzz  zzzzzzzzzzz  \n",
       "review                                                 0.0          0.0  \n",
       "want write comment shawshank redemption sure al...     0.0          0.0  \n",
       "never seen amazing since saw shawshank redempti...     0.0          0.0  \n",
       "ordinary hollywood flick great deep message fou...     0.0          0.0  \n",
       "hollywood usually creating things entertainment...     0.0          0.0  \n",
       "\n",
       "[5 rows x 18556 columns]"
      ]
     },
     "execution_count": 7,
     "metadata": {},
     "output_type": "execute_result"
    }
   ],
   "source": [
    "pd.DataFrame(tfidf_matrix,index=hr_data,columns=tfidf_vectorizer.get_feature_names()).head()"
   ]
  },
  {
   "cell_type": "markdown",
   "metadata": {},
   "source": [
    "## Section 3: Training and Building Models"
   ]
  },
  {
   "cell_type": "markdown",
   "metadata": {},
   "source": [
    "### Section 3.1: Training our model"
   ]
  },
  {
   "cell_type": "code",
   "execution_count": 8,
   "metadata": {},
   "outputs": [
    {
     "data": {
      "text/plain": [
       "(1313, 1313, 329, 329)"
      ]
     },
     "execution_count": 8,
     "metadata": {},
     "output_type": "execute_result"
    }
   ],
   "source": [
    "x_train, x_test, y_train, y_test = train_test_split(hr_data, hr_labels, test_size=0.2, random_state=0)\n",
    "len(x_train), len(y_train), len(x_test), len(y_test)"
   ]
  },
  {
   "cell_type": "code",
   "execution_count": 9,
   "metadata": {
    "scrolled": true
   },
   "outputs": [
    {
     "name": "stdout",
     "output_type": "stream",
     "text": [
      "  (0, 10125)\t0.09050034132838855\n",
      "  (0, 265)\t0.49496662707714634\n",
      "  (0, 13097)\t0.17339214915151815\n",
      "  (0, 11624)\t0.19124260246422098\n",
      "  (0, 12969)\t0.18686886172799838\n",
      "  (0, 15496)\t0.14054423608560954\n",
      "  (0, 13280)\t0.1670210465951188\n",
      "  (0, 15268)\t0.14521039960389884\n",
      "  (0, 11459)\t0.22963286022587034\n",
      "  (0, 1274)\t0.2090930557769238\n",
      "  (0, 1180)\t0.14054423608560954\n",
      "  (0, 8196)\t0.12711123123031845\n",
      "  (0, 9571)\t0.19904020180036883\n",
      "  (0, 14058)\t0.18487149990782162\n",
      "  (0, 4657)\t0.18487149990782162\n",
      "  (0, 5659)\t0.13691712786428978\n",
      "  (0, 404)\t0.11269557199518761\n",
      "  (0, 5641)\t0.1046039093371481\n",
      "  (0, 10744)\t0.181189748487666\n",
      "  (0, 14205)\t0.22963286022587034\n",
      "  (0, 15880)\t0.17785919920495855\n",
      "  (0, 8190)\t0.12258475204939935\n",
      "  (0, 11906)\t0.1763058626542425\n",
      "  (0, 12150)\t0.1962431639270234\n",
      "  (0, 2026)\t0.13363135029627188\n",
      "  :\t:\n",
      "  (1, 6695)\t0.08074556539310425\n",
      "  (1, 2491)\t0.10843794541213853\n",
      "  (1, 10241)\t0.13307608863821835\n",
      "  (1, 14001)\t0.10634462715052476\n",
      "  (1, 16691)\t0.25173978740178304\n",
      "  (1, 14182)\t0.11488503171216308\n",
      "  (1, 4751)\t0.11292341252216295\n",
      "  (1, 2390)\t0.12586989370089152\n",
      "  (1, 3844)\t0.11679116177001152\n",
      "  (1, 7398)\t0.20246350094962337\n",
      "  (1, 3371)\t0.2271016441757032\n",
      "  (1, 5599)\t0.09215301854393168\n",
      "  (1, 13094)\t0.07417417591960404\n",
      "  (1, 9746)\t0.060308680380525\n",
      "  (1, 16069)\t0.08891267886177176\n",
      "  (1, 11957)\t0.08325290785048406\n",
      "  (1, 2301)\t0.10277817440085081\n",
      "  (1, 14806)\t0.08494682360660484\n",
      "  (1, 9968)\t0.11679116177001152\n",
      "  (1, 11789)\t0.12075701702517844\n",
      "  (1, 3777)\t0.13307608863821835\n",
      "  (1, 1894)\t0.11679116177001152\n",
      "  (1, 4943)\t0.06602407792712803\n",
      "  (1, 8972)\t0.054975022436751335\n",
      "  (1, 10978)\t0.040882426139301986\n",
      "+++++++++++++++++++++++++++++++++++++++++\n",
      "  (0, 16887)\t0.2604313732651027\n",
      "  (0, 10986)\t0.3916009754551482\n",
      "  (0, 10928)\t0.41645286921417235\n",
      "  (0, 7777)\t0.45893746220669085\n",
      "  (0, 2837)\t0.2889990902366168\n",
      "  (0, 2007)\t0.37396827622165385\n",
      "  (0, 995)\t0.17760228588171995\n",
      "  (0, 99)\t0.37396827622165385\n",
      "  (1, 10921)\t0.5849216561224583\n",
      "  (1, 5091)\t0.8110897953981178\n"
     ]
    }
   ],
   "source": [
    "X_train = tfidf_vectorizer.fit_transform(x_train)\n",
    "X_test = tfidf_vectorizer.transform(x_test)\n",
    "print X_train[:2]\n",
    "print \"+++++++++++++++++++++++++++++++++++++++++\"\n",
    "print X_test[:2]"
   ]
  },
  {
   "cell_type": "markdown",
   "metadata": {},
   "source": [
    "### Section 3.2: Naive Bayes Classifier Pipeline"
   ]
  },
  {
   "cell_type": "code",
   "execution_count": 10,
   "metadata": {},
   "outputs": [
    {
     "data": {
      "text/plain": [
       "0.8936170212765957"
      ]
     },
     "execution_count": 10,
     "metadata": {},
     "output_type": "execute_result"
    }
   ],
   "source": [
    "# a complete pipeline\n",
    "\n",
    "nb_pipeline = Pipeline([('tfidf', TfidfVectorizer(decode_error ='ignore')), ('clf', MultinomialNB())])\n",
    "nb_pipeline = nb_pipeline.fit(x_train, y_train)\n",
    "predicted = nb_pipeline.predict(x_test)\n",
    "np.mean(predicted == y_test)  "
   ]
  },
  {
   "cell_type": "code",
   "execution_count": 11,
   "metadata": {},
   "outputs": [
    {
     "name": "stdout",
     "output_type": "stream",
     "text": [
      "\n",
      " overall accuracy:\n",
      "0.8936170212765957\n",
      "\n",
      " confusion_matrix:\n",
      "[[288   0]\n",
      " [ 35   6]]\n",
      "\n",
      " Here is the classification report:\n",
      "             precision    recall  f1-score   support\n",
      "\n",
      "          0       0.89      1.00      0.94       288\n",
      "          1       1.00      0.15      0.26        41\n",
      "\n",
      "avg / total       0.91      0.89      0.86       329\n",
      "\n"
     ]
    }
   ],
   "source": [
    "print '\\n overall accuracy:'\n",
    "print metrics.accuracy_score(y_test, predicted)\n",
    "\n",
    "print '\\n confusion_matrix:'\n",
    "print metrics.confusion_matrix(y_test, predicted)\n",
    "\n",
    "print '\\n Here is the classification report:'\n",
    "print metrics.classification_report(y_test, predicted)"
   ]
  },
  {
   "cell_type": "code",
   "execution_count": 12,
   "metadata": {},
   "outputs": [
    {
     "data": {
      "image/png": "[encoded data removed]",
      "text/plain": [
       "<Figure size 432x288 with 2 Axes>"
      ]
     },
     "metadata": {
      "needs_background": "light"
     },
     "output_type": "display_data"
    }
   ],
   "source": [
    "skplt.metrics.plot_confusion_matrix(y_true=np.array(y_test), y_pred=predicted)\n",
    "plt.show()"
   ]
  },
  {
   "cell_type": "markdown",
   "metadata": {},
   "source": [
    "### Section 3.3: K-NN Classifier"
   ]
  },
  {
   "cell_type": "code",
   "execution_count": 13,
   "metadata": {},
   "outputs": [
    {
     "data": {
      "text/plain": [
       "0.9817629179331308"
      ]
     },
     "execution_count": 13,
     "metadata": {},
     "output_type": "execute_result"
    }
   ],
   "source": [
    "### kNeighbors Classifier (kNN)\n",
    "from sklearn.neighbors import KNeighborsClassifier\n",
    "\n",
    "\n",
    "knn_pipeline = Pipeline([('tfidf', TfidfVectorizer(decode_error ='ignore')), ('clf', KNeighborsClassifier())])\n",
    "knn_pipeline = knn_pipeline.fit(x_train, y_train)\n",
    "predicted = knn_pipeline.predict(x_test)\n",
    "np.mean(predicted == y_test) "
   ]
  },
  {
   "cell_type": "code",
   "execution_count": 14,
   "metadata": {},
   "outputs": [
    {
     "name": "stdout",
     "output_type": "stream",
     "text": [
      "\n",
      " overall accuracy:\n",
      "0.9817629179331308\n",
      "\n",
      " confusion_matrix:\n",
      "[[287   1]\n",
      " [  5  36]]\n",
      "\n",
      " Here is the classification report:\n",
      "             precision    recall  f1-score   support\n",
      "\n",
      "          0       0.98      1.00      0.99       288\n",
      "          1       0.97      0.88      0.92        41\n",
      "\n",
      "avg / total       0.98      0.98      0.98       329\n",
      "\n"
     ]
    }
   ],
   "source": [
    "print '\\n overall accuracy:'\n",
    "print metrics.accuracy_score(y_test, predicted)\n",
    "\n",
    "print '\\n confusion_matrix:'\n",
    "print metrics.confusion_matrix(y_test, predicted)\n",
    "\n",
    "print '\\n Here is the classification report:'\n",
    "print metrics.classification_report(y_test, predicted)"
   ]
  },
  {
   "cell_type": "code",
   "execution_count": 15,
   "metadata": {},
   "outputs": [
    {
     "data": {
      "image/png": "[encoded data removed]",
      "text/plain": [
       "<Figure size 432x288 with 2 Axes>"
      ]
     },
     "metadata": {
      "needs_background": "light"
     },
     "output_type": "display_data"
    }
   ],
   "source": [
    "skplt.metrics.plot_confusion_matrix(y_true=np.array(y_test), y_pred=predicted)\n",
    "plt.show()"
   ]
  },
  {
   "cell_type": "markdown",
   "metadata": {},
   "source": [
    "### Section 3.4: Support Vector Classifier"
   ]
  },
  {
   "cell_type": "code",
   "execution_count": 16,
   "metadata": {},
   "outputs": [
    {
     "data": {
      "text/plain": [
       "0.9908814589665653"
      ]
     },
     "execution_count": 16,
     "metadata": {},
     "output_type": "execute_result"
    }
   ],
   "source": [
    "### Support Vector Classifier\n",
    "\n",
    "svm_pipeline = Pipeline([('tfidf', TfidfVectorizer(decode_error ='ignore')), ('clf', SVC(kernel='linear', probability=True))])\n",
    "svm_pipeline = svm_pipeline.fit(x_train, y_train)\n",
    "predicted = svm_pipeline.predict(x_test)\n",
    "np.mean(predicted == y_test)"
   ]
  },
  {
   "cell_type": "code",
   "execution_count": 17,
   "metadata": {},
   "outputs": [
    {
     "name": "stdout",
     "output_type": "stream",
     "text": [
      "\n",
      " overall accuracy:\n",
      "0.9908814589665653\n",
      "\n",
      " confusion_matrix:\n",
      "[[288   0]\n",
      " [  3  38]]\n",
      "\n",
      " Here is the classification report:\n",
      "             precision    recall  f1-score   support\n",
      "\n",
      "          0       0.99      1.00      0.99       288\n",
      "          1       1.00      0.93      0.96        41\n",
      "\n",
      "avg / total       0.99      0.99      0.99       329\n",
      "\n"
     ]
    }
   ],
   "source": [
    "print '\\n overall accuracy:'\n",
    "print metrics.accuracy_score(y_test, predicted)\n",
    "\n",
    "print '\\n confusion_matrix:'\n",
    "print metrics.confusion_matrix(y_test, predicted)\n",
    "\n",
    "print '\\n Here is the classification report:'\n",
    "print metrics.classification_report(y_test, predicted)"
   ]
  },
  {
   "cell_type": "code",
   "execution_count": 18,
   "metadata": {},
   "outputs": [
    {
     "data": {
      "image/png": "[encoded data removed]",
      "text/plain": [
       "<Figure size 432x288 with 2 Axes>"
      ]
     },
     "metadata": {
      "needs_background": "light"
     },
     "output_type": "display_data"
    }
   ],
   "source": [
    "skplt.metrics.plot_confusion_matrix(y_true=np.array(y_test), y_pred=predicted)\n",
    "plt.show()"
   ]
  },
  {
   "cell_type": "markdown",
   "metadata": {},
   "source": [
    "#### Based on the above results, the Support Vector Classifier is the best model. It has the highest accuracy, best confusion matrix, and a high f1 score."
   ]
  },
  {
   "cell_type": "markdown",
   "metadata": {},
   "source": [
    "## Section 4: Model Deployment"
   ]
  },
  {
   "cell_type": "markdown",
   "metadata": {},
   "source": [
    "### Section 4.1: Getting new unlabeled HR/Non HR data"
   ]
  },
  {
   "cell_type": "code",
   "execution_count": 23,
   "metadata": {},
   "outputs": [],
   "source": [
    "unlabeled_data = ['OSHA introduces new safety regulations into the workplace',\n",
    "                  'The Kansas City Chiefs lose to the New England Patriots on a last second field goal',\n",
    "                 'Workers compensation claims rise from last year',\n",
    "                 'West Virginia Teachers Unions successfully strike for higher wages',\n",
    "                 'Democrats are likely going to win back the House of Representatives',\n",
    "                 'Lawmakers discuss increasing the minimum wage, what this means for your business',\n",
    "                 'OSHA orders burlington northern to pay whistle blower',\n",
    "                 'Climate Change might cause this winter to be warmer and shorter than usual',\n",
    "                 'Python overtakes R as the most popular programming language for data science',\n",
    "                 'Elizabeth Warren considering a 2020 presidential run',\n",
    "                 'The BLS says that fewer companies are hiring in 2018',\n",
    "                 'New law regarding unemployment benefits might cost companies more money',\n",
    "                 'Some Kansas lawmakers propose bill that would legalize marijuana']"
   ]
  },
  {
   "cell_type": "markdown",
   "metadata": {},
   "source": [
    "### Section 4.2: Deploying the SVC"
   ]
  },
  {
   "cell_type": "code",
   "execution_count": 24,
   "metadata": {},
   "outputs": [
    {
     "data": {
      "text/plain": [
       "0.9908814589665653"
      ]
     },
     "execution_count": 24,
     "metadata": {},
     "output_type": "execute_result"
    }
   ],
   "source": [
    "svm = SVC(kernel='linear',probability=True).fit(X_train, y_train)\n",
    "\n",
    "predicted = svm.predict(X_test)\n",
    "np.mean(predicted == y_test)  "
   ]
  },
  {
   "cell_type": "code",
   "execution_count": 25,
   "metadata": {},
   "outputs": [
    {
     "name": "stdout",
     "output_type": "stream",
     "text": [
      "'OSHA introduces new safety regulations into the workplace' => 1\n",
      "'The Kansas City Chiefs lose to the New England Patriots on a last second field goal' => 1\n",
      "'Workers compensation claims rise from last year' => 1\n",
      "'West Virginia Teachers Unions successfully strike for higher wages' => 1\n",
      "'Democrats are likely going to win back the House of Representatives' => 0\n",
      "'Lawmakers discuss increasing the minimum wage, what this means for your business' => 1\n",
      "'OSHA orders burlington northern to pay whistle blower' => 1\n",
      "'Climate Change might cause this winter to be warmer and shorter than usual' => 0\n",
      "'Python overtakes R as the most popular programming language for data science' => 1\n",
      "'Elizabeth Warren considering a 2020 presidential run' => 0\n",
      "'The BLS says that fewer companies are hiring in 2018' => 1\n",
      "'New law regarding unemployment benefits might cost companies more money' => 1\n",
      "'Some Kansas lawmakers propose bill that would legalize marijuana' => 1\n"
     ]
    }
   ],
   "source": [
    "unlabeled_tfidf = tfidf_vectorizer.transform(unlabeled_data)\n",
    "\n",
    "predicted = svm.predict(unlabeled_tfidf)\n",
    "\n",
    "for doc, category in zip(unlabeled_data, predicted):\n",
    "    print('%r => %s' % (doc, category))"
   ]
  },
  {
   "cell_type": "code",
   "execution_count": 22,
   "metadata": {},
   "outputs": [
    {
     "name": "stdout",
     "output_type": "stream",
     "text": [
      "'OSHA introduces new safety regulations into the workplace' => [0.00416241 0.9929901  0.00284749]\n",
      "'The Kansas City Chiefs lose to the New England Patriots' => [0.03496845 0.9623258  0.00270574]\n",
      "'Workers compensation claims rise from last year' => [4.90583374e-04 9.88184389e-01 1.13250273e-02]\n",
      "'West Virginia Teachers Unions successfully strike for higher wages' => [3.98925990e-05 9.96802940e-01 3.15716748e-03]\n",
      "'Democrats are likely going to win back the House of Representatives' => [0.27761053 0.72042254 0.00196693]\n",
      "'Lawmakers discuss increasing the minimum wage, what this means for your business' => [6.51608537e-05 9.95863857e-01 4.07098237e-03]\n",
      "'OSHA orders burlington northern to pay whistle blower' => [4.98330083e-05 9.96393184e-01 3.55698325e-03]\n",
      "'Climate Change might cause this winter to be warmer and shorter than usual' => [0.22288369 0.7753352  0.00178111]\n",
      "'Python overtakes R as the most popular language for data science' => [0.00215441 0.994993   0.00285259]\n",
      "'Elizabeth Warren considering a 2020 presidential run' => [0.1257324  0.87228711 0.00198049]\n",
      "'The BLS says that fewer companies are hiring in 2018' => [3.85216816e-05 9.96836762e-01 3.12471653e-03]\n",
      "'New law regarding unemployment benefits might cost companies more money' => [6.55559970e-05 9.95850211e-01 4.08423341e-03]\n",
      "'Some Kansas lawmakers propose bill that would legalize marijuana' => [3.92766922e-05 9.96809446e-01 3.15127681e-03]\n"
     ]
    }
   ],
   "source": [
    "#Finding the predicted probabilities\n",
    "\n",
    "predicted_prob = svm.predict_proba(unlabeled_tfidf)\n",
    "\n",
    "for doc, category in zip(unlabeled_data, predicted_prob):\n",
    "    print('%r => %s' % (doc, category))"
   ]
  },
  {
   "cell_type": "markdown",
   "metadata": {},
   "source": [
    "## Section 5: Story Telling"
   ]
  },
  {
   "cell_type": "markdown",
   "metadata": {},
   "source": [
    "#### So based on our analysis, we tested 3 different kinds of classification models on our HR data to see which one can best and most accurately classify news articles as being a HR article, or not a HR article. Based on the accuracy and F-1 scores of each model, I would say that the support vector classifier model was the best model out of the 3. It was able to correctly classify news articles more often than the other two models. What this means for managers is that if this tool were deployed, it would correctly classify news articles as HR or not about 99% of the time, meaning that if managers only wanted to see news articles about HR related topics, they would almost always only get articles about HR. The model does have its limitations however, because we didnt have time to collect a sufficient amount of data to really train this model sufficiently. The model will undoubtedly classify things that are clearly not HR news articles as being HR news every once in a while."
   ]
  },
  {
   "cell_type": "markdown",
   "metadata": {},
   "source": [
    "## Section 6: Building a Neural Network Multi Layer Perceptron Classifier"
   ]
  },
  {
   "cell_type": "code",
   "execution_count": 27,
   "metadata": {},
   "outputs": [],
   "source": [
    "from sklearn.neural_network import MLPClassifier"
   ]
  },
  {
   "cell_type": "code",
   "execution_count": 28,
   "metadata": {},
   "outputs": [],
   "source": [
    "mlp = MLPClassifier(hidden_layer_sizes=(100, ), activation='relu', solver='adam', alpha=0.0001)"
   ]
  },
  {
   "cell_type": "code",
   "execution_count": 29,
   "metadata": {},
   "outputs": [
    {
     "data": {
      "text/plain": [
       "MLPClassifier(activation='relu', alpha=0.0001, batch_size='auto', beta_1=0.9,\n",
       "       beta_2=0.999, early_stopping=False, epsilon=1e-08,\n",
       "       hidden_layer_sizes=(100,), learning_rate='constant',\n",
       "       learning_rate_init=0.001, max_iter=200, momentum=0.9,\n",
       "       nesterovs_momentum=True, power_t=0.5, random_state=None,\n",
       "       shuffle=True, solver='adam', tol=0.0001, validation_fraction=0.1,\n",
       "       verbose=False, warm_start=False)"
      ]
     },
     "execution_count": 29,
     "metadata": {},
     "output_type": "execute_result"
    }
   ],
   "source": [
    "mlp.fit(X_train,y_train)"
   ]
  },
  {
   "cell_type": "code",
   "execution_count": 30,
   "metadata": {},
   "outputs": [
    {
     "name": "stdout",
     "output_type": "stream",
     "text": [
      "[[288   0]\n",
      " [  2  39]]\n"
     ]
    }
   ],
   "source": [
    "predictions = mlp.predict(X_test)\n",
    "print(confusion_matrix(y_test,predictions))"
   ]
  },
  {
   "cell_type": "code",
   "execution_count": 31,
   "metadata": {},
   "outputs": [
    {
     "name": "stdout",
     "output_type": "stream",
     "text": [
      "             precision    recall  f1-score   support\n",
      "\n",
      "          0       0.99      1.00      1.00       288\n",
      "          1       1.00      0.95      0.97        41\n",
      "\n",
      "avg / total       0.99      0.99      0.99       329\n",
      "\n"
     ]
    }
   ],
   "source": [
    "print(classification_report(y_test,predictions))"
   ]
  },
  {
   "cell_type": "markdown",
   "metadata": {},
   "source": [
    "##### On my honor as a student, I have neither given nor received any unauthorized aid on this academic work\n",
    "\n",
    "Eric VanMeerhaeghe"
   ]
  },
  {
   "cell_type": "code",
   "execution_count": null,
   "metadata": {},
   "outputs": [],
   "source": []
  }
 ],
 "metadata": {
  "kernelspec": {
   "display_name": "Python 3",
   "language": "python",
   "name": "python3"
  },
  "language_info": {
   "codemirror_mode": {
    "name": "ipython",
    "version": 3
   },
   "file_extension": ".py",
   "mimetype": "text/x-python",
   "name": "python",
   "nbconvert_exporter": "python",
   "pygments_lexer": "ipython3",
   "version": "3.7.0"
  }
 },
 "nbformat": 4,
 "nbformat_minor": 1
}
