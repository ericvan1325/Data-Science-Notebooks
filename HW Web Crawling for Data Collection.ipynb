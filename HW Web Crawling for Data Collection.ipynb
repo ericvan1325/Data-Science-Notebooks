{
 "cells": [
  {
   "cell_type": "markdown",
   "metadata": {},
   "source": [
    "# HW Web Crawling for Data Collection"
   ]
  },
  {
   "cell_type": "markdown",
   "metadata": {},
   "source": [
    "## Question 1: Business Questions\n",
    "\n",
    "        1. Does price impact rating/quality\n",
    "        2. Does brand impact rating/quality\n",
    "        3. Does number of ratings impact rating/quality"
   ]
  },
  {
   "cell_type": "markdown",
   "metadata": {},
   "source": [
    "## Question 2: Building the web crawler"
   ]
  },
  {
   "cell_type": "code",
   "execution_count": 79,
   "metadata": {},
   "outputs": [],
   "source": [
    "# importing required libraries\n",
    "import requests\n",
    "from lxml import html\n",
    "import csv\n",
    "import pandas as pd"
   ]
  },
  {
   "cell_type": "code",
   "execution_count": 80,
   "metadata": {},
   "outputs": [
    {
     "data": {
      "text/plain": [
       "6"
      ]
     },
     "execution_count": 80,
     "metadata": {},
     "output_type": "execute_result"
    }
   ],
   "source": [
    "# Testing to make sure my code works on the first page\n",
    "\n",
    "r = requests.get('http://webscraperio.us-east-1.elasticbeanstalk.com/test-sites/e-commerce/static/computers/laptops?page=1')\n",
    "data = html.fromstring(r.text)\n",
    "\n",
    "# Xpath\n",
    "alldata =[]\n",
    "\n",
    "for i in data.xpath(\"//div[@class='thumbnail']\"):     \n",
    "    url = i.xpath(\"div[@class='caption']/h4/a/@href\")  \n",
    "    brand = i.xpath(\"div[@class='caption']/h4/a/text()\")\n",
    "    price = i.xpath(\"div[@class='caption']/h4[@class='pull-right price']/text()\")\n",
    "    num_reviews = i.xpath(\"div[@class='ratings']/p[@class='pull-right']/text()\")\n",
    "    rating = i.xpath(\"div[@class='ratings']/p/@data-rating\")\n",
    "    alldata.append([url, brand, price, num_reviews, rating])\n",
    "    \n",
    "len(alldata)"
   ]
  },
  {
   "cell_type": "code",
   "execution_count": 81,
   "metadata": {},
   "outputs": [
    {
     "name": "stdout",
     "output_type": "stream",
     "text": [
      "[[['/test-sites/e-commerce/static/product/222'], ['Packard 255 G2'], ['$416.99'], ['2 reviews'], ['2']], [['/test-sites/e-commerce/static/product/223'], ['Aspire E1-510'], ['$306.99'], ['2 reviews'], ['3']], [['/test-sites/e-commerce/static/product/224'], ['ThinkPad T540p'], ['$1178.99'], ['2 reviews'], ['1']], [['/test-sites/e-commerce/static/product/225'], ['ProBook'], ['$739.99'], ['8 reviews'], ['4']], [['/test-sites/e-commerce/static/product/226'], ['ThinkPad X240'], ['$1311.99'], ['12 reviews'], ['3']], [['/test-sites/e-commerce/static/product/227'], ['Aspire E1-572G'], ['$581.99'], ['2 reviews'], ['1']]]\n"
     ]
    }
   ],
   "source": [
    "print alldata"
   ]
  },
  {
   "cell_type": "code",
   "execution_count": 82,
   "metadata": {},
   "outputs": [],
   "source": [
    "# Web crawling all 20 pages\n",
    "finaldata = []\n",
    "\n",
    "web = \"http://webscraperio.us-east-1.elasticbeanstalk.com/test-sites/e-commerce/static/computers/laptops?page=%s\" \n",
    "\n",
    "for page in range(1,21):\n",
    "    url = web % page   \n",
    "    data = html.fromstring(requests.get(url).text)\n",
    "    \n",
    "    # Xpath\n",
    "    for i in data.xpath(\"//div[@class='thumbnail']\"):     \n",
    "        url = i.xpath(\"div[@class='caption']/h4/a/@href\")  \n",
    "        brand = i.xpath(\"div[@class='caption']/h4/a/text()\")\n",
    "        price = i.xpath(\"div[@class='caption']/h4[@class='pull-right price']/text()\")\n",
    "        num_reviews = i.xpath(\"div[@class='ratings']/p[@class='pull-right']/text()\")\n",
    "        rating = i.xpath(\"div[@class='ratings']/p/@data-rating\")\n",
    "        finaldata.append([url, brand, price, num_reviews, rating])\n"
   ]
  },
  {
   "cell_type": "markdown",
   "metadata": {},
   "source": [
    "## Question 3: Data Cleaning and Preprocessing"
   ]
  },
  {
   "cell_type": "code",
   "execution_count": 83,
   "metadata": {},
   "outputs": [
    {
     "data": {
      "text/html": [
       "<div>\n",
       "<style scoped>\n",
       "    .dataframe tbody tr th:only-of-type {\n",
       "        vertical-align: middle;\n",
       "    }\n",
       "\n",
       "    .dataframe tbody tr th {\n",
       "        vertical-align: top;\n",
       "    }\n",
       "\n",
       "    .dataframe thead th {\n",
       "        text-align: right;\n",
       "    }\n",
       "</style>\n",
       "<table border=\"1\" class=\"dataframe\">\n",
       "  <thead>\n",
       "    <tr style=\"text-align: right;\">\n",
       "      <th></th>\n",
       "      <th>0</th>\n",
       "      <th>1</th>\n",
       "      <th>2</th>\n",
       "      <th>3</th>\n",
       "      <th>4</th>\n",
       "    </tr>\n",
       "  </thead>\n",
       "  <tbody>\n",
       "    <tr>\n",
       "      <th>0</th>\n",
       "      <td>[/test-sites/e-commerce/static/product/222]</td>\n",
       "      <td>[Packard 255 G2]</td>\n",
       "      <td>[$416.99]</td>\n",
       "      <td>[2 reviews]</td>\n",
       "      <td>[2]</td>\n",
       "    </tr>\n",
       "    <tr>\n",
       "      <th>1</th>\n",
       "      <td>[/test-sites/e-commerce/static/product/223]</td>\n",
       "      <td>[Aspire E1-510]</td>\n",
       "      <td>[$306.99]</td>\n",
       "      <td>[2 reviews]</td>\n",
       "      <td>[3]</td>\n",
       "    </tr>\n",
       "  </tbody>\n",
       "</table>\n",
       "</div>"
      ],
      "text/plain": [
       "                                             0                 1          2  \\\n",
       "0  [/test-sites/e-commerce/static/product/222]  [Packard 255 G2]  [$416.99]   \n",
       "1  [/test-sites/e-commerce/static/product/223]   [Aspire E1-510]  [$306.99]   \n",
       "\n",
       "             3    4  \n",
       "0  [2 reviews]  [2]  \n",
       "1  [2 reviews]  [3]  "
      ]
     },
     "execution_count": 83,
     "metadata": {},
     "output_type": "execute_result"
    }
   ],
   "source": [
    "# Converting to a dataframe\n",
    "\n",
    "df = pd.DataFrame(finaldata)\n",
    "df.head(2)"
   ]
  },
  {
   "cell_type": "code",
   "execution_count": 84,
   "metadata": {},
   "outputs": [
    {
     "data": {
      "text/html": [
       "<div>\n",
       "<style scoped>\n",
       "    .dataframe tbody tr th:only-of-type {\n",
       "        vertical-align: middle;\n",
       "    }\n",
       "\n",
       "    .dataframe tbody tr th {\n",
       "        vertical-align: top;\n",
       "    }\n",
       "\n",
       "    .dataframe thead th {\n",
       "        text-align: right;\n",
       "    }\n",
       "</style>\n",
       "<table border=\"1\" class=\"dataframe\">\n",
       "  <thead>\n",
       "    <tr style=\"text-align: right;\">\n",
       "      <th></th>\n",
       "      <th>0</th>\n",
       "      <th>1</th>\n",
       "      <th>2</th>\n",
       "      <th>3</th>\n",
       "      <th>4</th>\n",
       "    </tr>\n",
       "  </thead>\n",
       "  <tbody>\n",
       "    <tr>\n",
       "      <th>0</th>\n",
       "      <td>'/test-sites/e-commerce/static/product/222'</td>\n",
       "      <td>'Packard 255 G2'</td>\n",
       "      <td>'$416.99'</td>\n",
       "      <td>'2 reviews'</td>\n",
       "      <td>'2'</td>\n",
       "    </tr>\n",
       "    <tr>\n",
       "      <th>1</th>\n",
       "      <td>'/test-sites/e-commerce/static/product/223'</td>\n",
       "      <td>'Aspire E1-510'</td>\n",
       "      <td>'$306.99'</td>\n",
       "      <td>'2 reviews'</td>\n",
       "      <td>'3'</td>\n",
       "    </tr>\n",
       "  </tbody>\n",
       "</table>\n",
       "</div>"
      ],
      "text/plain": [
       "                                             0                 1          2  \\\n",
       "0  '/test-sites/e-commerce/static/product/222'  'Packard 255 G2'  '$416.99'   \n",
       "1  '/test-sites/e-commerce/static/product/223'   'Aspire E1-510'  '$306.99'   \n",
       "\n",
       "             3    4  \n",
       "0  '2 reviews'  '2'  \n",
       "1  '2 reviews'  '3'  "
      ]
     },
     "execution_count": 84,
     "metadata": {},
     "output_type": "execute_result"
    }
   ],
   "source": [
    "# remove brackets\n",
    "\n",
    "df[0] = df[0].astype(str).str.replace('\\[|\\]', '')\n",
    "df[1] = df[1].astype(str).str.replace('\\[|\\]', '')\n",
    "df[2] = df[2].astype(str).str.replace('\\[|\\]', '')\n",
    "df[3] = df[3].astype(str).str.replace('\\[|\\]', '')\n",
    "df[4] = df[4].astype(str).str.replace('\\[|\\]', '')\n",
    "df.head(2)"
   ]
  },
  {
   "cell_type": "code",
   "execution_count": 85,
   "metadata": {},
   "outputs": [
    {
     "data": {
      "text/html": [
       "<div>\n",
       "<style scoped>\n",
       "    .dataframe tbody tr th:only-of-type {\n",
       "        vertical-align: middle;\n",
       "    }\n",
       "\n",
       "    .dataframe tbody tr th {\n",
       "        vertical-align: top;\n",
       "    }\n",
       "\n",
       "    .dataframe thead th {\n",
       "        text-align: right;\n",
       "    }\n",
       "</style>\n",
       "<table border=\"1\" class=\"dataframe\">\n",
       "  <thead>\n",
       "    <tr style=\"text-align: right;\">\n",
       "      <th></th>\n",
       "      <th>0</th>\n",
       "      <th>1</th>\n",
       "      <th>2</th>\n",
       "      <th>3</th>\n",
       "      <th>4</th>\n",
       "    </tr>\n",
       "  </thead>\n",
       "  <tbody>\n",
       "    <tr>\n",
       "      <th>0</th>\n",
       "      <td>/test-sites/e-commerce/static/product/222</td>\n",
       "      <td>Packard 255 G2</td>\n",
       "      <td>$416.99</td>\n",
       "      <td>2 reviews</td>\n",
       "      <td>2</td>\n",
       "    </tr>\n",
       "    <tr>\n",
       "      <th>1</th>\n",
       "      <td>/test-sites/e-commerce/static/product/223</td>\n",
       "      <td>Aspire E1-510</td>\n",
       "      <td>$306.99</td>\n",
       "      <td>2 reviews</td>\n",
       "      <td>3</td>\n",
       "    </tr>\n",
       "  </tbody>\n",
       "</table>\n",
       "</div>"
      ],
      "text/plain": [
       "                                           0               1        2  \\\n",
       "0  /test-sites/e-commerce/static/product/222  Packard 255 G2  $416.99   \n",
       "1  /test-sites/e-commerce/static/product/223   Aspire E1-510  $306.99   \n",
       "\n",
       "           3  4  \n",
       "0  2 reviews  2  \n",
       "1  2 reviews  3  "
      ]
     },
     "execution_count": 85,
     "metadata": {},
     "output_type": "execute_result"
    }
   ],
   "source": [
    "# remove single quotation\n",
    "\n",
    "df[0] = df[0].str.replace(r'\\'','')\n",
    "df[1] = df[1].str.replace(r'\\'','')\n",
    "df[2] = df[2].str.replace(r'\\'','')\n",
    "df[3] = df[3].str.replace(r'\\'','')\n",
    "df[4] = df[4].str.replace(r'\\'','')\n",
    "df.head(2)"
   ]
  },
  {
   "cell_type": "code",
   "execution_count": 86,
   "metadata": {},
   "outputs": [
    {
     "data": {
      "text/html": [
       "<div>\n",
       "<style scoped>\n",
       "    .dataframe tbody tr th:only-of-type {\n",
       "        vertical-align: middle;\n",
       "    }\n",
       "\n",
       "    .dataframe tbody tr th {\n",
       "        vertical-align: top;\n",
       "    }\n",
       "\n",
       "    .dataframe thead th {\n",
       "        text-align: right;\n",
       "    }\n",
       "</style>\n",
       "<table border=\"1\" class=\"dataframe\">\n",
       "  <thead>\n",
       "    <tr style=\"text-align: right;\">\n",
       "      <th></th>\n",
       "      <th>url</th>\n",
       "      <th>brand</th>\n",
       "      <th>price</th>\n",
       "      <th>num_reviews</th>\n",
       "      <th>rating</th>\n",
       "    </tr>\n",
       "  </thead>\n",
       "  <tbody>\n",
       "    <tr>\n",
       "      <th>0</th>\n",
       "      <td>/test-sites/e-commerce/static/product/222</td>\n",
       "      <td>Packard 255 G2</td>\n",
       "      <td>$416.99</td>\n",
       "      <td>2 reviews</td>\n",
       "      <td>2</td>\n",
       "    </tr>\n",
       "    <tr>\n",
       "      <th>1</th>\n",
       "      <td>/test-sites/e-commerce/static/product/223</td>\n",
       "      <td>Aspire E1-510</td>\n",
       "      <td>$306.99</td>\n",
       "      <td>2 reviews</td>\n",
       "      <td>3</td>\n",
       "    </tr>\n",
       "  </tbody>\n",
       "</table>\n",
       "</div>"
      ],
      "text/plain": [
       "                                         url           brand    price  \\\n",
       "0  /test-sites/e-commerce/static/product/222  Packard 255 G2  $416.99   \n",
       "1  /test-sites/e-commerce/static/product/223   Aspire E1-510  $306.99   \n",
       "\n",
       "  num_reviews rating  \n",
       "0   2 reviews      2  \n",
       "1   2 reviews      3  "
      ]
     },
     "execution_count": 86,
     "metadata": {},
     "output_type": "execute_result"
    }
   ],
   "source": [
    "df.rename(columns={0:'url', 1:'brand', 2:'price', 3:'num_reviews', 4:'rating'},inplace=True)\n",
    "df.head(2)"
   ]
  },
  {
   "cell_type": "code",
   "execution_count": 87,
   "metadata": {},
   "outputs": [
    {
     "data": {
      "text/html": [
       "<div>\n",
       "<style scoped>\n",
       "    .dataframe tbody tr th:only-of-type {\n",
       "        vertical-align: middle;\n",
       "    }\n",
       "\n",
       "    .dataframe tbody tr th {\n",
       "        vertical-align: top;\n",
       "    }\n",
       "\n",
       "    .dataframe thead th {\n",
       "        text-align: right;\n",
       "    }\n",
       "</style>\n",
       "<table border=\"1\" class=\"dataframe\">\n",
       "  <thead>\n",
       "    <tr style=\"text-align: right;\">\n",
       "      <th></th>\n",
       "      <th>url</th>\n",
       "      <th>brand</th>\n",
       "      <th>price</th>\n",
       "      <th>num_reviews</th>\n",
       "      <th>rating</th>\n",
       "    </tr>\n",
       "  </thead>\n",
       "  <tbody>\n",
       "    <tr>\n",
       "      <th>0</th>\n",
       "      <td>/test-sites/e-commerce/static/product/222</td>\n",
       "      <td>Packard 255 G2</td>\n",
       "      <td>416.99</td>\n",
       "      <td>2 reviews</td>\n",
       "      <td>2</td>\n",
       "    </tr>\n",
       "  </tbody>\n",
       "</table>\n",
       "</div>"
      ],
      "text/plain": [
       "                                         url           brand   price  \\\n",
       "0  /test-sites/e-commerce/static/product/222  Packard 255 G2  416.99   \n",
       "\n",
       "  num_reviews rating  \n",
       "0   2 reviews      2  "
      ]
     },
     "execution_count": 87,
     "metadata": {},
     "output_type": "execute_result"
    }
   ],
   "source": [
    "df['price'] = df['price'].astype(str).str.replace('$', '')\n",
    "df.head(1)"
   ]
  },
  {
   "cell_type": "code",
   "execution_count": 88,
   "metadata": {},
   "outputs": [
    {
     "data": {
      "text/html": [
       "<div>\n",
       "<style scoped>\n",
       "    .dataframe tbody tr th:only-of-type {\n",
       "        vertical-align: middle;\n",
       "    }\n",
       "\n",
       "    .dataframe tbody tr th {\n",
       "        vertical-align: top;\n",
       "    }\n",
       "\n",
       "    .dataframe thead th {\n",
       "        text-align: right;\n",
       "    }\n",
       "</style>\n",
       "<table border=\"1\" class=\"dataframe\">\n",
       "  <thead>\n",
       "    <tr style=\"text-align: right;\">\n",
       "      <th></th>\n",
       "      <th>url</th>\n",
       "      <th>brand</th>\n",
       "      <th>price</th>\n",
       "      <th>num_reviews</th>\n",
       "      <th>rating</th>\n",
       "    </tr>\n",
       "  </thead>\n",
       "  <tbody>\n",
       "    <tr>\n",
       "      <th>0</th>\n",
       "      <td>/test-sites/e-commerce/static/product/222</td>\n",
       "      <td>Packard 255 G2</td>\n",
       "      <td>416.99</td>\n",
       "      <td>2</td>\n",
       "      <td>2</td>\n",
       "    </tr>\n",
       "  </tbody>\n",
       "</table>\n",
       "</div>"
      ],
      "text/plain": [
       "                                         url           brand   price  \\\n",
       "0  /test-sites/e-commerce/static/product/222  Packard 255 G2  416.99   \n",
       "\n",
       "  num_reviews rating  \n",
       "0          2       2  "
      ]
     },
     "execution_count": 88,
     "metadata": {},
     "output_type": "execute_result"
    }
   ],
   "source": [
    "df['num_reviews'] = df['num_reviews'].astype(str).str.replace('reviews', '')\n",
    "df.head(1)"
   ]
  },
  {
   "cell_type": "code",
   "execution_count": 89,
   "metadata": {},
   "outputs": [
    {
     "data": {
      "text/html": [
       "<div>\n",
       "<style scoped>\n",
       "    .dataframe tbody tr th:only-of-type {\n",
       "        vertical-align: middle;\n",
       "    }\n",
       "\n",
       "    .dataframe tbody tr th {\n",
       "        vertical-align: top;\n",
       "    }\n",
       "\n",
       "    .dataframe thead th {\n",
       "        text-align: right;\n",
       "    }\n",
       "</style>\n",
       "<table border=\"1\" class=\"dataframe\">\n",
       "  <thead>\n",
       "    <tr style=\"text-align: right;\">\n",
       "      <th></th>\n",
       "      <th>url</th>\n",
       "      <th>brand</th>\n",
       "      <th>price</th>\n",
       "      <th>num_reviews</th>\n",
       "      <th>rating</th>\n",
       "    </tr>\n",
       "  </thead>\n",
       "  <tbody>\n",
       "    <tr>\n",
       "      <th>0</th>\n",
       "      <td>/test-sites/e-commerce/static/product/222</td>\n",
       "      <td>packard 255 g2</td>\n",
       "      <td>416.99</td>\n",
       "      <td>2</td>\n",
       "      <td>2</td>\n",
       "    </tr>\n",
       "  </tbody>\n",
       "</table>\n",
       "</div>"
      ],
      "text/plain": [
       "                                         url           brand   price  \\\n",
       "0  /test-sites/e-commerce/static/product/222  packard 255 g2  416.99   \n",
       "\n",
       "  num_reviews rating  \n",
       "0          2       2  "
      ]
     },
     "execution_count": 89,
     "metadata": {},
     "output_type": "execute_result"
    }
   ],
   "source": [
    "df['brand'] = df['brand'].astype(str).str.lower()\n",
    "df.head(1)"
   ]
  },
  {
   "cell_type": "code",
   "execution_count": 90,
   "metadata": {},
   "outputs": [],
   "source": [
    "df['url'] = \"http://webscraperio.us-east-1.elasticbeanstalk.com/\" + df['url']"
   ]
  },
  {
   "cell_type": "code",
   "execution_count": 91,
   "metadata": {},
   "outputs": [
    {
     "data": {
      "text/html": [
       "<div>\n",
       "<style scoped>\n",
       "    .dataframe tbody tr th:only-of-type {\n",
       "        vertical-align: middle;\n",
       "    }\n",
       "\n",
       "    .dataframe tbody tr th {\n",
       "        vertical-align: top;\n",
       "    }\n",
       "\n",
       "    .dataframe thead th {\n",
       "        text-align: right;\n",
       "    }\n",
       "</style>\n",
       "<table border=\"1\" class=\"dataframe\">\n",
       "  <thead>\n",
       "    <tr style=\"text-align: right;\">\n",
       "      <th></th>\n",
       "      <th>url</th>\n",
       "      <th>brand</th>\n",
       "      <th>price</th>\n",
       "      <th>num_reviews</th>\n",
       "      <th>rating</th>\n",
       "    </tr>\n",
       "  </thead>\n",
       "  <tbody>\n",
       "    <tr>\n",
       "      <th>0</th>\n",
       "      <td>http://webscraperio.us-east-1.elasticbeanstalk...</td>\n",
       "      <td>packard 255 g2</td>\n",
       "      <td>416.99</td>\n",
       "      <td>2</td>\n",
       "      <td>2</td>\n",
       "    </tr>\n",
       "  </tbody>\n",
       "</table>\n",
       "</div>"
      ],
      "text/plain": [
       "                                                 url           brand   price  \\\n",
       "0  http://webscraperio.us-east-1.elasticbeanstalk...  packard 255 g2  416.99   \n",
       "\n",
       "  num_reviews rating  \n",
       "0          2       2  "
      ]
     },
     "execution_count": 91,
     "metadata": {},
     "output_type": "execute_result"
    }
   ],
   "source": [
    "df.head(1)"
   ]
  },
  {
   "cell_type": "code",
   "execution_count": 92,
   "metadata": {},
   "outputs": [
    {
     "name": "stdout",
     "output_type": "stream",
     "text": [
      "<class 'pandas.core.frame.DataFrame'>\n",
      "RangeIndex: 117 entries, 0 to 116\n",
      "Data columns (total 5 columns):\n",
      "url            117 non-null object\n",
      "brand          117 non-null object\n",
      "price          117 non-null object\n",
      "num_reviews    117 non-null object\n",
      "rating         117 non-null object\n",
      "dtypes: object(5)\n",
      "memory usage: 4.6+ KB\n"
     ]
    }
   ],
   "source": [
    "df.info()"
   ]
  },
  {
   "cell_type": "code",
   "execution_count": 93,
   "metadata": {},
   "outputs": [],
   "source": [
    "df['price'] = df['price'].astype(float)"
   ]
  },
  {
   "cell_type": "code",
   "execution_count": 94,
   "metadata": {},
   "outputs": [],
   "source": [
    "df['num_reviews'] = df['num_reviews'].astype(int)"
   ]
  },
  {
   "cell_type": "code",
   "execution_count": 95,
   "metadata": {},
   "outputs": [],
   "source": [
    "df['rating'] = df['rating'].astype(int)"
   ]
  },
  {
   "cell_type": "code",
   "execution_count": 96,
   "metadata": {},
   "outputs": [
    {
     "data": {
      "text/html": [
       "<div>\n",
       "<style scoped>\n",
       "    .dataframe tbody tr th:only-of-type {\n",
       "        vertical-align: middle;\n",
       "    }\n",
       "\n",
       "    .dataframe tbody tr th {\n",
       "        vertical-align: top;\n",
       "    }\n",
       "\n",
       "    .dataframe thead th {\n",
       "        text-align: right;\n",
       "    }\n",
       "</style>\n",
       "<table border=\"1\" class=\"dataframe\">\n",
       "  <thead>\n",
       "    <tr style=\"text-align: right;\">\n",
       "      <th></th>\n",
       "      <th>url</th>\n",
       "      <th>brand</th>\n",
       "      <th>price</th>\n",
       "      <th>num_reviews</th>\n",
       "      <th>rating</th>\n",
       "    </tr>\n",
       "  </thead>\n",
       "  <tbody>\n",
       "    <tr>\n",
       "      <th>0</th>\n",
       "      <td>http://webscraperio.us-east-1.elasticbeanstalk...</td>\n",
       "      <td>[packard, 255, g2]</td>\n",
       "      <td>416.99</td>\n",
       "      <td>2</td>\n",
       "      <td>2</td>\n",
       "    </tr>\n",
       "  </tbody>\n",
       "</table>\n",
       "</div>"
      ],
      "text/plain": [
       "                                                 url               brand  \\\n",
       "0  http://webscraperio.us-east-1.elasticbeanstalk...  [packard, 255, g2]   \n",
       "\n",
       "    price  num_reviews  rating  \n",
       "0  416.99            2       2  "
      ]
     },
     "execution_count": 96,
     "metadata": {},
     "output_type": "execute_result"
    }
   ],
   "source": [
    "df['brand'] = df['brand'].str.split()\n",
    "df.head(1)"
   ]
  },
  {
   "cell_type": "code",
   "execution_count": 103,
   "metadata": {},
   "outputs": [
    {
     "name": "stderr",
     "output_type": "stream",
     "text": [
      "/Users/Eric/anaconda2/lib/python2.7/site-packages/ipykernel_launcher.py:2: SettingWithCopyWarning: \n",
      "A value is trying to be set on a copy of a slice from a DataFrame\n",
      "\n",
      "See the caveats in the documentation: http://pandas.pydata.org/pandas-docs/stable/indexing.html#indexing-view-versus-copy\n",
      "  \n"
     ]
    },
    {
     "data": {
      "text/html": [
       "<div>\n",
       "<style scoped>\n",
       "    .dataframe tbody tr th:only-of-type {\n",
       "        vertical-align: middle;\n",
       "    }\n",
       "\n",
       "    .dataframe tbody tr th {\n",
       "        vertical-align: top;\n",
       "    }\n",
       "\n",
       "    .dataframe thead th {\n",
       "        text-align: right;\n",
       "    }\n",
       "</style>\n",
       "<table border=\"1\" class=\"dataframe\">\n",
       "  <thead>\n",
       "    <tr style=\"text-align: right;\">\n",
       "      <th></th>\n",
       "      <th>url</th>\n",
       "      <th>brand</th>\n",
       "      <th>price</th>\n",
       "      <th>num_reviews</th>\n",
       "      <th>rating</th>\n",
       "    </tr>\n",
       "  </thead>\n",
       "  <tbody>\n",
       "    <tr>\n",
       "      <th>0</th>\n",
       "      <td>http://webscraperio.us-east-1.elasticbeanstalk...</td>\n",
       "      <td>packard</td>\n",
       "      <td>416.99</td>\n",
       "      <td>2</td>\n",
       "      <td>2</td>\n",
       "    </tr>\n",
       "  </tbody>\n",
       "</table>\n",
       "</div>"
      ],
      "text/plain": [
       "                                                 url    brand   price  \\\n",
       "0  http://webscraperio.us-east-1.elasticbeanstalk...  packard  416.99   \n",
       "\n",
       "   num_reviews  rating  \n",
       "0            2       2  "
      ]
     },
     "execution_count": 103,
     "metadata": {},
     "output_type": "execute_result"
    }
   ],
   "source": [
    "for index, row in df.iterrows():\n",
    "    df['brand'][index] = df['brand'][index][0]\n",
    "df.head(1)"
   ]
  },
  {
   "cell_type": "code",
   "execution_count": 104,
   "metadata": {},
   "outputs": [
    {
     "data": {
      "text/plain": [
       "16"
      ]
     },
     "execution_count": 104,
     "metadata": {},
     "output_type": "execute_result"
    }
   ],
   "source": [
    "df['brand'].nunique()"
   ]
  },
  {
   "cell_type": "code",
   "execution_count": 105,
   "metadata": {},
   "outputs": [
    {
     "data": {
      "text/plain": [
       "brand\n",
       "acer         25\n",
       "apple         3\n",
       "aspire        2\n",
       "asus         19\n",
       "dell         20\n",
       "hewlett       3\n",
       "hp            2\n",
       "inspiron      1\n",
       "lenovo       20\n",
       "msi           7\n",
       "packard       1\n",
       "pavilion      1\n",
       "prestigio     2\n",
       "probook       1\n",
       "thinkpad      5\n",
       "toshiba       5\n",
       "dtype: int64"
      ]
     },
     "execution_count": 105,
     "metadata": {},
     "output_type": "execute_result"
    }
   ],
   "source": [
    "df.groupby('brand').size()"
   ]
  },
  {
   "cell_type": "code",
   "execution_count": 107,
   "metadata": {},
   "outputs": [
    {
     "data": {
      "text/html": [
       "<div>\n",
       "<style scoped>\n",
       "    .dataframe tbody tr th:only-of-type {\n",
       "        vertical-align: middle;\n",
       "    }\n",
       "\n",
       "    .dataframe tbody tr th {\n",
       "        vertical-align: top;\n",
       "    }\n",
       "\n",
       "    .dataframe thead th {\n",
       "        text-align: right;\n",
       "    }\n",
       "</style>\n",
       "<table border=\"1\" class=\"dataframe\">\n",
       "  <thead>\n",
       "    <tr style=\"text-align: right;\">\n",
       "      <th></th>\n",
       "      <th>url</th>\n",
       "      <th>brand</th>\n",
       "      <th>price</th>\n",
       "      <th>num_reviews</th>\n",
       "      <th>rating</th>\n",
       "    </tr>\n",
       "  </thead>\n",
       "  <tbody>\n",
       "    <tr>\n",
       "      <th>0</th>\n",
       "      <td>http://webscraperio.us-east-1.elasticbeanstalk...</td>\n",
       "      <td>packard</td>\n",
       "      <td>416.99</td>\n",
       "      <td>2</td>\n",
       "      <td>2</td>\n",
       "    </tr>\n",
       "  </tbody>\n",
       "</table>\n",
       "</div>"
      ],
      "text/plain": [
       "                                                 url    brand   price  \\\n",
       "0  http://webscraperio.us-east-1.elasticbeanstalk...  packard  416.99   \n",
       "\n",
       "   num_reviews  rating  \n",
       "0            2       2  "
      ]
     },
     "execution_count": 107,
     "metadata": {},
     "output_type": "execute_result"
    }
   ],
   "source": [
    "df['brand'].replace('hewlett', 'hp', inplace=True)\n"
   ]
  },
  {
   "cell_type": "code",
   "execution_count": 108,
   "metadata": {},
   "outputs": [
    {
     "data": {
      "text/html": [
       "<div>\n",
       "<style scoped>\n",
       "    .dataframe tbody tr th:only-of-type {\n",
       "        vertical-align: middle;\n",
       "    }\n",
       "\n",
       "    .dataframe tbody tr th {\n",
       "        vertical-align: top;\n",
       "    }\n",
       "\n",
       "    .dataframe thead th {\n",
       "        text-align: right;\n",
       "    }\n",
       "</style>\n",
       "<table border=\"1\" class=\"dataframe\">\n",
       "  <thead>\n",
       "    <tr style=\"text-align: right;\">\n",
       "      <th></th>\n",
       "      <th>url</th>\n",
       "      <th>brand</th>\n",
       "      <th>price</th>\n",
       "      <th>num_reviews</th>\n",
       "      <th>rating</th>\n",
       "    </tr>\n",
       "  </thead>\n",
       "  <tbody>\n",
       "    <tr>\n",
       "      <th>0</th>\n",
       "      <td>http://webscraperio.us-east-1.elasticbeanstalk...</td>\n",
       "      <td>hp</td>\n",
       "      <td>416.99</td>\n",
       "      <td>2</td>\n",
       "      <td>2</td>\n",
       "    </tr>\n",
       "  </tbody>\n",
       "</table>\n",
       "</div>"
      ],
      "text/plain": [
       "                                                 url brand   price  \\\n",
       "0  http://webscraperio.us-east-1.elasticbeanstalk...    hp  416.99   \n",
       "\n",
       "   num_reviews  rating  \n",
       "0            2       2  "
      ]
     },
     "execution_count": 108,
     "metadata": {},
     "output_type": "execute_result"
    }
   ],
   "source": [
    "df['brand'].replace('packard', 'hp', inplace=True)\n",
    "df.head(1)"
   ]
  },
  {
   "cell_type": "code",
   "execution_count": 113,
   "metadata": {},
   "outputs": [
    {
     "data": {
      "text/plain": [
       "brand\n",
       "acer         25\n",
       "apple         3\n",
       "aspire        2\n",
       "asus         19\n",
       "dell         20\n",
       "hp            6\n",
       "inspiron      1\n",
       "lenovo       20\n",
       "msi           7\n",
       "pavilion      1\n",
       "prestigio     2\n",
       "probook       1\n",
       "thinkpad      5\n",
       "toshiba       5\n",
       "dtype: int64"
      ]
     },
     "execution_count": 113,
     "metadata": {},
     "output_type": "execute_result"
    }
   ],
   "source": [
    "df.groupby('brand').size()"
   ]
  },
  {
   "cell_type": "code",
   "execution_count": 114,
   "metadata": {},
   "outputs": [],
   "source": [
    "df['brand'] = df['brand'].replace({'acer':1, 'apple':2, 'aspire':3, 'asus':4, 'dell':5, 'hp':6, 'inspiron':7, 'lenovo':8, 'msi':9, 'pavilion':10, 'prestigio':11, 'probook':12, 'thinkpad':13, 'toshiba':14})"
   ]
  },
  {
   "cell_type": "code",
   "execution_count": 115,
   "metadata": {},
   "outputs": [
    {
     "data": {
      "text/html": [
       "<div>\n",
       "<style scoped>\n",
       "    .dataframe tbody tr th:only-of-type {\n",
       "        vertical-align: middle;\n",
       "    }\n",
       "\n",
       "    .dataframe tbody tr th {\n",
       "        vertical-align: top;\n",
       "    }\n",
       "\n",
       "    .dataframe thead th {\n",
       "        text-align: right;\n",
       "    }\n",
       "</style>\n",
       "<table border=\"1\" class=\"dataframe\">\n",
       "  <thead>\n",
       "    <tr style=\"text-align: right;\">\n",
       "      <th></th>\n",
       "      <th>url</th>\n",
       "      <th>brand</th>\n",
       "      <th>price</th>\n",
       "      <th>num_reviews</th>\n",
       "      <th>rating</th>\n",
       "    </tr>\n",
       "  </thead>\n",
       "  <tbody>\n",
       "    <tr>\n",
       "      <th>0</th>\n",
       "      <td>http://webscraperio.us-east-1.elasticbeanstalk...</td>\n",
       "      <td>6</td>\n",
       "      <td>416.99</td>\n",
       "      <td>2</td>\n",
       "      <td>2</td>\n",
       "    </tr>\n",
       "    <tr>\n",
       "      <th>1</th>\n",
       "      <td>http://webscraperio.us-east-1.elasticbeanstalk...</td>\n",
       "      <td>3</td>\n",
       "      <td>306.99</td>\n",
       "      <td>2</td>\n",
       "      <td>3</td>\n",
       "    </tr>\n",
       "    <tr>\n",
       "      <th>2</th>\n",
       "      <td>http://webscraperio.us-east-1.elasticbeanstalk...</td>\n",
       "      <td>13</td>\n",
       "      <td>1178.99</td>\n",
       "      <td>2</td>\n",
       "      <td>1</td>\n",
       "    </tr>\n",
       "    <tr>\n",
       "      <th>3</th>\n",
       "      <td>http://webscraperio.us-east-1.elasticbeanstalk...</td>\n",
       "      <td>12</td>\n",
       "      <td>739.99</td>\n",
       "      <td>8</td>\n",
       "      <td>4</td>\n",
       "    </tr>\n",
       "    <tr>\n",
       "      <th>4</th>\n",
       "      <td>http://webscraperio.us-east-1.elasticbeanstalk...</td>\n",
       "      <td>13</td>\n",
       "      <td>1311.99</td>\n",
       "      <td>12</td>\n",
       "      <td>3</td>\n",
       "    </tr>\n",
       "  </tbody>\n",
       "</table>\n",
       "</div>"
      ],
      "text/plain": [
       "                                                 url  brand    price  \\\n",
       "0  http://webscraperio.us-east-1.elasticbeanstalk...      6   416.99   \n",
       "1  http://webscraperio.us-east-1.elasticbeanstalk...      3   306.99   \n",
       "2  http://webscraperio.us-east-1.elasticbeanstalk...     13  1178.99   \n",
       "3  http://webscraperio.us-east-1.elasticbeanstalk...     12   739.99   \n",
       "4  http://webscraperio.us-east-1.elasticbeanstalk...     13  1311.99   \n",
       "\n",
       "   num_reviews  rating  \n",
       "0            2       2  \n",
       "1            2       3  \n",
       "2            2       1  \n",
       "3            8       4  \n",
       "4           12       3  "
      ]
     },
     "execution_count": 115,
     "metadata": {},
     "output_type": "execute_result"
    }
   ],
   "source": [
    "df.head(5)"
   ]
  },
  {
   "cell_type": "markdown",
   "metadata": {},
   "source": [
    "## Question 4: Data anlysis and descriptive analytics"
   ]
  },
  {
   "cell_type": "code",
   "execution_count": 116,
   "metadata": {},
   "outputs": [],
   "source": [
    "import seaborn as sns\n",
    "from scipy import stats\n",
    "import matplotlib.pyplot as plt\n",
    "%matplotlib inline"
   ]
  },
  {
   "cell_type": "code",
   "execution_count": 117,
   "metadata": {},
   "outputs": [
    {
     "name": "stdout",
     "output_type": "stream",
     "text": [
      "<class 'pandas.core.frame.DataFrame'>\n",
      "RangeIndex: 117 entries, 0 to 116\n",
      "Data columns (total 5 columns):\n",
      "url            117 non-null object\n",
      "brand          117 non-null int64\n",
      "price          117 non-null float64\n",
      "num_reviews    117 non-null int64\n",
      "rating         117 non-null int64\n",
      "dtypes: float64(1), int64(3), object(1)\n",
      "memory usage: 4.6+ KB\n"
     ]
    }
   ],
   "source": [
    "df.info()"
   ]
  },
  {
   "cell_type": "code",
   "execution_count": 118,
   "metadata": {},
   "outputs": [
    {
     "data": {
      "text/html": [
       "<div>\n",
       "<style scoped>\n",
       "    .dataframe tbody tr th:only-of-type {\n",
       "        vertical-align: middle;\n",
       "    }\n",
       "\n",
       "    .dataframe tbody tr th {\n",
       "        vertical-align: top;\n",
       "    }\n",
       "\n",
       "    .dataframe thead th {\n",
       "        text-align: right;\n",
       "    }\n",
       "</style>\n",
       "<table border=\"1\" class=\"dataframe\">\n",
       "  <thead>\n",
       "    <tr style=\"text-align: right;\">\n",
       "      <th></th>\n",
       "      <th>brand</th>\n",
       "      <th>price</th>\n",
       "      <th>num_reviews</th>\n",
       "      <th>rating</th>\n",
       "    </tr>\n",
       "  </thead>\n",
       "  <tbody>\n",
       "    <tr>\n",
       "      <th>count</th>\n",
       "      <td>117.000000</td>\n",
       "      <td>117.000000</td>\n",
       "      <td>117.000000</td>\n",
       "      <td>117.000000</td>\n",
       "    </tr>\n",
       "    <tr>\n",
       "      <th>mean</th>\n",
       "      <td>5.623932</td>\n",
       "      <td>909.393846</td>\n",
       "      <td>6.897436</td>\n",
       "      <td>2.341880</td>\n",
       "    </tr>\n",
       "    <tr>\n",
       "      <th>std</th>\n",
       "      <td>3.692318</td>\n",
       "      <td>401.311429</td>\n",
       "      <td>4.255594</td>\n",
       "      <td>1.107672</td>\n",
       "    </tr>\n",
       "    <tr>\n",
       "      <th>min</th>\n",
       "      <td>1.000000</td>\n",
       "      <td>295.990000</td>\n",
       "      <td>0.000000</td>\n",
       "      <td>1.000000</td>\n",
       "    </tr>\n",
       "    <tr>\n",
       "      <th>25%</th>\n",
       "      <td>3.000000</td>\n",
       "      <td>469.100000</td>\n",
       "      <td>3.000000</td>\n",
       "      <td>1.000000</td>\n",
       "    </tr>\n",
       "    <tr>\n",
       "      <th>50%</th>\n",
       "      <td>5.000000</td>\n",
       "      <td>1102.660000</td>\n",
       "      <td>7.000000</td>\n",
       "      <td>2.000000</td>\n",
       "    </tr>\n",
       "    <tr>\n",
       "      <th>75%</th>\n",
       "      <td>8.000000</td>\n",
       "      <td>1221.580000</td>\n",
       "      <td>10.000000</td>\n",
       "      <td>3.000000</td>\n",
       "    </tr>\n",
       "    <tr>\n",
       "      <th>max</th>\n",
       "      <td>14.000000</td>\n",
       "      <td>1799.000000</td>\n",
       "      <td>14.000000</td>\n",
       "      <td>4.000000</td>\n",
       "    </tr>\n",
       "  </tbody>\n",
       "</table>\n",
       "</div>"
      ],
      "text/plain": [
       "            brand        price  num_reviews      rating\n",
       "count  117.000000   117.000000   117.000000  117.000000\n",
       "mean     5.623932   909.393846     6.897436    2.341880\n",
       "std      3.692318   401.311429     4.255594    1.107672\n",
       "min      1.000000   295.990000     0.000000    1.000000\n",
       "25%      3.000000   469.100000     3.000000    1.000000\n",
       "50%      5.000000  1102.660000     7.000000    2.000000\n",
       "75%      8.000000  1221.580000    10.000000    3.000000\n",
       "max     14.000000  1799.000000    14.000000    4.000000"
      ]
     },
     "execution_count": 118,
     "metadata": {},
     "output_type": "execute_result"
    }
   ],
   "source": [
    "df.describe()"
   ]
  },
  {
   "cell_type": "code",
   "execution_count": 119,
   "metadata": {},
   "outputs": [
    {
     "data": {
      "text/plain": [
       "rating\n",
       "1    37\n",
       "2    24\n",
       "3    35\n",
       "4    21\n",
       "dtype: int64"
      ]
     },
     "execution_count": 119,
     "metadata": {},
     "output_type": "execute_result"
    }
   ],
   "source": [
    "# Number of ratings per category\n",
    "df.groupby('rating').size()"
   ]
  },
  {
   "cell_type": "code",
   "execution_count": 120,
   "metadata": {},
   "outputs": [
    {
     "data": {
      "text/plain": [
       "<matplotlib.axes._subplots.AxesSubplot at 0x1a33f85110>"
      ]
     },
     "execution_count": 120,
     "metadata": {},
     "output_type": "execute_result"
    },
    {
     "data": {
      "image/png": "[encoded data removed]",
      "text/plain": [
       "<Figure size 432x288 with 1 Axes>"
      ]
     },
     "metadata": {},
     "output_type": "display_data"
    }
   ],
   "source": [
    "df.groupby('rating').size().plot(kind='bar')"
   ]
  },
  {
   "cell_type": "code",
   "execution_count": 53,
   "metadata": {},
   "outputs": [
    {
     "data": {
      "text/html": [
       "<div>\n",
       "<style scoped>\n",
       "    .dataframe tbody tr th:only-of-type {\n",
       "        vertical-align: middle;\n",
       "    }\n",
       "\n",
       "    .dataframe tbody tr th {\n",
       "        vertical-align: top;\n",
       "    }\n",
       "\n",
       "    .dataframe thead th {\n",
       "        text-align: right;\n",
       "    }\n",
       "</style>\n",
       "<table border=\"1\" class=\"dataframe\">\n",
       "  <thead>\n",
       "    <tr style=\"text-align: right;\">\n",
       "      <th>rating</th>\n",
       "      <th>1</th>\n",
       "      <th>2</th>\n",
       "      <th>3</th>\n",
       "      <th>4</th>\n",
       "    </tr>\n",
       "    <tr>\n",
       "      <th>num_reviews</th>\n",
       "      <th></th>\n",
       "      <th></th>\n",
       "      <th></th>\n",
       "      <th></th>\n",
       "    </tr>\n",
       "  </thead>\n",
       "  <tbody>\n",
       "    <tr>\n",
       "      <th>0</th>\n",
       "      <td>4.0</td>\n",
       "      <td>3.0</td>\n",
       "      <td>NaN</td>\n",
       "      <td>1.0</td>\n",
       "    </tr>\n",
       "    <tr>\n",
       "      <th>1</th>\n",
       "      <td>2.0</td>\n",
       "      <td>1.0</td>\n",
       "      <td>2.0</td>\n",
       "      <td>2.0</td>\n",
       "    </tr>\n",
       "    <tr>\n",
       "      <th>2</th>\n",
       "      <td>7.0</td>\n",
       "      <td>3.0</td>\n",
       "      <td>2.0</td>\n",
       "      <td>1.0</td>\n",
       "    </tr>\n",
       "    <tr>\n",
       "      <th>3</th>\n",
       "      <td>NaN</td>\n",
       "      <td>NaN</td>\n",
       "      <td>1.0</td>\n",
       "      <td>1.0</td>\n",
       "    </tr>\n",
       "    <tr>\n",
       "      <th>4</th>\n",
       "      <td>3.0</td>\n",
       "      <td>2.0</td>\n",
       "      <td>3.0</td>\n",
       "      <td>1.0</td>\n",
       "    </tr>\n",
       "    <tr>\n",
       "      <th>5</th>\n",
       "      <td>1.0</td>\n",
       "      <td>NaN</td>\n",
       "      <td>4.0</td>\n",
       "      <td>1.0</td>\n",
       "    </tr>\n",
       "    <tr>\n",
       "      <th>6</th>\n",
       "      <td>2.0</td>\n",
       "      <td>1.0</td>\n",
       "      <td>2.0</td>\n",
       "      <td>1.0</td>\n",
       "    </tr>\n",
       "    <tr>\n",
       "      <th>7</th>\n",
       "      <td>5.0</td>\n",
       "      <td>2.0</td>\n",
       "      <td>2.0</td>\n",
       "      <td>2.0</td>\n",
       "    </tr>\n",
       "    <tr>\n",
       "      <th>8</th>\n",
       "      <td>2.0</td>\n",
       "      <td>1.0</td>\n",
       "      <td>5.0</td>\n",
       "      <td>2.0</td>\n",
       "    </tr>\n",
       "    <tr>\n",
       "      <th>9</th>\n",
       "      <td>4.0</td>\n",
       "      <td>2.0</td>\n",
       "      <td>3.0</td>\n",
       "      <td>1.0</td>\n",
       "    </tr>\n",
       "    <tr>\n",
       "      <th>10</th>\n",
       "      <td>NaN</td>\n",
       "      <td>2.0</td>\n",
       "      <td>4.0</td>\n",
       "      <td>2.0</td>\n",
       "    </tr>\n",
       "    <tr>\n",
       "      <th>11</th>\n",
       "      <td>2.0</td>\n",
       "      <td>2.0</td>\n",
       "      <td>2.0</td>\n",
       "      <td>NaN</td>\n",
       "    </tr>\n",
       "    <tr>\n",
       "      <th>12</th>\n",
       "      <td>2.0</td>\n",
       "      <td>3.0</td>\n",
       "      <td>2.0</td>\n",
       "      <td>1.0</td>\n",
       "    </tr>\n",
       "    <tr>\n",
       "      <th>13</th>\n",
       "      <td>2.0</td>\n",
       "      <td>2.0</td>\n",
       "      <td>NaN</td>\n",
       "      <td>1.0</td>\n",
       "    </tr>\n",
       "    <tr>\n",
       "      <th>14</th>\n",
       "      <td>1.0</td>\n",
       "      <td>NaN</td>\n",
       "      <td>3.0</td>\n",
       "      <td>4.0</td>\n",
       "    </tr>\n",
       "  </tbody>\n",
       "</table>\n",
       "</div>"
      ],
      "text/plain": [
       "rating         1    2    3    4\n",
       "num_reviews                    \n",
       "0            4.0  3.0  NaN  1.0\n",
       "1            2.0  1.0  2.0  2.0\n",
       "2            7.0  3.0  2.0  1.0\n",
       "3            NaN  NaN  1.0  1.0\n",
       "4            3.0  2.0  3.0  1.0\n",
       "5            1.0  NaN  4.0  1.0\n",
       "6            2.0  1.0  2.0  1.0\n",
       "7            5.0  2.0  2.0  2.0\n",
       "8            2.0  1.0  5.0  2.0\n",
       "9            4.0  2.0  3.0  1.0\n",
       "10           NaN  2.0  4.0  2.0\n",
       "11           2.0  2.0  2.0  NaN\n",
       "12           2.0  3.0  2.0  1.0\n",
       "13           2.0  2.0  NaN  1.0\n",
       "14           1.0  NaN  3.0  4.0"
      ]
     },
     "execution_count": 53,
     "metadata": {},
     "output_type": "execute_result"
    }
   ],
   "source": [
    "# Number of ratings in each rating category grouped by number of reviews\n",
    "df.groupby(['num_reviews','rating']).size().unstack()"
   ]
  },
  {
   "cell_type": "code",
   "execution_count": 121,
   "metadata": {},
   "outputs": [
    {
     "data": {
      "text/html": [
       "<div>\n",
       "<style scoped>\n",
       "    .dataframe tbody tr th:only-of-type {\n",
       "        vertical-align: middle;\n",
       "    }\n",
       "\n",
       "    .dataframe tbody tr th {\n",
       "        vertical-align: top;\n",
       "    }\n",
       "\n",
       "    .dataframe thead th {\n",
       "        text-align: right;\n",
       "    }\n",
       "</style>\n",
       "<table border=\"1\" class=\"dataframe\">\n",
       "  <thead>\n",
       "    <tr style=\"text-align: right;\">\n",
       "      <th></th>\n",
       "      <th>brand</th>\n",
       "      <th>price</th>\n",
       "      <th>num_reviews</th>\n",
       "      <th>rating</th>\n",
       "    </tr>\n",
       "  </thead>\n",
       "  <tbody>\n",
       "    <tr>\n",
       "      <th>brand</th>\n",
       "      <td>1.000000</td>\n",
       "      <td>0.246516</td>\n",
       "      <td>0.147301</td>\n",
       "      <td>-0.084222</td>\n",
       "    </tr>\n",
       "    <tr>\n",
       "      <th>price</th>\n",
       "      <td>0.246516</td>\n",
       "      <td>1.000000</td>\n",
       "      <td>0.076006</td>\n",
       "      <td>-0.095653</td>\n",
       "    </tr>\n",
       "    <tr>\n",
       "      <th>num_reviews</th>\n",
       "      <td>0.147301</td>\n",
       "      <td>0.076006</td>\n",
       "      <td>1.000000</td>\n",
       "      <td>0.168439</td>\n",
       "    </tr>\n",
       "    <tr>\n",
       "      <th>rating</th>\n",
       "      <td>-0.084222</td>\n",
       "      <td>-0.095653</td>\n",
       "      <td>0.168439</td>\n",
       "      <td>1.000000</td>\n",
       "    </tr>\n",
       "  </tbody>\n",
       "</table>\n",
       "</div>"
      ],
      "text/plain": [
       "                brand     price  num_reviews    rating\n",
       "brand        1.000000  0.246516     0.147301 -0.084222\n",
       "price        0.246516  1.000000     0.076006 -0.095653\n",
       "num_reviews  0.147301  0.076006     1.000000  0.168439\n",
       "rating      -0.084222 -0.095653     0.168439  1.000000"
      ]
     },
     "execution_count": 121,
     "metadata": {},
     "output_type": "execute_result"
    }
   ],
   "source": [
    "df.corr()"
   ]
  },
  {
   "cell_type": "code",
   "execution_count": 122,
   "metadata": {},
   "outputs": [
    {
     "data": {
      "text/plain": [
       "<matplotlib.axes._subplots.AxesSubplot at 0x1a39991150>"
      ]
     },
     "execution_count": 122,
     "metadata": {},
     "output_type": "execute_result"
    },
    {
     "data": {
      "image/png": "[encoded data removed]",
      "text/plain": [
       "<Figure size 576x576 with 2 Axes>"
      ]
     },
     "metadata": {},
     "output_type": "display_data"
    }
   ],
   "source": [
    "plt.figure(figsize=(8,8))\n",
    "sns.heatmap(df.corr(),vmax=.8, square=True)"
   ]
  },
  {
   "cell_type": "code",
   "execution_count": 132,
   "metadata": {},
   "outputs": [
    {
     "data": {
      "text/html": [
       "<div>\n",
       "<style scoped>\n",
       "    .dataframe tbody tr th:only-of-type {\n",
       "        vertical-align: middle;\n",
       "    }\n",
       "\n",
       "    .dataframe tbody tr th {\n",
       "        vertical-align: top;\n",
       "    }\n",
       "\n",
       "    .dataframe thead th {\n",
       "        text-align: right;\n",
       "    }\n",
       "</style>\n",
       "<table border=\"1\" class=\"dataframe\">\n",
       "  <thead>\n",
       "    <tr style=\"text-align: right;\">\n",
       "      <th></th>\n",
       "      <th></th>\n",
       "      <th>price</th>\n",
       "      <th>num_reviews</th>\n",
       "    </tr>\n",
       "    <tr>\n",
       "      <th>brand</th>\n",
       "      <th>rating</th>\n",
       "      <th></th>\n",
       "      <th></th>\n",
       "    </tr>\n",
       "  </thead>\n",
       "  <tbody>\n",
       "    <tr>\n",
       "      <th rowspan=\"4\" valign=\"top\">1</th>\n",
       "      <th>1</th>\n",
       "      <td>754.646667</td>\n",
       "      <td>3.500000</td>\n",
       "    </tr>\n",
       "    <tr>\n",
       "      <th>2</th>\n",
       "      <td>707.393333</td>\n",
       "      <td>2.666667</td>\n",
       "    </tr>\n",
       "    <tr>\n",
       "      <th>3</th>\n",
       "      <td>660.500000</td>\n",
       "      <td>8.714286</td>\n",
       "    </tr>\n",
       "    <tr>\n",
       "      <th>4</th>\n",
       "      <td>420.885000</td>\n",
       "      <td>8.500000</td>\n",
       "    </tr>\n",
       "    <tr>\n",
       "      <th rowspan=\"3\" valign=\"top\">2</th>\n",
       "      <th>1</th>\n",
       "      <td>1333.000000</td>\n",
       "      <td>0.000000</td>\n",
       "    </tr>\n",
       "    <tr>\n",
       "      <th>2</th>\n",
       "      <td>1347.780000</td>\n",
       "      <td>11.000000</td>\n",
       "    </tr>\n",
       "    <tr>\n",
       "      <th>4</th>\n",
       "      <td>1260.130000</td>\n",
       "      <td>8.000000</td>\n",
       "    </tr>\n",
       "    <tr>\n",
       "      <th rowspan=\"2\" valign=\"top\">3</th>\n",
       "      <th>1</th>\n",
       "      <td>581.990000</td>\n",
       "      <td>2.000000</td>\n",
       "    </tr>\n",
       "    <tr>\n",
       "      <th>3</th>\n",
       "      <td>306.990000</td>\n",
       "      <td>2.000000</td>\n",
       "    </tr>\n",
       "    <tr>\n",
       "      <th rowspan=\"4\" valign=\"top\">4</th>\n",
       "      <th>1</th>\n",
       "      <td>978.518571</td>\n",
       "      <td>5.714286</td>\n",
       "    </tr>\n",
       "    <tr>\n",
       "      <th>2</th>\n",
       "      <td>1045.440000</td>\n",
       "      <td>7.000000</td>\n",
       "    </tr>\n",
       "    <tr>\n",
       "      <th>3</th>\n",
       "      <td>1020.418000</td>\n",
       "      <td>8.000000</td>\n",
       "    </tr>\n",
       "    <tr>\n",
       "      <th>4</th>\n",
       "      <td>959.662500</td>\n",
       "      <td>5.250000</td>\n",
       "    </tr>\n",
       "    <tr>\n",
       "      <th rowspan=\"4\" valign=\"top\">5</th>\n",
       "      <th>1</th>\n",
       "      <td>1075.131667</td>\n",
       "      <td>7.500000</td>\n",
       "    </tr>\n",
       "    <tr>\n",
       "      <th>2</th>\n",
       "      <td>1085.246667</td>\n",
       "      <td>6.000000</td>\n",
       "    </tr>\n",
       "    <tr>\n",
       "      <th>3</th>\n",
       "      <td>1209.801250</td>\n",
       "      <td>6.250000</td>\n",
       "    </tr>\n",
       "    <tr>\n",
       "      <th>4</th>\n",
       "      <td>922.000000</td>\n",
       "      <td>11.000000</td>\n",
       "    </tr>\n",
       "    <tr>\n",
       "      <th rowspan=\"3\" valign=\"top\">6</th>\n",
       "      <th>1</th>\n",
       "      <td>845.645000</td>\n",
       "      <td>7.000000</td>\n",
       "    </tr>\n",
       "    <tr>\n",
       "      <th>2</th>\n",
       "      <td>505.323333</td>\n",
       "      <td>8.333333</td>\n",
       "    </tr>\n",
       "    <tr>\n",
       "      <th>3</th>\n",
       "      <td>1273.110000</td>\n",
       "      <td>8.000000</td>\n",
       "    </tr>\n",
       "    <tr>\n",
       "      <th>7</th>\n",
       "      <th>3</th>\n",
       "      <td>745.990000</td>\n",
       "      <td>12.000000</td>\n",
       "    </tr>\n",
       "    <tr>\n",
       "      <th rowspan=\"4\" valign=\"top\">8</th>\n",
       "      <th>1</th>\n",
       "      <td>838.330000</td>\n",
       "      <td>9.250000</td>\n",
       "    </tr>\n",
       "    <tr>\n",
       "      <th>2</th>\n",
       "      <td>762.198000</td>\n",
       "      <td>8.200000</td>\n",
       "    </tr>\n",
       "    <tr>\n",
       "      <th>3</th>\n",
       "      <td>807.595000</td>\n",
       "      <td>8.000000</td>\n",
       "    </tr>\n",
       "    <tr>\n",
       "      <th>4</th>\n",
       "      <td>1140.363333</td>\n",
       "      <td>5.000000</td>\n",
       "    </tr>\n",
       "    <tr>\n",
       "      <th rowspan=\"4\" valign=\"top\">9</th>\n",
       "      <th>1</th>\n",
       "      <td>1156.500000</td>\n",
       "      <td>7.250000</td>\n",
       "    </tr>\n",
       "    <tr>\n",
       "      <th>2</th>\n",
       "      <td>1199.000000</td>\n",
       "      <td>12.000000</td>\n",
       "    </tr>\n",
       "    <tr>\n",
       "      <th>3</th>\n",
       "      <td>1299.000000</td>\n",
       "      <td>1.000000</td>\n",
       "    </tr>\n",
       "    <tr>\n",
       "      <th>4</th>\n",
       "      <td>1099.000000</td>\n",
       "      <td>1.000000</td>\n",
       "    </tr>\n",
       "    <tr>\n",
       "      <th>10</th>\n",
       "      <th>1</th>\n",
       "      <td>609.990000</td>\n",
       "      <td>4.000000</td>\n",
       "    </tr>\n",
       "    <tr>\n",
       "      <th rowspan=\"2\" valign=\"top\">11</th>\n",
       "      <th>2</th>\n",
       "      <td>299.000000</td>\n",
       "      <td>8.000000</td>\n",
       "    </tr>\n",
       "    <tr>\n",
       "      <th>4</th>\n",
       "      <td>299.000000</td>\n",
       "      <td>12.000000</td>\n",
       "    </tr>\n",
       "    <tr>\n",
       "      <th>12</th>\n",
       "      <th>4</th>\n",
       "      <td>739.990000</td>\n",
       "      <td>8.000000</td>\n",
       "    </tr>\n",
       "    <tr>\n",
       "      <th rowspan=\"3\" valign=\"top\">13</th>\n",
       "      <th>1</th>\n",
       "      <td>1178.990000</td>\n",
       "      <td>2.000000</td>\n",
       "    </tr>\n",
       "    <tr>\n",
       "      <th>2</th>\n",
       "      <td>1033.990000</td>\n",
       "      <td>13.000000</td>\n",
       "    </tr>\n",
       "    <tr>\n",
       "      <th>3</th>\n",
       "      <td>1260.323333</td>\n",
       "      <td>8.000000</td>\n",
       "    </tr>\n",
       "    <tr>\n",
       "      <th rowspan=\"2\" valign=\"top\">14</th>\n",
       "      <th>1</th>\n",
       "      <td>1232.412500</td>\n",
       "      <td>6.000000</td>\n",
       "    </tr>\n",
       "    <tr>\n",
       "      <th>4</th>\n",
       "      <td>1203.410000</td>\n",
       "      <td>13.000000</td>\n",
       "    </tr>\n",
       "  </tbody>\n",
       "</table>\n",
       "</div>"
      ],
      "text/plain": [
       "                    price  num_reviews\n",
       "brand rating                          \n",
       "1     1        754.646667     3.500000\n",
       "      2        707.393333     2.666667\n",
       "      3        660.500000     8.714286\n",
       "      4        420.885000     8.500000\n",
       "2     1       1333.000000     0.000000\n",
       "      2       1347.780000    11.000000\n",
       "      4       1260.130000     8.000000\n",
       "3     1        581.990000     2.000000\n",
       "      3        306.990000     2.000000\n",
       "4     1        978.518571     5.714286\n",
       "      2       1045.440000     7.000000\n",
       "      3       1020.418000     8.000000\n",
       "      4        959.662500     5.250000\n",
       "5     1       1075.131667     7.500000\n",
       "      2       1085.246667     6.000000\n",
       "      3       1209.801250     6.250000\n",
       "      4        922.000000    11.000000\n",
       "6     1        845.645000     7.000000\n",
       "      2        505.323333     8.333333\n",
       "      3       1273.110000     8.000000\n",
       "7     3        745.990000    12.000000\n",
       "8     1        838.330000     9.250000\n",
       "      2        762.198000     8.200000\n",
       "      3        807.595000     8.000000\n",
       "      4       1140.363333     5.000000\n",
       "9     1       1156.500000     7.250000\n",
       "      2       1199.000000    12.000000\n",
       "      3       1299.000000     1.000000\n",
       "      4       1099.000000     1.000000\n",
       "10    1        609.990000     4.000000\n",
       "11    2        299.000000     8.000000\n",
       "      4        299.000000    12.000000\n",
       "12    4        739.990000     8.000000\n",
       "13    1       1178.990000     2.000000\n",
       "      2       1033.990000    13.000000\n",
       "      3       1260.323333     8.000000\n",
       "14    1       1232.412500     6.000000\n",
       "      4       1203.410000    13.000000"
      ]
     },
     "execution_count": 132,
     "metadata": {},
     "output_type": "execute_result"
    }
   ],
   "source": [
    "df.groupby(['brand','rating']).mean()"
   ]
  },
  {
   "cell_type": "markdown",
   "metadata": {},
   "source": [
    "#### This groupby is consistent with the general trend that as a computer's price increases, its rating goes down."
   ]
  },
  {
   "cell_type": "code",
   "execution_count": 123,
   "metadata": {},
   "outputs": [
    {
     "data": {
      "text/plain": [
       "<seaborn.axisgrid.FacetGrid at 0x1a34928990>"
      ]
     },
     "execution_count": 123,
     "metadata": {},
     "output_type": "execute_result"
    },
    {
     "data": {
      "image/png": "[encoded data removed]",
      "text/plain": [
       "<Figure size 360x360 with 1 Axes>"
      ]
     },
     "metadata": {},
     "output_type": "display_data"
    }
   ],
   "source": [
    "sns.lmplot('price', 'rating', df)"
   ]
  },
  {
   "cell_type": "code",
   "execution_count": 124,
   "metadata": {},
   "outputs": [
    {
     "data": {
      "text/plain": [
       "<seaborn.axisgrid.FacetGrid at 0x1a39973bd0>"
      ]
     },
     "execution_count": 124,
     "metadata": {},
     "output_type": "execute_result"
    },
    {
     "data": {
      "image/png": "[encoded data removed]",
      "text/plain": [
       "<Figure size 360x360 with 1 Axes>"
      ]
     },
     "metadata": {},
     "output_type": "display_data"
    }
   ],
   "source": [
    "sns.lmplot('num_reviews', 'rating', df)"
   ]
  },
  {
   "cell_type": "code",
   "execution_count": 63,
   "metadata": {},
   "outputs": [],
   "source": [
    "from statsmodels.stats.multicomp import pairwise_tukeyhsd"
   ]
  },
  {
   "cell_type": "code",
   "execution_count": 65,
   "metadata": {},
   "outputs": [
    {
     "name": "stdout",
     "output_type": "stream",
     "text": [
      "Multiple Comparison of Means - Tukey HSD,FWER=0.05\n",
      "============================================\n",
      "group1 group2 meandiff  lower  upper  reject\n",
      "--------------------------------------------\n",
      "  0      1     0.8214  -1.1025 2.7454 False \n",
      "  0      2     0.0192  -1.6512 1.6897 False \n",
      "  0      3      1.75   -1.1889 4.6889 False \n",
      "  0      4     0.4722  -1.3341 2.2786 False \n",
      "  0      5     1.0833  -0.9243 3.091  False \n",
      "  0      6     0.5833  -1.4243 2.591  False \n",
      "  0      7     0.3409  -1.3865 2.0683 False \n",
      "  0      8      0.95   -0.8134 2.7134 False \n",
      "  0      9      0.35   -1.4134 2.1134 False \n",
      "  0      10     1.25   -0.6087 3.1087 False \n",
      "  0      11     0.25   -1.7577 2.2577 False \n",
      "  0      12     0.5    -1.3587 2.3587 False \n",
      "  0      13     0.25   -1.8693 2.3693 False \n",
      "  0      14     1.5    -0.3587 3.3587 False \n",
      "  1      2    -0.8022   -2.545 0.9406 False \n",
      "  1      3     0.9286   -2.052 3.9092 False \n",
      "  1      4    -0.3492  -2.2226 1.5242 False \n",
      "  1      5     0.2619  -1.8063 2.3301 False \n",
      "  1      6    -0.2381  -2.3063 1.8301 False \n",
      "  1      7    -0.4805  -2.2779 1.3169 False \n",
      "  1      8     0.1286  -1.7034 1.9606 False \n",
      "  1      9    -0.4714  -2.3034 1.3606 False \n",
      "  1      10    0.4286  -1.4954 2.3525 False \n",
      "  1      11   -0.5714  -2.6396 1.4968 False \n",
      "  1      12   -0.3214  -2.2454 1.6025 False \n",
      "  1      13   -0.5714  -2.7482 1.6053 False \n",
      "  1      14    0.6786  -1.2454 2.6025 False \n",
      "  2      3     1.7308  -1.0929 4.5544 False \n",
      "  2      4     0.453    -1.159 2.065  False \n",
      "  2      5     1.0641  -0.7706 2.8989 False \n",
      "  2      6     0.5641  -1.2706 2.3989 False \n",
      "  2      7     0.3217  -1.2013 1.8446 False \n",
      "  2      8     0.9308  -0.6329 2.4944 False \n",
      "  2      9     0.3308  -1.2329 1.8944 False \n",
      "  2      10    1.2308  -0.4397 2.9012 False \n",
      "  2      11    0.2308   -1.604 2.0655 False \n",
      "  2      12    0.4808  -1.1897 2.1512 False \n",
      "  2      13    0.2308  -1.7255 2.187  False \n",
      "  2      14    1.4808  -0.1897 3.1512 False \n",
      "  3      4    -1.2778  -4.1839 1.6283 False \n",
      "  3      5    -0.6667   -3.702 2.3686 False \n",
      "  3      6    -1.1667   -4.202 1.8686 False \n",
      "  3      7    -1.4091  -4.2667 1.4486 False \n",
      "  3      8      -0.8   -3.6795 2.0795 False \n",
      "  3      9      -1.4   -4.2795 1.4795 False \n",
      "  3      10     -0.5   -3.4389 2.4389 False \n",
      "  3      11     -1.5   -4.5353 1.5353 False \n",
      "  3      12    -1.25   -4.1889 1.6889 False \n",
      "  3      13     -1.5   -4.6103 1.6103 False \n",
      "  3      14    -0.25   -3.1889 2.6889 False \n",
      "  4      5     0.6111  -1.3482 2.5704 False \n",
      "  4      6     0.1111  -1.8482 2.0704 False \n",
      "  4      7    -0.1313  -1.8022 1.5396 False \n",
      "  4      8     0.4778  -1.2303 2.1858 False \n",
      "  4      9    -0.1222  -1.8303 1.5858 False \n",
      "  4      10    0.7778  -1.0286 2.5841 False \n",
      "  4      11   -0.2222  -2.1815 1.7371 False \n",
      "  4      12    0.0278  -1.7786 1.8341 False \n",
      "  4      13   -0.2222  -2.2957 1.8513 False \n",
      "  4      14    1.0278  -0.7786 2.8341 False \n",
      "  5      6      -0.5   -2.6463 1.6463 False \n",
      "  5      7    -0.7424  -2.6291 1.1443 False \n",
      "  5      8    -0.1333   -2.053 1.7864 False \n",
      "  5      9    -0.7333   -2.653 1.1864 False \n",
      "  5      10    0.1667   -1.841 2.1743 False \n",
      "  5      11   -0.8333  -2.9796 1.313  False \n",
      "  5      12   -0.5833   -2.591 1.4243 False \n",
      "  5      13   -0.8333  -3.0844 1.4177 False \n",
      "  5      14    0.4167   -1.591 2.4243 False \n",
      "  6      7    -0.2424  -2.1291 1.6443 False \n",
      "  6      8     0.3667   -1.553 2.2864 False \n",
      "  6      9    -0.2333   -2.153 1.6864 False \n",
      "  6      10    0.6667   -1.341 2.6743 False \n",
      "  6      11   -0.3333  -2.4796 1.813  False \n",
      "  6      12   -0.0833   -2.091 1.9243 False \n",
      "  6      13   -0.3333  -2.5844 1.9177 False \n",
      "  6      14    0.9167   -1.091 2.9243 False \n",
      "  7      8     0.6091  -1.0152 2.2334 False \n",
      "  7      9     0.0091  -1.6152 1.6334 False \n",
      "  7      10    0.9091  -0.8183 2.6365 False \n",
      "  7      11   -0.0909  -1.9776 1.7958 False \n",
      "  7      12    0.1591  -1.5683 1.8865 False \n",
      "  7      13   -0.0909   -2.096 1.9141 False \n",
      "  7      14    1.1591  -0.5683 2.8865 False \n",
      "  8      9      -0.6   -2.2625 1.0625 False \n",
      "  8      10     0.3    -1.4634 2.0634 False \n",
      "  8      11     -0.7   -2.6197 1.2197 False \n",
      "  8      12    -0.45   -2.2134 1.3134 False \n",
      "  8      13     -0.7   -2.7361 1.3361 False \n",
      "  8      14     0.55   -1.2134 2.3134 False \n",
      "  9      10     0.9    -0.8634 2.6634 False \n",
      "  9      11     -0.1   -2.0197 1.8197 False \n",
      "  9      12     0.15   -1.6134 1.9134 False \n",
      "  9      13     -0.1   -2.1361 1.9361 False \n",
      "  9      14     1.15   -0.6134 2.9134 False \n",
      "  10     11     -1.0   -3.0077 1.0077 False \n",
      "  10     12    -0.75   -2.6087 1.1087 False \n",
      "  10     13     -1.0   -3.1193 1.1193 False \n",
      "  10     14     0.25   -1.6087 2.1087 False \n",
      "  11     12     0.25   -1.7577 2.2577 False \n",
      "  11     13     0.0     -2.251 2.251  False \n",
      "  11     14     1.25   -0.7577 3.2577 False \n",
      "  12     13    -0.25   -2.3693 1.8693 False \n",
      "  12     14     1.0    -0.8587 2.8587 False \n",
      "  13     14     1.25   -0.8693 3.3693 False \n",
      "--------------------------------------------\n"
     ]
    }
   ],
   "source": [
    "print pairwise_tukeyhsd(df['rating'], df['num_reviews'])"
   ]
  },
  {
   "cell_type": "code",
   "execution_count": 125,
   "metadata": {
    "scrolled": true
   },
   "outputs": [
    {
     "name": "stdout",
     "output_type": "stream",
     "text": [
      "Multiple Comparison of Means - Tukey HSD,FWER=0.05\n",
      "============================================\n",
      "group1 group2 meandiff  lower  upper  reject\n",
      "--------------------------------------------\n",
      "  1      2    -0.1867  -2.5348 2.1615 False \n",
      "  1      3     -0.52   -3.3441 2.3041 False \n",
      "  1      4    -0.2042  -1.3739 0.9654 False \n",
      "  1      5     -0.12   -1.2729 1.0329 False \n",
      "  1      6    -0.6867  -2.4338 1.0604 False \n",
      "  1      7      0.48   -3.4392 4.3992 False \n",
      "  1      8     -0.02   -1.1729 1.1329 False \n",
      "  1      9    -0.6629  -2.3062 0.9805 False \n",
      "  1      10    -1.52   -5.4392 2.3992 False \n",
      "  1      11     0.48   -2.3441 3.3041 False \n",
      "  1      12     1.48   -2.4392 5.3992 False \n",
      "  1      13    -0.12   -2.0027 1.7627 False \n",
      "  1      14    -0.92   -2.8027 0.9627 False \n",
      "  2      3    -0.3333  -3.8416 3.1749 False \n",
      "  2      4    -0.0175  -2.4051  2.37  False \n",
      "  2      5     0.0667  -2.3127 2.4461 False \n",
      "  2      6      -0.5   -3.2175 2.2175 False \n",
      "  2      7     0.6667  -3.7709 5.1043 False \n",
      "  2      8     0.1667  -2.2127 2.5461 False \n",
      "  2      9    -0.4762  -3.1282 2.1758 False \n",
      "  2      10   -1.3333  -5.7709 3.1043 False \n",
      "  2      11    0.6667  -2.8416 4.1749 False \n",
      "  2      12    1.6667  -2.7709 6.1043 False \n",
      "  2      13    0.0667  -2.7399 2.8733 False \n",
      "  2      14   -0.7333  -3.5399 2.0733 False \n",
      "  3      4     0.3158  -2.5411 3.1727 False \n",
      "  3      5      0.4    -2.4501 3.2501 False \n",
      "  3      6    -0.1667  -3.3045 2.9712 False \n",
      "  3      7      1.0    -3.7068 5.7068 False \n",
      "  3      8      0.5    -2.3501 3.3501 False \n",
      "  3      9    -0.1429  -3.2242 2.9385 False \n",
      "  3      10     -1.0   -5.7068 3.7068 False \n",
      "  3      11     1.0    -2.8431 4.8431 False \n",
      "  3      12     2.0    -2.7068 6.7068 False \n",
      "  3      13     0.4    -2.8153 3.6153 False \n",
      "  3      14     -0.4   -3.6153 2.8153 False \n",
      "  4      5     0.0842   -1.147 1.3154 False \n",
      "  4      6    -0.4825  -2.2821 1.3172 False \n",
      "  4      7     0.6842  -3.2587 4.6271 False \n",
      "  4      8     0.1842   -1.047 1.4154 False \n",
      "  4      9    -0.4586  -2.1578 1.2405 False \n",
      "  4      10   -1.3158  -5.2587 2.6271 False \n",
      "  4      11    0.6842  -2.1727 3.5411 False \n",
      "  4      12    1.6842  -2.2587 5.6271 False \n",
      "  4      13    0.0842  -1.8474 2.0158 False \n",
      "  4      14   -0.7158  -2.6474 1.2158 False \n",
      "  5      6    -0.5667  -2.3555 1.2222 False \n",
      "  5      7      0.6     -3.338 4.538  False \n",
      "  5      8      0.1    -1.1153 1.3153 False \n",
      "  5      9    -0.5429  -2.2306 1.1448 False \n",
      "  5      10     -1.4    -5.338 2.538  False \n",
      "  5      11     0.6    -2.2501 3.4501 False \n",
      "  5      12     1.6     -2.338 5.538  False \n",
      "  5      13     0.0    -1.9215 1.9215 False \n",
      "  5      14     -0.8   -2.7215 1.1215 False \n",
      "  6      7     1.1667  -2.9843 5.3177 False \n",
      "  6      8     0.6667  -1.1222 2.4555 False \n",
      "  6      9     0.0238  -2.1143 2.1619 False \n",
      "  6      10   -0.8333  -4.9843 3.3177 False \n",
      "  6      11    1.1667  -1.9712 4.3045 False \n",
      "  6      12    2.1667  -1.9843 6.3177 False \n",
      "  6      13    0.5667  -1.7604 2.8938 False \n",
      "  6      14   -0.2333  -2.5604 2.0938 False \n",
      "  7      8      -0.5    -4.438 3.438  False \n",
      "  7      9    -1.1429  -5.2513 2.9656 False \n",
      "  7      10     -2.0   -7.4349 3.4349 False \n",
      "  7      11     0.0    -4.7068 4.7068 False \n",
      "  7      12     1.0    -4.4349 6.4349 False \n",
      "  7      13     -0.6   -4.8099 3.6099 False \n",
      "  7      14     -1.4   -5.6099 2.8099 False \n",
      "  8      9    -0.6429  -2.3306 1.0448 False \n",
      "  8      10     -1.5    -5.438 2.438  False \n",
      "  8      11     0.5    -2.3501 3.3501 False \n",
      "  8      12     1.5     -2.438 5.438  False \n",
      "  8      13     -0.1   -2.0215 1.8215 False \n",
      "  8      14     -0.9   -2.8215 1.0215 False \n",
      "  9      10   -0.8571  -4.9656 3.2513 False \n",
      "  9      11    1.1429  -1.9385 4.2242 False \n",
      "  9      12    2.1429  -1.9656 6.2513 False \n",
      "  9      13    0.5429  -1.7074 2.7931 False \n",
      "  9      14   -0.2571  -2.5074 1.9931 False \n",
      "  10     11     2.0    -2.7068 6.7068 False \n",
      "  10     12     3.0    -2.4349 8.4349 False \n",
      "  10     13     1.4    -2.8099 5.6099 False \n",
      "  10     14     0.6    -3.6099 4.8099 False \n",
      "  11     12     1.0    -3.7068 5.7068 False \n",
      "  11     13     -0.6   -3.8153 2.6153 False \n",
      "  11     14     -1.4   -4.6153 1.8153 False \n",
      "  12     13     -1.6   -5.8099 2.6099 False \n",
      "  12     14     -2.4   -6.6099 1.8099 False \n",
      "  13     14     -0.8   -3.2306 1.6306 False \n",
      "--------------------------------------------\n"
     ]
    }
   ],
   "source": [
    "print pairwise_tukeyhsd(df['rating'], df['brand'])"
   ]
  },
  {
   "cell_type": "markdown",
   "metadata": {},
   "source": [
    "## Question 5: Answering our Original Questions"
   ]
  },
  {
   "cell_type": "markdown",
   "metadata": {},
   "source": [
    "#### #1. Does price impact rating/quality\n",
    "       "
   ]
  },
  {
   "cell_type": "markdown",
   "metadata": {},
   "source": [
    "##### There is a general trend that as price increases, the rating of a computer tends to go down, however there is only a weak negative linear correlation between price and rating."
   ]
  },
  {
   "cell_type": "markdown",
   "metadata": {},
   "source": [
    "#### #2. Does brand impact rating/quality"
   ]
  },
  {
   "cell_type": "markdown",
   "metadata": {},
   "source": [
    "##### After using Tukey's HSD method for multiple comparison, there were no brands that had a signficantly higher or lower rating than any other brand, so we can conclude that brand is not a significant predictor of a product's rating/quality"
   ]
  },
  {
   "cell_type": "markdown",
   "metadata": {},
   "source": [
    "#### #3. Does number of ratings impact rating/quality"
   ]
  },
  {
   "cell_type": "markdown",
   "metadata": {},
   "source": [
    "##### From the linear regression plot, there is a moderate positive linear correlation between the number of reviews a product has and its overall rating/quality. However, after running Tukey's HSD method for multiple comparison, there were no statistical differences in mean rating between any of the number of ratings on a particular product."
   ]
  },
  {
   "cell_type": "markdown",
   "metadata": {},
   "source": [
    "## \"On my honor as a student, I have neither given nor recieved any unauthorized aid on this academic work.\"\n",
    "\n",
    "Eric VanMeerhaeghe"
   ]
  }
 ],
 "metadata": {
  "kernelspec": {
   "display_name": "Python 3",
   "language": "python",
   "name": "python3"
  },
  "language_info": {
   "codemirror_mode": {
    "name": "ipython",
    "version": 3
   },
   "file_extension": ".py",
   "mimetype": "text/x-python",
   "name": "python",
   "nbconvert_exporter": "python",
   "pygments_lexer": "ipython3",
   "version": "3.7.0"
  }
 },
 "nbformat": 4,
 "nbformat_minor": 2
}
